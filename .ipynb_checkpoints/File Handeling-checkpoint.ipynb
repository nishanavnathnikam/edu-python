{
 "cells": [
  {
   "cell_type": "code",
   "execution_count": 1,
   "id": "95f1c85f",
   "metadata": {},
   "outputs": [],
   "source": [
    "import os"
   ]
  },
  {
   "cell_type": "code",
   "execution_count": 3,
   "id": "4245681b",
   "metadata": {},
   "outputs": [
    {
     "data": {
      "text/plain": [
       "'C:\\\\Users\\\\Admin\\\\Documents\\\\GitHub\\\\edu-python'"
      ]
     },
     "execution_count": 3,
     "metadata": {},
     "output_type": "execute_result"
    }
   ],
   "source": [
    "os.getcwd()"
   ]
  },
  {
   "cell_type": "code",
   "execution_count": 4,
   "id": "21f69263",
   "metadata": {},
   "outputs": [],
   "source": [
    "#open,colse\n",
    "#write(w)\n",
    "#append(a)\n",
    "#read(r)"
   ]
  },
  {
   "cell_type": "code",
   "execution_count": 14,
   "id": "5b9a08f3",
   "metadata": {},
   "outputs": [
    {
     "name": "stdout",
     "output_type": "stream",
     "text": [
      "<_io.TextIOWrapper name='nisha_file.txt' mode='r' encoding='cp1252'>\n"
     ]
    }
   ],
   "source": [
    "file=open(\"nisha_file.txt\",'r')\n",
    "print(file)"
   ]
  },
  {
   "cell_type": "code",
   "execution_count": 15,
   "id": "2822c65a",
   "metadata": {},
   "outputs": [
    {
     "name": "stdout",
     "output_type": "stream",
     "text": [
      "<_io.TextIOWrapper name='C:\\\\Users\\\\Admin\\\\Desktop\\\\Nisha\\\\nisha_file.txt' mode='r' encoding='cp1252'>\n"
     ]
    }
   ],
   "source": [
    "file_1=open(\"C:\\\\Users\\\\Admin\\\\Desktop\\\\Nisha\\\\nisha_file.txt\",'r')\n",
    "print(file_1)"
   ]
  },
  {
   "cell_type": "code",
   "execution_count": 16,
   "id": "c7730f8c",
   "metadata": {},
   "outputs": [
    {
     "name": "stdout",
     "output_type": "stream",
     "text": [
      "<_io.TextIOWrapper name='C:\\\\Users\\\\Admin\\\\Desktop\\\\Nisha\\\\nisha_file.txt' mode='r' encoding='cp1252'>\n"
     ]
    }
   ],
   "source": [
    "file_2=open(\"C:\\\\Users\\\\Admin\\\\Desktop\\\\Nisha\\\\nisha_file.txt\",'r')\n",
    "print(file_2)"
   ]
  },
  {
   "cell_type": "code",
   "execution_count": 17,
   "id": "51ad731d",
   "metadata": {},
   "outputs": [
    {
     "name": "stdout",
     "output_type": "stream",
     "text": [
      "Python is a popular programming language.\n",
      "\n",
      "\n",
      "\n",
      "Python can be used on a server to create web applications.\n"
     ]
    }
   ],
   "source": [
    "for each_row in file:\n",
    "    print(each_row)"
   ]
  },
  {
   "cell_type": "code",
   "execution_count": 18,
   "id": "7480dca7",
   "metadata": {},
   "outputs": [
    {
     "name": "stdout",
     "output_type": "stream",
     "text": [
      "Python is a popular programming language. It was created by Guido van Rossum, and released in 1991.\n"
     ]
    }
   ],
   "source": [
    "for each_row1 in file_1:\n",
    "    print(each_row1)"
   ]
  },
  {
   "cell_type": "markdown",
   "id": "30f15f0a",
   "metadata": {},
   "source": [
    "# writing(w)"
   ]
  },
  {
   "cell_type": "code",
   "execution_count": 20,
   "id": "8bee6df1",
   "metadata": {},
   "outputs": [],
   "source": [
    "f_1=open(\"nisha_file.txt\",'w')#data will get over write\n",
    "f_1.write(\"India is my country.\")\n",
    "f_1.write(\"I proud to be an Indian. I am a girl\")\n",
    "f_1.close()\n"
   ]
  },
  {
   "cell_type": "code",
   "execution_count": 21,
   "id": "cdeb1dcb",
   "metadata": {},
   "outputs": [],
   "source": [
    "f_1=open(\"C:\\\\Users\\\\Admin\\\\Desktop\\\\Nisha\\\\nisha_file.txt\",'w')#data will get over write\n",
    "f_1.write(\"Python is a popular programming language.\")\n",
    "f_1.write(\"Python can be used on a server to create web applications.\")\n",
    "f_1.close()"
   ]
  },
  {
   "cell_type": "code",
   "execution_count": 24,
   "id": "07787821",
   "metadata": {},
   "outputs": [
    {
     "name": "stdout",
     "output_type": "stream",
     "text": [
      "<_io.TextIOWrapper name='nisha_file.txt' mode='r' encoding='cp1252'>\n",
      "India is my country.I proud to be an Indian. I am a girl\n"
     ]
    }
   ],
   "source": [
    "f_2n=open(\"nisha_file.txt\",'r')\n",
    "print(f_2n)\n",
    "for i in f_2n:\n",
    "    print(i)"
   ]
  },
  {
   "cell_type": "code",
   "execution_count": 25,
   "id": "8a423b4c",
   "metadata": {},
   "outputs": [
    {
     "name": "stdout",
     "output_type": "stream",
     "text": [
      "<_io.TextIOWrapper name='EB_NEW.txt' mode='w' encoding='cp1252'>\n"
     ]
    }
   ],
   "source": [
    "f_a=open(\"EB_NEW.txt\",'w') #\n",
    "f_a.write(\"aaaaaaaaaaaaaaaa\")\n",
    "f_a.write(\"nnnnnnnnnnnnnnn\")\n",
    "print(f_a)\n",
    "f_a.close()"
   ]
  },
  {
   "cell_type": "code",
   "execution_count": 26,
   "id": "4301a643",
   "metadata": {},
   "outputs": [
    {
     "name": "stdout",
     "output_type": "stream",
     "text": [
      "<_io.TextIOWrapper name='C:\\\\Users\\\\Admin\\\\Desktop\\\\Nisha\\\\Anuja_file.txt' mode='w' encoding='cp1252'>\n"
     ]
    }
   ],
   "source": [
    "f_b=open(\"C:\\\\Users\\\\Admin\\\\Desktop\\\\Nisha\\\\Anuja_file.txt\",'w') #\n",
    "f_b.write(\"Nisha\")\n",
    "f_b.write(\"Nikam\")\n",
    "print(f_b)\n",
    "f_b.close()"
   ]
  },
  {
   "cell_type": "markdown",
   "id": "630e872a",
   "metadata": {},
   "source": [
    "# Append (a)"
   ]
  },
  {
   "cell_type": "code",
   "execution_count": 27,
   "id": "79dc8fef",
   "metadata": {},
   "outputs": [],
   "source": [
    "f_c1=open(\"nisha_file.txt\",'a')\n",
    "f_c1.write(\"Nisha Nikam\")\n",
    "f_c1.close()"
   ]
  },
  {
   "cell_type": "code",
   "execution_count": 28,
   "id": "8b193c49",
   "metadata": {},
   "outputs": [
    {
     "name": "stdout",
     "output_type": "stream",
     "text": [
      "India is my country.I proud to be an Indian. I am a girlNisha Nikam\n"
     ]
    }
   ],
   "source": [
    "f_c1=open(\"nisha_file.txt\",'r')\n",
    "print(f_c1.read())\n",
    "f_c1.close()"
   ]
  },
  {
   "cell_type": "code",
   "execution_count": 32,
   "id": "ad6b0240",
   "metadata": {},
   "outputs": [],
   "source": [
    "f_c1=open(\"C:\\\\Users\\\\Admin\\\\Desktop\\\\Nisha\\\\nisha_file.txt\",'a')\n",
    "f_c1.write(\"Anuja Kanawde\")\n",
    "f_c1.close()"
   ]
  },
  {
   "cell_type": "code",
   "execution_count": 34,
   "id": "e563b087",
   "metadata": {},
   "outputs": [
    {
     "name": "stdout",
     "output_type": "stream",
     "text": [
      "Python is a popular programming language.Python can be used on a server to create web applications.Anuja Kanawde\n"
     ]
    }
   ],
   "source": [
    "f_c1=open(\"C:\\\\Users\\\\Admin\\\\Desktop\\\\Nisha\\\\nisha_file.txt\",'r')\n",
    "print(f_c1.read())\n",
    "f_c1.close()"
   ]
  },
  {
   "cell_type": "code",
   "execution_count": 30,
   "id": "4233428c",
   "metadata": {},
   "outputs": [],
   "source": [
    "f_c1=open(\"demo_1.txt\",'a')\n",
    "f_c1.write(\"Nisha Nikam\")\n",
    "f_c1.close()"
   ]
  },
  {
   "cell_type": "code",
   "execution_count": 31,
   "id": "6fb88939",
   "metadata": {},
   "outputs": [],
   "source": [
    "f_c1=open(\"C:\\\\Users\\\\Admin\\\\Desktop\\\\Nisha\\\\demo.txt\",'a')\n",
    "f_c1.write(\"python is object oriented programming language\")\n",
    "f_c1.close()"
   ]
  },
  {
   "cell_type": "code",
   "execution_count": null,
   "id": "34986657",
   "metadata": {},
   "outputs": [],
   "source": []
  }
 ],
 "metadata": {
  "kernelspec": {
   "display_name": "Python 3 (ipykernel)",
   "language": "python",
   "name": "python3"
  },
  "language_info": {
   "codemirror_mode": {
    "name": "ipython",
    "version": 3
   },
   "file_extension": ".py",
   "mimetype": "text/x-python",
   "name": "python",
   "nbconvert_exporter": "python",
   "pygments_lexer": "ipython3",
   "version": "3.9.12"
  }
 },
 "nbformat": 4,
 "nbformat_minor": 5
}

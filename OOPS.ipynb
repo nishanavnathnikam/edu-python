{
 "cells": [
  {
   "cell_type": "code",
   "execution_count": 1,
   "id": "15eebc36",
   "metadata": {},
   "outputs": [],
   "source": [
    "#OOPs\n",
    "#variable=object(attributes)\n",
    "#function=method(behaviours)\n",
    "#class-blueprint of object"
   ]
  },
  {
   "cell_type": "code",
   "execution_count": 2,
   "id": "42121cf1",
   "metadata": {},
   "outputs": [
    {
     "name": "stdout",
     "output_type": "stream",
     "text": [
      "i5, 16gb, 1tb\n",
      "i5, 16gb, 1tb\n"
     ]
    }
   ],
   "source": [
    "class DA:\n",
    "    def config(self): #behavioural argument\n",
    "        print(\"i5, 16gb, 1tb\")\n",
    "\n",
    "Nisha=DA()\n",
    "Anuja=DA()\n",
    "#print(type(Nisha))\n",
    "#print(type(Anuja))\n",
    "#DA.config(Nisha)\n",
    "#DA.config(Anuja)\n",
    "Nisha.config()\n",
    "Anuja.config()"
   ]
  },
  {
   "cell_type": "code",
   "execution_count": 3,
   "id": "cd7e7a94",
   "metadata": {},
   "outputs": [
    {
     "name": "stdout",
     "output_type": "stream",
     "text": [
      "<class 'int'>\n"
     ]
    }
   ],
   "source": [
    "a=3\n",
    "print(type(a))"
   ]
  },
  {
   "cell_type": "markdown",
   "id": "7a740bc4",
   "metadata": {},
   "source": [
    "# Constructor"
   ]
  },
  {
   "cell_type": "code",
   "execution_count": 4,
   "id": "4e7ff6a3",
   "metadata": {},
   "outputs": [],
   "source": [
    "#once u declare object constructor is called in backend automatically\n",
    "#Constructor is the only one where u can declare variable\n",
    "#once we declare any object __init__constructor will also get called automatically in the backend\n",
    "#"
   ]
  },
  {
   "cell_type": "code",
   "execution_count": 5,
   "id": "8279113f",
   "metadata": {},
   "outputs": [
    {
     "name": "stdout",
     "output_type": "stream",
     "text": [
      "23 5.1 pune\n",
      "config is 23 5.1 pune\n"
     ]
    }
   ],
   "source": [
    "class DA:\n",
    "    def __init__(self,age,height,city):\n",
    "        #print(\"in it\")#constructor\n",
    "        self.age=age\n",
    "        self.height=height\n",
    "        self.city=city\n",
    "        print(self.age,self.height,self.city)\n",
    "\n",
    "        \n",
    "    def config(self): #behavioural argument\n",
    "        print(\"config is\",self.age,self.height,self.city)\n",
    "\n",
    "Nisha=DA(23,5.1,\"pune\")\n",
    "#Anuja=DA(23,5.3,\"mumbai\")\n",
    "Nisha.config()\n",
    "#Anuja.config()"
   ]
  },
  {
   "cell_type": "code",
   "execution_count": 9,
   "id": "b666bf6d",
   "metadata": {},
   "outputs": [
    {
     "name": "stdout",
     "output_type": "stream",
     "text": [
      "Intel Core i5 8 Intel Core i5-9400F\n",
      "config is Intel Core i5 8 Intel Core i5-9400F\n"
     ]
    }
   ],
   "source": [
    "#create one class computer with var cpu ram processor.call them for object c1,c2\n",
    "class Computer:\n",
    "    def __init__(self,cpu,ram,processor):\n",
    "        self.cpu=cpu\n",
    "        self.ram=ram\n",
    "        self.processor=processor\n",
    "        print(self.cpu,self.ram,self.processor)\n",
    "        \n",
    "    def config(self):  # behavioral method\n",
    "        print(\"config is\", self.cpu, self.ram, self.processor)\n",
    "\n",
    "c1=Computer(\"Intel Core i5\", 8, \"Intel Core i5-9400F\")\n",
    "#c2=Computer(\"AMD Ryzen 7\", 16, \"AMD Ryzen 7 5800X\")\n",
    "c1.config()\n",
    "#c2.config()"
   ]
  },
  {
   "cell_type": "code",
   "execution_count": null,
   "id": "3f971651",
   "metadata": {},
   "outputs": [],
   "source": [
    "# Built in constructor\n",
    "\n",
    "#__add__(self, other)\tTo get called on add operation using + operator\n",
    "#__sub__(self, other)\tTo get called on subtraction operation using - operator.\n",
    "#__mul__(self, other)\tTo get called on multiplication operation using * operator.\n",
    "#__floordiv__(self, other)\tTo get called on floor division operation using // operator.\n",
    "#__truediv__(self, other)\tTo get called on division operation using / operator.\n",
    "#__mod__(self, other)\tTo get called on modulo operation using % operator.\n",
    "#__pow__(self, other[, modulo])\tTo get called on calculating the power using ** operator.\n",
    "#__lt__(self, other)\tTo get called on comparison using < operator.\n",
    "#__le__(self, other)\tTo get called on comparison using <= operator.\n",
    "#__eq__(self, other)\tTo get called on comparison using == operator.\n",
    "#__ne__(self, other)\tTo get called on comparison using != operator.\n",
    "#__ge__(self, other)\tTo get called on comparison using >= operator."
   ]
  },
  {
   "cell_type": "code",
   "execution_count": 15,
   "id": "d03f4c34",
   "metadata": {},
   "outputs": [
    {
     "data": {
      "text/plain": [
       "'48'"
      ]
     },
     "execution_count": 15,
     "metadata": {},
     "output_type": "execute_result"
    }
   ],
   "source": [
    "a=\"4\"\n",
    "b=\"8\"\n",
    "a+b"
   ]
  },
  {
   "cell_type": "code",
   "execution_count": 13,
   "id": "69805f8c",
   "metadata": {},
   "outputs": [
    {
     "data": {
      "text/plain": [
       "12"
      ]
     },
     "execution_count": 13,
     "metadata": {},
     "output_type": "execute_result"
    }
   ],
   "source": [
    "int.__add__(a,b)"
   ]
  },
  {
   "cell_type": "code",
   "execution_count": 16,
   "id": "cf227e4f",
   "metadata": {},
   "outputs": [
    {
     "data": {
      "text/plain": [
       "'48'"
      ]
     },
     "execution_count": 16,
     "metadata": {},
     "output_type": "execute_result"
    }
   ],
   "source": [
    "str.__add__(a,b)"
   ]
  },
  {
   "cell_type": "code",
   "execution_count": 17,
   "id": "8c839700",
   "metadata": {},
   "outputs": [
    {
     "data": {
      "text/plain": [
       "True"
      ]
     },
     "execution_count": 17,
     "metadata": {},
     "output_type": "execute_result"
    }
   ],
   "source": [
    "x=90\n",
    "y=100\n",
    "int.__ge__(y,x)"
   ]
  },
  {
   "cell_type": "code",
   "execution_count": 18,
   "id": "43280c22",
   "metadata": {},
   "outputs": [
    {
     "data": {
      "text/plain": [
       "9000"
      ]
     },
     "execution_count": 18,
     "metadata": {},
     "output_type": "execute_result"
    }
   ],
   "source": [
    "int.__mul__(x,y)"
   ]
  },
  {
   "cell_type": "code",
   "execution_count": 21,
   "id": "4a843185",
   "metadata": {},
   "outputs": [
    {
     "name": "stdout",
     "output_type": "stream",
     "text": [
      "3175398381552\n",
      "3175398382896\n"
     ]
    }
   ],
   "source": [
    "class computer:\n",
    "    pass\n",
    "\n",
    "c1=computer()\n",
    "c2=computer()\n",
    "print(id(c1))\n",
    "print(id(c2))"
   ]
  },
  {
   "cell_type": "code",
   "execution_count": 22,
   "id": "add63221",
   "metadata": {},
   "outputs": [
    {
     "name": "stdout",
     "output_type": "stream",
     "text": [
      "i am constructor\n"
     ]
    }
   ],
   "source": [
    "class empty:\n",
    "    def __init__(self):\n",
    "        print(\"i am constructor\")\n",
    "        \n",
    "a1=empty()"
   ]
  },
  {
   "cell_type": "code",
   "execution_count": 25,
   "id": "0f0e10f6",
   "metadata": {},
   "outputs": [
    {
     "name": "stdout",
     "output_type": "stream",
     "text": [
      "i am constructor\n",
      "hello\n"
     ]
    }
   ],
   "source": [
    "class emp:\n",
    "    def __init__(self):\n",
    "        print(\"i am constructor\")\n",
    "    def write(self):\n",
    "        print(\"hello\")\n",
    "c1=emp()\n",
    "c1.write()"
   ]
  },
  {
   "cell_type": "code",
   "execution_count": 37,
   "id": "aca55bec",
   "metadata": {},
   "outputs": [
    {
     "name": "stdout",
     "output_type": "stream",
     "text": [
      "Andya\n",
      "Nisha\n",
      "24\n"
     ]
    }
   ],
   "source": [
    "class computer:\n",
    "    def __init__(self):\n",
    "        self.name=\"Nisha\"\n",
    "        self.age=22\n",
    "\n",
    "    \n",
    "c1=computer()\n",
    "c2=computer()\n",
    "c1.name=\"Andya\"\n",
    "c2.age=24\n",
    "print(c1.name)\n",
    "print(c2.name)\n",
    "print(c2.age)"
   ]
  },
  {
   "cell_type": "code",
   "execution_count": 39,
   "id": "21a86d86",
   "metadata": {},
   "outputs": [
    {
     "name": "stdout",
     "output_type": "stream",
     "text": [
      "45\n",
      "45\n"
     ]
    }
   ],
   "source": [
    "class computer:\n",
    "    def __init__(self):\n",
    "        self.name=\"Nisha\"\n",
    "        self.age=22\n",
    "        \n",
    "    def update(self):\n",
    "        self.age=45\n",
    "\n",
    "    \n",
    "c1=computer()\n",
    "c2=computer()\n",
    "c1.name=\"Andya\"\n",
    "c2.age=100\n",
    "#print(c1.name)\n",
    "#print(c2.name)\n",
    "#print(c2.age)\n",
    "c1.update()\n",
    "print(c1.age)\n",
    "c2.update()\n",
    "print(c2.age)"
   ]
  },
  {
   "cell_type": "code",
   "execution_count": 46,
   "id": "58333d1f",
   "metadata": {},
   "outputs": [
    {
     "name": "stdout",
     "output_type": "stream",
     "text": [
      "Both are same\n"
     ]
    }
   ],
   "source": [
    "class computer:\n",
    "    def __init__(self):\n",
    "        self.name='Nisha'\n",
    "        self.age=23\n",
    "    def compare(self,other):  \n",
    "        if self.age==other.age:\n",
    "            return True\n",
    "        else:\n",
    "            return False\n",
    "c1=computer()\n",
    "c2=computer()\n",
    "\n",
    "if c1.compare(c2):\n",
    "    print(\"Both are same\")\n",
    "else:\n",
    "    print(\"Both are different\")"
   ]
  },
  {
   "cell_type": "code",
   "execution_count": 13,
   "id": "bc1f6765",
   "metadata": {},
   "outputs": [
    {
     "name": "stdout",
     "output_type": "stream",
     "text": [
      "Less than\n"
     ]
    }
   ],
   "source": [
    "class Computer:\n",
    "    def __init__(self,name,weight):\n",
    "        self.name=name\n",
    "        self.weight=weight\n",
    "        \n",
    "    def compare_weight(self, other):\n",
    "        if self.weight>other.weight:\n",
    "            return \"Greater than\"\n",
    "        elif self.weight<other.weight:\n",
    "            return \"Less than\"\n",
    "        else:\n",
    "            return \"Equal\"\n",
    "        \n",
    "c1=Computer(\"Nisha\", 23)\n",
    "c2=Computer(\"Anuja\", 30)\n",
    "\n",
    "result=c1.compare_weight(c2)\n",
    "print(result)"
   ]
  },
  {
   "cell_type": "markdown",
   "id": "d109df1c",
   "metadata": {},
   "source": [
    "# Types of Variables"
   ]
  },
  {
   "cell_type": "markdown",
   "id": "33381ef5",
   "metadata": {},
   "source": [
    "# Instance Variable and class Variable:-"
   ]
  },
  {
   "cell_type": "code",
   "execution_count": 1,
   "id": "381415f7",
   "metadata": {},
   "outputs": [],
   "source": [
    "#1.Instance var are defined in init whereas class var defined outside init in class. \n",
    "#2.Changes made in instance variable are changed for that objects only whereas for class variable it changes for all objects. \n",
    "#3.Instance var stored in instance namespace whereas class var stored in class namespace."
   ]
  },
  {
   "cell_type": "code",
   "execution_count": 2,
   "id": "0725749c",
   "metadata": {},
   "outputs": [
    {
     "name": "stdout",
     "output_type": "stream",
     "text": [
      "10 BMW 4\n",
      "10 BMW 4\n"
     ]
    }
   ],
   "source": [
    "class car:\n",
    "    wheels=4 #class variable\n",
    "    def __init__(self): #instance variable\n",
    "        self.milage=10\n",
    "        self.company='BMW'\n",
    "c1=car()\n",
    "c2=car()\n",
    "print(c1.milage,c1.company,c1.wheels)\n",
    "print(c2.milage,c2.company,c2.wheels)"
   ]
  },
  {
   "cell_type": "code",
   "execution_count": 3,
   "id": "46b1ef68",
   "metadata": {},
   "outputs": [
    {
     "name": "stdout",
     "output_type": "stream",
     "text": [
      "10 BMW 6\n",
      "10 BMW 6\n"
     ]
    }
   ],
   "source": [
    "class car:\n",
    "    wheels=4 #can update value here\n",
    "    def __init__(self):\n",
    "        self.milage=10\n",
    "        self.company='BMW'\n",
    "c1=car()\n",
    "c2=car()\n",
    "car.wheels=6 #we can also update here\n",
    "print(c1.milage,c1.company,c1.wheels)\n",
    "print(c2.milage,c2.company,c2.wheels)"
   ]
  },
  {
   "cell_type": "markdown",
   "id": "40af4cc7",
   "metadata": {},
   "source": [
    "# Types of Methods"
   ]
  },
  {
   "cell_type": "code",
   "execution_count": 4,
   "id": "a0fd70d4",
   "metadata": {},
   "outputs": [],
   "source": [
    "#Instance Method:\n",
    "  #1. Deals with instance variable\n",
    "  #2. Can be called seperately for each object\n",
    "  #3. Always associated with behavioural argument(self)"
   ]
  },
  {
   "cell_type": "code",
   "execution_count": 5,
   "id": "8db78b94",
   "metadata": {},
   "outputs": [
    {
     "name": "stdout",
     "output_type": "stream",
     "text": [
      "20.0\n",
      "83.33333333333333\n"
     ]
    }
   ],
   "source": [
    "#Instance Method:\n",
    "class student:\n",
    "    school='EB' #class variable\n",
    "    def __init__(self,m1,m2,m3): #instance variables\n",
    "        self.m1=m1\n",
    "        self.m2=m2\n",
    "        self.m3=m3\n",
    "    def avg(self):  #instance method\n",
    "        return (self.m1+self.m2+self.m3)/3\n",
    "s1=student(10,20,30)\n",
    "s2=student(90,85,75)\n",
    "print(s1.avg())\n",
    "print(s2.avg())"
   ]
  },
  {
   "cell_type": "code",
   "execution_count": 6,
   "id": "60294ee1",
   "metadata": {},
   "outputs": [
    {
     "name": "stdout",
     "output_type": "stream",
     "text": [
      "10\n",
      "90\n"
     ]
    }
   ],
   "source": [
    "#2 Types of instance method: accessor(getter=fetch data) and \n",
    "#Mutator(setter=modify data)\n",
    "# number of instance varible==number of getter and setter pair\n",
    "class student:\n",
    "    school='EB' #class variable\n",
    "    def __init__(self,m1,m2,m3): #instance variables\n",
    "        self.m1=m1\n",
    "        self.m2=m2\n",
    "        self.m3=m3\n",
    "    def avg(self):  #instance method\n",
    "        return (self.m1+self.m2+self.m3)/3\n",
    "    def get_m1(self): #getter \n",
    "        return self.m1\n",
    "    def set_m1(self): #setter\n",
    "        self.m1=90\n",
    "        print(self.m1)\n",
    "s1=student(10,20,30)\n",
    "s2=student(90,85,75)\n",
    "print(s1.get_m1())\n",
    "s1.set_m1()\n",
    "#print(s1.avg())\n",
    "#print(s2.avg())"
   ]
  },
  {
   "cell_type": "code",
   "execution_count": 7,
   "id": "8812a891",
   "metadata": {},
   "outputs": [],
   "source": [
    "#Class Method:\n",
    " #1. Call this method with class not self\n",
    " #2. Cannot run single object with class method(s1,s2)\n",
    " #3. Use @classmethod decorator"
   ]
  },
  {
   "cell_type": "code",
   "execution_count": 8,
   "id": "425243bc",
   "metadata": {},
   "outputs": [
    {
     "name": "stdout",
     "output_type": "stream",
     "text": [
      "EB\n"
     ]
    }
   ],
   "source": [
    "class student:\n",
    "    school='EB' #class variable\n",
    "    def __init__(self,m1,m2,m3): #instance variables\n",
    "        self.m1=m1\n",
    "        self.m2=m2\n",
    "        self.m3=m3\n",
    "    def avg(self):  #instance method\n",
    "        return (self.m1+self.m2+self.m3)/3\n",
    "    @classmethod #decorator(used to print info)\n",
    "    def info(cls):\n",
    "        return cls.school\n",
    "s1=student(10,20,30)\n",
    "s2=student(90,85,75)\n",
    "print(student.info())"
   ]
  },
  {
   "cell_type": "code",
   "execution_count": 9,
   "id": "ad93b0b1",
   "metadata": {},
   "outputs": [],
   "source": [
    "#Static Method: \n",
    " #1. If we want to work without instance and class method then we use static method\n",
    " #2. Use @staticmethod decorator"
   ]
  },
  {
   "cell_type": "code",
   "execution_count": 10,
   "id": "8f61732f",
   "metadata": {},
   "outputs": [
    {
     "name": "stdout",
     "output_type": "stream",
     "text": [
      "This is student\n"
     ]
    }
   ],
   "source": [
    "class student:\n",
    "    school='EB' #class variable\n",
    "    def __init__(self,m1,m2,m3): #instance variables\n",
    "        self.m1=m1\n",
    "        self.m2=m2\n",
    "        self.m3=m3\n",
    "    def avg(self):  #instance method\n",
    "        return (self.m1+self.m2+self.m3)/3\n",
    "    @staticmethod #decorator(if we want to work without class and instance method)\n",
    "    def info():\n",
    "        print(\"This is student\")\n",
    "s1=student(10,20,30)\n",
    "s2=student(90,85,75)\n",
    "student.info()"
   ]
  },
  {
   "cell_type": "code",
   "execution_count": 2,
   "id": "c4f8a2f7",
   "metadata": {},
   "outputs": [],
   "source": [
    "#whenever your creating object of inner class in outer class\n",
    "#inner class object we can create outer class that is student\n",
    "#inner class object can be created outside the class also\n"
   ]
  },
  {
   "cell_type": "code",
   "execution_count": 5,
   "id": "0ddf83d6",
   "metadata": {},
   "outputs": [
    {
     "name": "stdout",
     "output_type": "stream",
     "text": [
      "EB\n",
      "this is student class\n"
     ]
    }
   ],
   "source": [
    "#1.class method\n",
    "\n",
    "\n",
    "class student:\n",
    "    school=\"EB\"#class var\n",
    "    \n",
    "    def __init__(self,m1,m2,m3):#instance var\n",
    "        self.m1=m1\n",
    "        self.m2=m2\n",
    "        self.m3=m3\n",
    "        \n",
    "    def avg(self):\n",
    "        return (self.m1+self.m2+self.m3)/3\n",
    "    \n",
    "    @classmethod#decorator\n",
    "    def getschool(cls):#class method\n",
    "        return cls.school\n",
    "    \n",
    "    \n",
    "    @staticmethod\n",
    "    def info():\n",
    "        print(\"this is student class\")\n",
    "                \n",
    "bhavana=student(10,20,30)\n",
    "sarah=student(23,44,55)\n",
    "\n",
    "print(student.getschool())\n",
    "student.info()"
   ]
  },
  {
   "cell_type": "code",
   "execution_count": 4,
   "id": "955949aa",
   "metadata": {},
   "outputs": [
    {
     "name": "stdout",
     "output_type": "stream",
     "text": [
      "Hp i5 8\n",
      "John 4\n",
      "Hp i5 8\n"
     ]
    }
   ],
   "source": [
    "#Inner class  in OOPs\n",
    "\n",
    "class student:\n",
    "    \n",
    "    \n",
    "    def __init__(self,name,rollno):\n",
    "        self.name=name\n",
    "        self.rollno=rollno\n",
    "        self.lap=self.laptop()\n",
    "    def show(self):\n",
    "        print(self.name,self.rollno)\n",
    "        self.lap.show()\n",
    "    class laptop:\n",
    "        \n",
    "        def __init__(self):\n",
    "            self.brand=\"Hp\"\n",
    "            self.cpu=\"i5\"\n",
    "            self.ram=8\n",
    "        def show(self):\n",
    "            print(self.brand,self.cpu,self.ram)\n",
    "        \n",
    "s1=student(\"John\",4)\n",
    "s2=student(\"Navin\",9)\n",
    "#s1.show()\n",
    "#s2.show() \n",
    "#lap1=s1.lap\n",
    "#lap2=s2.lap\n",
    "#print(id(lap1))\n",
    "#print(id(lap2))\n",
    "lap1=student.laptop()\n",
    "lap1.show()\n",
    "s1.show()"
   ]
  },
  {
   "cell_type": "markdown",
   "id": "c687b873",
   "metadata": {},
   "source": [
    "# Inheritance"
   ]
  },
  {
   "cell_type": "code",
   "execution_count": 11,
   "id": "051821d0",
   "metadata": {},
   "outputs": [
    {
     "name": "stdout",
     "output_type": "stream",
     "text": [
      "Feature-1 is working\n",
      "Feature-2 is working\n",
      "Feature-3 is working\n",
      "Feature-4 is working\n",
      "Feature-1 is working\n",
      "Feature-2 is working\n"
     ]
    }
   ],
   "source": [
    "#single level inheritance\n",
    "class A:\n",
    "    def feature1(self):\n",
    "        print(\"Feature-1 is working\")\n",
    "    def feature2(self):\n",
    "        print(\"Feature-2 is working\")\n",
    "        \n",
    "class B(A):\n",
    "    def feature3(self):\n",
    "        print(\"Feature-3 is working\")\n",
    "    def feature4(self):\n",
    "        print(\"Feature-4 is working\")\n",
    "                \n",
    "        \n",
    "a1=A()\n",
    "b1=B()\n",
    "a1.feature1()\n",
    "a1.feature2()   \n",
    "b1.feature3()\n",
    "b1.feature4()\n",
    "\n",
    "b1.feature1()\n",
    "b1.feature2()"
   ]
  },
  {
   "cell_type": "code",
   "execution_count": 12,
   "id": "8e8d5ed3",
   "metadata": {},
   "outputs": [
    {
     "name": "stdout",
     "output_type": "stream",
     "text": [
      "Feature-1 is working\n",
      "Feature-2 is working\n",
      "Feature-3 is working\n",
      "Feature-4 is working\n",
      "Feature-5 is working\n",
      "Feature-6 is working\n"
     ]
    }
   ],
   "source": [
    "#Multi - level inheritance\n",
    "class A:#(Parent/Super class)\n",
    "    def feature1(self):\n",
    "        print(\"Feature-1 is working\")\n",
    "    def feature2(self):\n",
    "        print(\"Feature-2 is working\")\n",
    "        \n",
    "class B(A):\n",
    "    def feature3(self):\n",
    "        print(\"Feature-3 is working\")\n",
    "    def feature4(self):\n",
    "        print(\"Feature-4 is working\")\n",
    "                \n",
    "class C(B):\n",
    "    def feature5(self):\n",
    "        print(\"Feature-5 is working\")\n",
    "    def feature6(self):\n",
    "        print(\"Feature-6 is working\")\n",
    "                        \n",
    "a1=A()\n",
    "b1=B()\n",
    "#a1.feature1()\n",
    "#a1.feature2()   \n",
    "#b1.feature3()\n",
    "#b1.feature4()\n",
    "\n",
    "#b1.feature1()\n",
    "#b1.feature2()\n",
    "\n",
    "c1=C()\n",
    "#c1.feature5()\n",
    "#c1.feature6()\n",
    "c1.feature1()\n",
    "c1.feature2()\n",
    "\n",
    "c1.feature3()\n",
    "c1.feature4()\n",
    "\n",
    "c1.feature5()\n",
    "c1.feature6()"
   ]
  },
  {
   "cell_type": "code",
   "execution_count": 2,
   "id": "4b4f0e71",
   "metadata": {},
   "outputs": [
    {
     "name": "stdout",
     "output_type": "stream",
     "text": [
      "Feature-1 is working\n",
      "Feature-2 is working\n",
      "Feature-3 is working\n",
      "Feature-4 is working\n",
      "Feature-5 is working\n",
      "Feature-6 is working\n"
     ]
    }
   ],
   "source": [
    "#Multi - level inheritance\n",
    "class A:#(Parent/Super class)\n",
    "    def feature1(self):\n",
    "        print(\"Feature-1 is working\")\n",
    "    def feature2(self):\n",
    "        print(\"Feature-2 is working\")\n",
    "        \n",
    "class B:\n",
    "    def feature3(self):\n",
    "        print(\"Feature-3 is working\")\n",
    "    def feature4(self):\n",
    "        print(\"Feature-4 is working\")\n",
    "                \n",
    "class C(A,B):\n",
    "    def feature5(self):\n",
    "        print(\"Feature-5 is working\")\n",
    "    def feature6(self):\n",
    "        print(\"Feature-6 is working\")\n",
    "                        \n",
    "a1=A()\n",
    "b1=B()\n",
    "#a1.feature1()\n",
    "#a1.feature2()   \n",
    "#b1.feature3()\n",
    "#b1.feature4()\n",
    "\n",
    "#b1.feature1()\n",
    "#b1.feature2()\n",
    "\n",
    "c1=C()\n",
    "#c1.feature5()\n",
    "#c1.feature6()\n",
    "c1.feature1()\n",
    "c1.feature2()\n",
    "\n",
    "c1.feature3()\n",
    "c1.feature4()\n",
    "\n",
    "c1.feature5()\n",
    "c1.feature6()\n"
   ]
  },
  {
   "cell_type": "markdown",
   "id": "1a85a5f8",
   "metadata": {},
   "source": [
    "# constructor Inheritance"
   ]
  },
  {
   "cell_type": "code",
   "execution_count": 4,
   "id": "257bae70",
   "metadata": {},
   "outputs": [
    {
     "name": "stdout",
     "output_type": "stream",
     "text": [
      "In A init\n",
      "In A init\n"
     ]
    }
   ],
   "source": [
    "#constructor Inheritance\n",
    "class A:\n",
    "    def __init__(self):\n",
    "        print(\"In A init\")\n",
    "    \n",
    "    def feature1(self):\n",
    "        print(\"f1 is working\")\n",
    "    \n",
    "    def feature2(self):\n",
    "        print(\"f2 is working\")\n",
    "    \n",
    "class B(A):\n",
    "    def feature3(self):\n",
    "        print(\"f3 is working\")\n",
    "    \n",
    "    def feature4(self):\n",
    "        print(\"f4 is working\")\n",
    "    \n",
    "#a1=A()\n",
    "b1=B()"
   ]
  },
  {
   "cell_type": "code",
   "execution_count": 1,
   "id": "7311121c",
   "metadata": {},
   "outputs": [
    {
     "name": "stdout",
     "output_type": "stream",
     "text": [
      "In A init\n",
      "In B init\n"
     ]
    }
   ],
   "source": [
    "#super Method\n",
    "class A:\n",
    "    def __init__(self):\n",
    "        print(\"In A init\")\n",
    "        \n",
    "    def feature1(self):\n",
    "        print(\"f1 is working\")\n",
    "        \n",
    "    def feature2(self):\n",
    "        print(\"f2 is working\")\n",
    "        \n",
    "class B(A):\n",
    "    def __init__(self):\n",
    "        super().__init__()\n",
    "        print(\"In B init\")\n",
    "        \n",
    "    def feature3(self):\n",
    "        print(\"f3 is working\")\n",
    "        \n",
    "    def feature4(self):\n",
    "        print(\"f4 is working\")\n",
    "        \n",
    "#a1=A()  \n",
    "b1=B()\n",
    "#super method allowschild class to access parents class"
   ]
  },
  {
   "cell_type": "code",
   "execution_count": 6,
   "id": "4aa61864",
   "metadata": {},
   "outputs": [
    {
     "name": "stdout",
     "output_type": "stream",
     "text": [
      "In B init\n",
      "In C init\n"
     ]
    }
   ],
   "source": [
    "class A:\n",
    "    def __init__(self):\n",
    "        print(\"In A init\")\n",
    "        \n",
    "    def feature1(self):\n",
    "        print(\"f1 is working\")\n",
    "        \n",
    "    def feature2(self):\n",
    "        print(\"f2 is working\")\n",
    "        \n",
    "class B:\n",
    "    def __init__(self):\n",
    "        print(\"In B init\")\n",
    "        \n",
    "    def feature3(self):\n",
    "        print(\"f3 is working\")\n",
    "        \n",
    "    def feature4(self):\n",
    "        print(\"f4 is working\")\n",
    "class C(B,A):\n",
    "    def __init__(self):\n",
    "        super().__init__()\n",
    "        print(\"In C init\")\n",
    "        \n",
    "    def feature5(self):\n",
    "        print(\"f5 is working\") \n",
    "    def feature6(self):\n",
    "        print(\"f6 is working\")    \n",
    "       \n",
    "\n",
    "#a1=A()  \n",
    "#b1=B()\n",
    "c1=C()\n",
    "#METHOD OF resolution order ALWAYS GOES from left to right"
   ]
  },
  {
   "cell_type": "code",
   "execution_count": 9,
   "id": "4835586a",
   "metadata": {},
   "outputs": [
    {
     "name": "stdout",
     "output_type": "stream",
     "text": [
      "In B init\n",
      "In C init\n",
      "Feature1-B is working\n",
      "Feature2 is working\n"
     ]
    }
   ],
   "source": [
    "#Method inheritance\n",
    "class A:\n",
    "    def __init__(self):\n",
    "        print(\"In A init\")\n",
    "    def feature1(self):\n",
    "        print(\"Feature1-A is working\")\n",
    "    def feature2(self):\n",
    "        print(\"Feature2 is working\")\n",
    "class B:\n",
    "    def __init__(self):\n",
    "        print(\"In B init\")\n",
    "    def feature1(self):\n",
    "        print(\"Feature1-B is working\")\n",
    "    def feature4(self):\n",
    "        print(\"Feature4 is working\")\n",
    "class C(B,A): #multiple inheritance: child or sub class\n",
    "    def __init__(self):\n",
    "        super().__init__()\n",
    "        print(\"In C init\")\n",
    "    def feat(self):\n",
    "        super().feature2()\n",
    "c1=C() #inherits constructer of only because we have not used super() method in class C\n",
    "c1.feature1() #inherits method of A because MRD starts from &\n",
    "c1.feat()\n",
    "#Method also follow MRO"
   ]
  },
  {
   "cell_type": "markdown",
   "id": "fe45b950",
   "metadata": {},
   "source": [
    "# Polymorphism"
   ]
  },
  {
   "cell_type": "code",
   "execution_count": 10,
   "id": "3b262e00",
   "metadata": {},
   "outputs": [],
   "source": [
    "#Polymorphism:one to many\n",
    "#Types of Polymorphism\n",
    "#1. Duck typing \n",
    "#2. Operator Overloading:\n",
    "#3. Method Overloading\n",
    "#4. Method Overriding:"
   ]
  },
  {
   "cell_type": "code",
   "execution_count": 11,
   "id": "a0f41395",
   "metadata": {},
   "outputs": [
    {
     "name": "stdout",
     "output_type": "stream",
     "text": [
      "swimming\n",
      "sleeping\n"
     ]
    }
   ],
   "source": [
    "#1. Duck typing \n",
    "#\n",
    "class pycharm:\n",
    "    def execute(self):\n",
    "        print(\"compiling\")\n",
    "        print(\"running\")\n",
    "class myeditor:\n",
    "    def execute(self):\n",
    "        print(\"spell check\")\n",
    "        print(\"walking\")\n",
    "        print(\"compiling\")\n",
    "        print(\"running\")\n",
    "class bird:\n",
    "    def execute(self):\n",
    "        print(\"swimming\")\n",
    "        print(\"sleeping\")\n",
    "        \n",
    "class laptop:\n",
    "    def code(self,ide):\n",
    "        ide.execute()\n",
    "#ide=pycharm()\n",
    "#ide=myeditor()\n",
    "ide=bird()\n",
    "lap1=laptop()\n",
    "lap1.code(ide)"
   ]
  },
  {
   "cell_type": "code",
   "execution_count": 12,
   "id": "6e6445c4",
   "metadata": {},
   "outputs": [
    {
     "data": {
      "text/plain": [
       "7"
      ]
     },
     "execution_count": 12,
     "metadata": {},
     "output_type": "execute_result"
    }
   ],
   "source": [
    "#2. Operator Overloading\n",
    "a=5\n",
    "b=2\n",
    "a+b"
   ]
  },
  {
   "cell_type": "code",
   "execution_count": 13,
   "id": "11d2e1c4",
   "metadata": {},
   "outputs": [
    {
     "data": {
      "text/plain": [
       "7"
      ]
     },
     "execution_count": 13,
     "metadata": {},
     "output_type": "execute_result"
    }
   ],
   "source": [
    "int.__add__(a,b)#magic method"
   ]
  },
  {
   "cell_type": "code",
   "execution_count": 14,
   "id": "7241a3ae",
   "metadata": {},
   "outputs": [
    {
     "data": {
      "text/plain": [
       "3"
      ]
     },
     "execution_count": 14,
     "metadata": {},
     "output_type": "execute_result"
    }
   ],
   "source": [
    "int.__sub__(a,b)#-"
   ]
  },
  {
   "cell_type": "code",
   "execution_count": 15,
   "id": "988f2157",
   "metadata": {},
   "outputs": [
    {
     "name": "stdout",
     "output_type": "stream",
     "text": [
      "s2 win\n"
     ]
    }
   ],
   "source": [
    "class student:\n",
    "    def __init__(self,m1,m2):\n",
    "        self.m1=m1\n",
    "        self.m2=m2\n",
    "    def __gt__(self,other):\n",
    "        r1=self.m1 +self.m2\n",
    "        r2=other.m1 +other.m2\n",
    "        if r1 > r2:\n",
    "            return True\n",
    "        else:\n",
    "            return False\n",
    "\n",
    "        return s3\n",
    "s1=student(10,30)\n",
    "s2=student(10,40)\n",
    "if s1 > s2:\n",
    "    print(\"s1 win\")\n",
    "else:\n",
    "    print(\"s2 win\")"
   ]
  },
  {
   "cell_type": "code",
   "execution_count": 1,
   "id": "1e4b2dc4",
   "metadata": {},
   "outputs": [
    {
     "name": "stdout",
     "output_type": "stream",
     "text": [
      "20\n"
     ]
    }
   ],
   "source": [
    "#overloading means adding information existing data \n",
    "3. #Method overloading\n",
    "class student:\n",
    "    \n",
    "    def __init__(self,m1,m2):\n",
    "        self.m1=m1\n",
    "        self.m2=m2\n",
    "        \n",
    "    def sum(self,a=None,b=None,c=None):\n",
    "        s=0\n",
    "        if a!=None and b!=None and c!=None:\n",
    "            s=a+b+c\n",
    "        elif a!=None and b!=None:\n",
    "             s=a+b\n",
    "        else:\n",
    "            s=a\n",
    "        return s\n",
    "s1=student(10,20)\n",
    "print(s1.sum(20))"
   ]
  },
  {
   "cell_type": "code",
   "execution_count": 2,
   "id": "4887a0aa",
   "metadata": {},
   "outputs": [
    {
     "name": "stdout",
     "output_type": "stream",
     "text": [
      "In A show\n",
      "In A show\n"
     ]
    }
   ],
   "source": [
    "#4. Method Overriding:\n",
    "class A:\n",
    "    def show(self):\n",
    "        print(\"In A show\")\n",
    "class B(A):\n",
    "    pass\n",
    "a1=A()\n",
    "a1.show()\n",
    "b1=B()\n",
    "b1.show()\n"
   ]
  },
  {
   "cell_type": "code",
   "execution_count": 10,
   "id": "d2a545e7",
   "metadata": {},
   "outputs": [
    {
     "name": "stdout",
     "output_type": "stream",
     "text": [
      "2679950174512\n",
      "2679950174768\n"
     ]
    }
   ],
   "source": [
    "a=1\n",
    "print(id(a))\n",
    "\n",
    "a=9\n",
    "a\n",
    "print(id(a))\n"
   ]
  },
  {
   "cell_type": "markdown",
   "id": "a0590079",
   "metadata": {},
   "source": [
    "# Garbage Collection"
   ]
  },
  {
   "cell_type": "code",
   "execution_count": 14,
   "id": "f26de7ec",
   "metadata": {},
   "outputs": [],
   "source": [
    "#When a value in memory is no longer referenced by a variable, the Python \n",
    "#interpreter automatically removes it from memory.\n",
    "#This process is known as \"Garbage Collection\"\n",
    "#var=4\n",
    "#var=3  # so var is getting new value 3 and 4 is garbage value in memory"
   ]
  },
  {
   "cell_type": "code",
   "execution_count": 15,
   "id": "fb7bd737",
   "metadata": {},
   "outputs": [],
   "source": [
    "#Constructor\n",
    "#It is special type of method(function)which is used to initialize the instance member of the class\n",
    "# Constructor can be parameterized and non-parameterized as well\n",
    "#Constructor definition executes when we creat object of the class\n",
    "#Constructor also verify that there are enough resources for the object to perform any start-up task\n",
    "#When we creat class without constructor python automatically creats default constructor that doesnot do anything"
   ]
  },
  {
   "cell_type": "code",
   "execution_count": 16,
   "id": "34b85e74",
   "metadata": {},
   "outputs": [],
   "source": [
    "# Constructor __init__() & Destructor __del__()\n",
    "# Constructor are used to initialize something in the class & it automatically initialise when you creat object of class\n",
    "#Destructor used to delete variable/object if it is no longer required to save computer memory"
   ]
  },
  {
   "cell_type": "code",
   "execution_count": 17,
   "id": "55d55a65",
   "metadata": {},
   "outputs": [
    {
     "name": "stdout",
     "output_type": "stream",
     "text": [
      "Constructor called\n",
      "Destructor called, employee deleted\n",
      "Constructor called\n",
      "Destructor called, employee deleted\n"
     ]
    }
   ],
   "source": [
    "class employee:\n",
    "    \n",
    "    \n",
    "    def __init__(self):\n",
    "        print(\"Constructor called\")\n",
    "        \n",
    "    def __del__(self):\n",
    "        print(\"Destructor called, employee deleted\")\n",
    "        \n",
    "#e1=employee()        \n",
    "#e2=employee()        \n",
    "def func1():\n",
    "    emp=employee()\n",
    "\n",
    "def func2():\n",
    "    emp=employee()\n",
    "        \n",
    "func1()   \n",
    "func2()"
   ]
  },
  {
   "cell_type": "markdown",
   "id": "38f1d527",
   "metadata": {},
   "source": [
    "# Encapsulation"
   ]
  },
  {
   "cell_type": "code",
   "execution_count": null,
   "id": "21ba50b9",
   "metadata": {},
   "outputs": [],
   "source": [
    "#1. Encapsulation is also the feature of oops\n",
    "#2. Encapsulation always comes with getter & setter method()\n",
    "#3.It is used to restrict access to method and variable\n",
    "#4. In encapsulation ,code and data are wrapped together within a single unit \n",
    "#5. Using this we can avoid modification in data happens accidently as data \n",
    "#is important\n",
    "#6. Access specifier are private & public methods\n",
    "#7. Public method & variable we access outside class also while can't access \n",
    "#private method & ptrivate variable outside the class"
   ]
  },
  {
   "cell_type": "code",
   "execution_count": 21,
   "id": "f84afb26",
   "metadata": {},
   "outputs": [
    {
     "name": "stdout",
     "output_type": "stream",
     "text": [
      "driving\n",
      "200\n",
      "driving\n",
      "200\n",
      "['__class__', '__delattr__', '__dict__', '__dir__', '__doc__', '__eq__', '__format__', '__ge__', '__getattribute__', '__gt__', '__hash__', '__init__', '__init_subclass__', '__le__', '__lt__', '__maxspeed', '__module__', '__ne__', '__new__', '__reduce__', '__reduce_ex__', '__repr__', '__setattr__', '__sizeof__', '__str__', '__subclasshook__', '__weakref__', '_car__maxspeed', '_car__name', 'drive']\n"
     ]
    }
   ],
   "source": [
    "#private var can be modified only within the class method()\n",
    "class car:\n",
    "    __maxspeed=0#private var\n",
    "    __name=\"\"\n",
    "    def __init__(self):\n",
    "        self.__maxspeed=200\n",
    "        self.__name=\"super car\"\n",
    "    def drive(self):#public method\n",
    "        print(\"driving\")\n",
    "        print(self.__maxspeed)\n",
    "    #def setspeed(self,speed):\n",
    "       # self.__maxspeed=speed#private var\n",
    "       # print(self.__maxspeed)\n",
    "redcar=car()\n",
    "redcar.drive()\n",
    "#redcar.setspeed(10)\n",
    "redcar.__maxspeed=10\n",
    "redcar.drive()\n",
    "print(dir(redcar))"
   ]
  },
  {
   "cell_type": "code",
   "execution_count": null,
   "id": "851a7353",
   "metadata": {},
   "outputs": [],
   "source": []
  }
 ],
 "metadata": {
  "kernelspec": {
   "display_name": "Python 3 (ipykernel)",
   "language": "python",
   "name": "python3"
  },
  "language_info": {
   "codemirror_mode": {
    "name": "ipython",
    "version": 3
   },
   "file_extension": ".py",
   "mimetype": "text/x-python",
   "name": "python",
   "nbconvert_exporter": "python",
   "pygments_lexer": "ipython3",
   "version": "3.9.12"
  }
 },
 "nbformat": 4,
 "nbformat_minor": 5
}

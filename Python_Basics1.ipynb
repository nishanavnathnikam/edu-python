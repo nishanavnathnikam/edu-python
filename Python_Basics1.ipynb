{
 "cells": [
  {
   "cell_type": "code",
   "execution_count": 1,
   "id": "adc2aa9f",
   "metadata": {},
   "outputs": [],
   "source": [
    "import keyword"
   ]
  },
  {
   "cell_type": "code",
   "execution_count": 2,
   "id": "4e80b939",
   "metadata": {},
   "outputs": [],
   "source": [
    "x,y=20,6"
   ]
  },
  {
   "cell_type": "code",
   "execution_count": 3,
   "id": "08ed6593",
   "metadata": {},
   "outputs": [
    {
     "name": "stdout",
     "output_type": "stream",
     "text": [
      "20\n"
     ]
    }
   ],
   "source": [
    "print(x)"
   ]
  },
  {
   "cell_type": "code",
   "execution_count": 4,
   "id": "2c45a333",
   "metadata": {},
   "outputs": [
    {
     "data": {
      "text/plain": [
       "20"
      ]
     },
     "execution_count": 4,
     "metadata": {},
     "output_type": "execute_result"
    }
   ],
   "source": [
    "x"
   ]
  },
  {
   "cell_type": "code",
   "execution_count": 5,
   "id": "31569983",
   "metadata": {},
   "outputs": [
    {
     "data": {
      "text/plain": [
       "6"
      ]
     },
     "execution_count": 5,
     "metadata": {},
     "output_type": "execute_result"
    }
   ],
   "source": [
    "y"
   ]
  },
  {
   "cell_type": "code",
   "execution_count": 6,
   "id": "a435c3f5",
   "metadata": {},
   "outputs": [],
   "source": [
    "x=y=90"
   ]
  },
  {
   "cell_type": "code",
   "execution_count": 7,
   "id": "613359f9",
   "metadata": {},
   "outputs": [
    {
     "name": "stdout",
     "output_type": "stream",
     "text": [
      "['Anuja', 'Nisha', 'Sonu', 'Aaradhya']\n"
     ]
    }
   ],
   "source": [
    "#unpack collection\n",
    "girls=[\"Anuja\",\"Nisha\",\"Sonu\",\"Aaradhya\"]\n",
    "print(girls)"
   ]
  },
  {
   "cell_type": "code",
   "execution_count": 8,
   "id": "3272cdfe",
   "metadata": {},
   "outputs": [
    {
     "name": "stdout",
     "output_type": "stream",
     "text": [
      "Anuja\n",
      "Nisha\n",
      "Sonu\n",
      "Aaradhya\n",
      "Anuja Nisha Sonu Aaradhya\n"
     ]
    }
   ],
   "source": [
    "a,b,c,d=girls\n",
    "print(a)\n",
    "print(b)\n",
    "print(c)\n",
    "print(d)\n",
    "print(a,b,c,d)"
   ]
  },
  {
   "cell_type": "code",
   "execution_count": 9,
   "id": "617b5fb3",
   "metadata": {},
   "outputs": [
    {
     "data": {
      "text/plain": [
       "'Anuja'"
      ]
     },
     "execution_count": 9,
     "metadata": {},
     "output_type": "execute_result"
    }
   ],
   "source": [
    "girls=[\"Anuja\",\"Nisha\",\"Sonu\",\"Aaradhya\"]\n",
    "girls\n",
    "a,b,c,d=girls\n",
    "#print(a)\n",
    "#print(b)\n",
    "#print(c)\n",
    "#print(d)\n",
    "a\n",
    "#b"
   ]
  },
  {
   "cell_type": "code",
   "execution_count": 10,
   "id": "0c8fcbf1",
   "metadata": {},
   "outputs": [
    {
     "data": {
      "text/plain": [
       "20"
      ]
     },
     "execution_count": 10,
     "metadata": {},
     "output_type": "execute_result"
    }
   ],
   "source": [
    "a=20\n",
    "a"
   ]
  },
  {
   "cell_type": "code",
   "execution_count": 11,
   "id": "2ef4a05c",
   "metadata": {},
   "outputs": [
    {
     "data": {
      "text/plain": [
       "30"
      ]
     },
     "execution_count": 11,
     "metadata": {},
     "output_type": "execute_result"
    }
   ],
   "source": [
    "a=30\n",
    "a"
   ]
  },
  {
   "cell_type": "code",
   "execution_count": 12,
   "id": "e1115ae7",
   "metadata": {},
   "outputs": [
    {
     "name": "stdout",
     "output_type": "stream",
     "text": [
      "Python is awesome\n"
     ]
    }
   ],
   "source": [
    "x=\"Python is awesome\"\n",
    "print(x)"
   ]
  },
  {
   "cell_type": "code",
   "execution_count": 13,
   "id": "74c4c1c3",
   "metadata": {},
   "outputs": [
    {
     "name": "stdout",
     "output_type": "stream",
     "text": [
      "Python is awesome\n"
     ]
    }
   ],
   "source": [
    "x=\"Python\"\n",
    "y=\"is\"\n",
    "z=\"awesome\"\n",
    "print(x,y,z)\n"
   ]
  },
  {
   "cell_type": "code",
   "execution_count": 14,
   "id": "0300f2f2",
   "metadata": {},
   "outputs": [
    {
     "name": "stdout",
     "output_type": "stream",
     "text": [
      "Pythonisawesome\n"
     ]
    }
   ],
   "source": [
    "print(x + y + z)"
   ]
  },
  {
   "cell_type": "code",
   "execution_count": 15,
   "id": "32b4318e",
   "metadata": {},
   "outputs": [
    {
     "name": "stdout",
     "output_type": "stream",
     "text": [
      "13\n"
     ]
    }
   ],
   "source": [
    "x=3\n",
    "y=10\n",
    "print(x+y)"
   ]
  },
  {
   "cell_type": "code",
   "execution_count": 16,
   "id": "406b274c",
   "metadata": {},
   "outputs": [
    {
     "data": {
      "text/plain": [
       "'india'"
      ]
     },
     "execution_count": 16,
     "metadata": {},
     "output_type": "execute_result"
    }
   ],
   "source": [
    "x=\"india\"\n",
    "x"
   ]
  },
  {
   "cell_type": "code",
   "execution_count": 17,
   "id": "317839ee",
   "metadata": {},
   "outputs": [
    {
     "data": {
      "text/plain": [
       "'2090'"
      ]
     },
     "execution_count": 17,
     "metadata": {},
     "output_type": "execute_result"
    }
   ],
   "source": [
    "x=\"20\"\n",
    "y=\"90\"\n",
    "x+y #joining/concatination"
   ]
  },
  {
   "cell_type": "code",
   "execution_count": 18,
   "id": "deca47b6",
   "metadata": {},
   "outputs": [
    {
     "name": "stdout",
     "output_type": "stream",
     "text": [
      "4 Omkar\n"
     ]
    }
   ],
   "source": [
    "x1=4\n",
    "x2=\"Omkar\"\n",
    "print(x1,x2)"
   ]
  },
  {
   "cell_type": "markdown",
   "id": "ae847416",
   "metadata": {},
   "source": [
    "# Data Types"
   ]
  },
  {
   "cell_type": "code",
   "execution_count": 19,
   "id": "b9cd32a2",
   "metadata": {},
   "outputs": [
    {
     "name": "stdout",
     "output_type": "stream",
     "text": [
      "india\n"
     ]
    }
   ],
   "source": [
    "x=\"india\"\n",
    "print(x)"
   ]
  },
  {
   "cell_type": "code",
   "execution_count": 20,
   "id": "6869b61a",
   "metadata": {},
   "outputs": [
    {
     "name": "stdout",
     "output_type": "stream",
     "text": [
      "<class 'str'>\n"
     ]
    }
   ],
   "source": [
    "print(type(x))"
   ]
  },
  {
   "cell_type": "code",
   "execution_count": 21,
   "id": "2a34426d",
   "metadata": {},
   "outputs": [
    {
     "name": "stdout",
     "output_type": "stream",
     "text": [
      "<class 'float'>\n"
     ]
    }
   ],
   "source": [
    "x1=90.08\n",
    "print(type(x1))"
   ]
  },
  {
   "cell_type": "code",
   "execution_count": 22,
   "id": "4fa2408c",
   "metadata": {},
   "outputs": [
    {
     "name": "stdout",
     "output_type": "stream",
     "text": [
      "<class 'complex'>\n"
     ]
    }
   ],
   "source": [
    "x2=1j\n",
    "print(type(x2))"
   ]
  },
  {
   "cell_type": "code",
   "execution_count": 23,
   "id": "0630a3a7",
   "metadata": {},
   "outputs": [
    {
     "data": {
      "text/plain": [
       "bool"
      ]
     },
     "execution_count": 23,
     "metadata": {},
     "output_type": "execute_result"
    }
   ],
   "source": [
    "x3=True\n",
    "type(x3)"
   ]
  },
  {
   "cell_type": "code",
   "execution_count": 24,
   "id": "545d2e57",
   "metadata": {},
   "outputs": [
    {
     "data": {
      "text/plain": [
       "NoneType"
      ]
     },
     "execution_count": 24,
     "metadata": {},
     "output_type": "execute_result"
    }
   ],
   "source": [
    "x4=None\n",
    "type(x4)"
   ]
  },
  {
   "cell_type": "code",
   "execution_count": 25,
   "id": "c6d62025",
   "metadata": {},
   "outputs": [
    {
     "data": {
      "text/plain": [
       "30"
      ]
     },
     "execution_count": 25,
     "metadata": {},
     "output_type": "execute_result"
    }
   ],
   "source": [
    "#casting a variable tyoe\n",
    "b=int(30.90)\n",
    "b"
   ]
  },
  {
   "cell_type": "code",
   "execution_count": 26,
   "id": "5f600f80",
   "metadata": {},
   "outputs": [
    {
     "data": {
      "text/plain": [
       "int"
      ]
     },
     "execution_count": 26,
     "metadata": {},
     "output_type": "execute_result"
    }
   ],
   "source": [
    "type(b)"
   ]
  },
  {
   "cell_type": "code",
   "execution_count": 27,
   "id": "f2d1d9a9",
   "metadata": {},
   "outputs": [
    {
     "data": {
      "text/plain": [
       "'30'"
      ]
     },
     "execution_count": 27,
     "metadata": {},
     "output_type": "execute_result"
    }
   ],
   "source": [
    "b1=str(b)\n",
    "b1"
   ]
  },
  {
   "cell_type": "code",
   "execution_count": 28,
   "id": "21d1f9c2",
   "metadata": {},
   "outputs": [
    {
     "data": {
      "text/plain": [
       "str"
      ]
     },
     "execution_count": 28,
     "metadata": {},
     "output_type": "execute_result"
    }
   ],
   "source": [
    "type(b1)"
   ]
  },
  {
   "cell_type": "code",
   "execution_count": 29,
   "id": "569e2d60",
   "metadata": {},
   "outputs": [
    {
     "data": {
      "text/plain": [
       "30.0"
      ]
     },
     "execution_count": 29,
     "metadata": {},
     "output_type": "execute_result"
    }
   ],
   "source": [
    "b2=float(b1)\n",
    "b2"
   ]
  },
  {
   "cell_type": "code",
   "execution_count": 30,
   "id": "62bcdfd0",
   "metadata": {},
   "outputs": [
    {
     "data": {
      "text/plain": [
       "float"
      ]
     },
     "execution_count": 30,
     "metadata": {},
     "output_type": "execute_result"
    }
   ],
   "source": [
    "type(b2)"
   ]
  },
  {
   "cell_type": "code",
   "execution_count": 31,
   "id": "de6a1abc",
   "metadata": {},
   "outputs": [
    {
     "data": {
      "text/plain": [
       "(30+0j)"
      ]
     },
     "execution_count": 31,
     "metadata": {},
     "output_type": "execute_result"
    }
   ],
   "source": [
    "b3=complex(b2)\n",
    "b3"
   ]
  },
  {
   "cell_type": "code",
   "execution_count": 32,
   "id": "19549a57",
   "metadata": {},
   "outputs": [
    {
     "data": {
      "text/plain": [
       "complex"
      ]
     },
     "execution_count": 32,
     "metadata": {},
     "output_type": "execute_result"
    }
   ],
   "source": [
    "type(b3)"
   ]
  },
  {
   "cell_type": "code",
   "execution_count": 33,
   "id": "42d29fec",
   "metadata": {},
   "outputs": [
    {
     "data": {
      "text/plain": [
       "True"
      ]
     },
     "execution_count": 33,
     "metadata": {},
     "output_type": "execute_result"
    }
   ],
   "source": [
    "b4=bool(b3)\n",
    "b4"
   ]
  },
  {
   "cell_type": "code",
   "execution_count": 34,
   "id": "72a1c79c",
   "metadata": {},
   "outputs": [
    {
     "data": {
      "text/plain": [
       "bool"
      ]
     },
     "execution_count": 34,
     "metadata": {},
     "output_type": "execute_result"
    }
   ],
   "source": [
    "type(b4)"
   ]
  },
  {
   "cell_type": "code",
   "execution_count": 35,
   "id": "857aef94",
   "metadata": {},
   "outputs": [],
   "source": [
    "import sys"
   ]
  },
  {
   "cell_type": "code",
   "execution_count": 36,
   "id": "0d9b1bc4",
   "metadata": {},
   "outputs": [
    {
     "data": {
      "text/plain": [
       "3099"
      ]
     },
     "execution_count": 36,
     "metadata": {},
     "output_type": "execute_result"
    }
   ],
   "source": [
    "c=3099\n",
    "c"
   ]
  },
  {
   "cell_type": "code",
   "execution_count": 37,
   "id": "5cd19709",
   "metadata": {},
   "outputs": [
    {
     "data": {
      "text/plain": [
       "28"
      ]
     },
     "execution_count": 37,
     "metadata": {},
     "output_type": "execute_result"
    }
   ],
   "source": [
    "sys.getsizeof(c)"
   ]
  },
  {
   "cell_type": "code",
   "execution_count": 38,
   "id": "0c841e45",
   "metadata": {},
   "outputs": [
    {
     "name": "stdout",
     "output_type": "stream",
     "text": [
      "hello world!\n"
     ]
    }
   ],
   "source": [
    "a=\"hello world!\"\n",
    "print(a)"
   ]
  },
  {
   "cell_type": "code",
   "execution_count": 39,
   "id": "fc0daba9",
   "metadata": {},
   "outputs": [
    {
     "data": {
      "text/plain": [
       "'h'"
      ]
     },
     "execution_count": 39,
     "metadata": {},
     "output_type": "execute_result"
    }
   ],
   "source": [
    "a[0]#indexing start with '0' always"
   ]
  },
  {
   "cell_type": "code",
   "execution_count": 40,
   "id": "f49103b5",
   "metadata": {},
   "outputs": [
    {
     "data": {
      "text/plain": [
       "'hell'"
      ]
     },
     "execution_count": 40,
     "metadata": {},
     "output_type": "execute_result"
    }
   ],
   "source": [
    "a[0:4]"
   ]
  },
  {
   "cell_type": "code",
   "execution_count": 41,
   "id": "a53bff90",
   "metadata": {},
   "outputs": [
    {
     "name": "stdout",
     "output_type": "stream",
     "text": [
      "12\n"
     ]
    }
   ],
   "source": [
    "print(len(a))"
   ]
  },
  {
   "cell_type": "code",
   "execution_count": 42,
   "id": "1f8f7036",
   "metadata": {},
   "outputs": [
    {
     "data": {
      "text/plain": [
       "'edubridgeindia'"
      ]
     },
     "execution_count": 42,
     "metadata": {},
     "output_type": "execute_result"
    }
   ],
   "source": [
    "a1=\"edubridgeindia\"\n",
    "a1"
   ]
  },
  {
   "cell_type": "code",
   "execution_count": 43,
   "id": "094ac279",
   "metadata": {},
   "outputs": [
    {
     "data": {
      "text/plain": [
       "'dge'"
      ]
     },
     "execution_count": 43,
     "metadata": {},
     "output_type": "execute_result"
    }
   ],
   "source": [
    "a1[6:9]"
   ]
  },
  {
   "cell_type": "code",
   "execution_count": 44,
   "id": "7cd288ab",
   "metadata": {},
   "outputs": [
    {
     "data": {
      "text/plain": [
       "'dia'"
      ]
     },
     "execution_count": 44,
     "metadata": {},
     "output_type": "execute_result"
    }
   ],
   "source": [
    "a1[11:14]"
   ]
  },
  {
   "cell_type": "code",
   "execution_count": 45,
   "id": "1b36c5f3",
   "metadata": {},
   "outputs": [
    {
     "data": {
      "text/plain": [
       "'consectetur adipiscing elit'"
      ]
     },
     "execution_count": 45,
     "metadata": {},
     "output_type": "execute_result"
    }
   ],
   "source": [
    "a2=\"consectetur adipiscing elit\"\n",
    "a2"
   ]
  },
  {
   "cell_type": "code",
   "execution_count": 46,
   "id": "7900dd9d",
   "metadata": {},
   "outputs": [
    {
     "data": {
      "text/plain": [
       "'sect'"
      ]
     },
     "execution_count": 46,
     "metadata": {},
     "output_type": "execute_result"
    }
   ],
   "source": [
    "a2[3:7]"
   ]
  },
  {
   "cell_type": "code",
   "execution_count": 47,
   "id": "c779c3aa",
   "metadata": {},
   "outputs": [
    {
     "data": {
      "text/plain": [
       "'etur'"
      ]
     },
     "execution_count": 47,
     "metadata": {},
     "output_type": "execute_result"
    }
   ],
   "source": [
    "a2[7:11]"
   ]
  },
  {
   "cell_type": "code",
   "execution_count": 48,
   "id": "68f1fb43",
   "metadata": {},
   "outputs": [
    {
     "data": {
      "text/plain": [
       "'lit'"
      ]
     },
     "execution_count": 48,
     "metadata": {},
     "output_type": "execute_result"
    }
   ],
   "source": [
    "a2[24:27]"
   ]
  },
  {
   "cell_type": "code",
   "execution_count": 49,
   "id": "71935b8f",
   "metadata": {},
   "outputs": [
    {
     "data": {
      "text/plain": [
       "'pisci'"
      ]
     },
     "execution_count": 49,
     "metadata": {},
     "output_type": "execute_result"
    }
   ],
   "source": [
    "a2[15:20]"
   ]
  },
  {
   "cell_type": "code",
   "execution_count": 50,
   "id": "0642ebfa",
   "metadata": {},
   "outputs": [
    {
     "data": {
      "text/plain": [
       "'r adipiscing elit'"
      ]
     },
     "execution_count": 50,
     "metadata": {},
     "output_type": "execute_result"
    }
   ],
   "source": [
    "a2[10:27]"
   ]
  },
  {
   "cell_type": "code",
   "execution_count": 51,
   "id": "04fe369e",
   "metadata": {},
   "outputs": [
    {
     "data": {
      "text/plain": [
       "'consectetur'"
      ]
     },
     "execution_count": 51,
     "metadata": {},
     "output_type": "execute_result"
    }
   ],
   "source": [
    "a2[0:11]"
   ]
  },
  {
   "cell_type": "code",
   "execution_count": 52,
   "id": "16d807b7",
   "metadata": {},
   "outputs": [
    {
     "data": {
      "text/plain": [
       "'hello'"
      ]
     },
     "execution_count": 52,
     "metadata": {},
     "output_type": "execute_result"
    }
   ],
   "source": [
    "#-v indexing \n",
    "a2=\"hello\"\n",
    "a2"
   ]
  },
  {
   "cell_type": "code",
   "execution_count": 53,
   "id": "3035376b",
   "metadata": {},
   "outputs": [
    {
     "data": {
      "text/plain": [
       "''"
      ]
     },
     "execution_count": 53,
     "metadata": {},
     "output_type": "execute_result"
    }
   ],
   "source": [
    "a2[-1:-3]"
   ]
  },
  {
   "cell_type": "code",
   "execution_count": 54,
   "id": "d75637aa",
   "metadata": {},
   "outputs": [
    {
     "data": {
      "text/plain": [
       "'llo'"
      ]
     },
     "execution_count": 54,
     "metadata": {},
     "output_type": "execute_result"
    }
   ],
   "source": [
    "a2[2:5]"
   ]
  },
  {
   "cell_type": "code",
   "execution_count": 55,
   "id": "2ef9d3d1",
   "metadata": {},
   "outputs": [
    {
     "data": {
      "text/plain": [
       "'llo'"
      ]
     },
     "execution_count": 55,
     "metadata": {},
     "output_type": "execute_result"
    }
   ],
   "source": [
    "a2[-3:]"
   ]
  },
  {
   "cell_type": "code",
   "execution_count": 56,
   "id": "7022106e",
   "metadata": {},
   "outputs": [
    {
     "data": {
      "text/plain": [
       "'hel'"
      ]
     },
     "execution_count": 56,
     "metadata": {},
     "output_type": "execute_result"
    }
   ],
   "source": [
    "a2[-5:-2]"
   ]
  },
  {
   "cell_type": "code",
   "execution_count": 57,
   "id": "01aaacd3",
   "metadata": {},
   "outputs": [
    {
     "data": {
      "text/plain": [
       "'hel'"
      ]
     },
     "execution_count": 57,
     "metadata": {},
     "output_type": "execute_result"
    }
   ],
   "source": [
    "a2[:-2]"
   ]
  },
  {
   "cell_type": "code",
   "execution_count": 58,
   "id": "631e5590",
   "metadata": {},
   "outputs": [
    {
     "data": {
      "text/plain": [
       "'India is my country'"
      ]
     },
     "execution_count": 58,
     "metadata": {},
     "output_type": "execute_result"
    }
   ],
   "source": [
    "a1=\"India is my country\"\n",
    "a1"
   ]
  },
  {
   "cell_type": "code",
   "execution_count": 59,
   "id": "f1a45e41",
   "metadata": {},
   "outputs": [
    {
     "data": {
      "text/plain": [
       "'my'"
      ]
     },
     "execution_count": 59,
     "metadata": {},
     "output_type": "execute_result"
    }
   ],
   "source": [
    "a1[-10:-8]"
   ]
  },
  {
   "cell_type": "code",
   "execution_count": 60,
   "id": "03a7ac3f",
   "metadata": {},
   "outputs": [
    {
     "data": {
      "text/plain": [
       "'unt'"
      ]
     },
     "execution_count": 60,
     "metadata": {},
     "output_type": "execute_result"
    }
   ],
   "source": [
    "a1[-5:-2]"
   ]
  },
  {
   "cell_type": "code",
   "execution_count": 61,
   "id": "feebc55c",
   "metadata": {},
   "outputs": [
    {
     "data": {
      "text/plain": [
       "'a is'"
      ]
     },
     "execution_count": 61,
     "metadata": {},
     "output_type": "execute_result"
    }
   ],
   "source": [
    "a1[-15:-11]"
   ]
  },
  {
   "cell_type": "code",
   "execution_count": 62,
   "id": "522bf5a5",
   "metadata": {},
   "outputs": [
    {
     "data": {
      "text/plain": [
       "'ndi'"
      ]
     },
     "execution_count": 62,
     "metadata": {},
     "output_type": "execute_result"
    }
   ],
   "source": [
    "a1[-18:-15]"
   ]
  },
  {
   "cell_type": "code",
   "execution_count": 63,
   "id": "9ad922a6",
   "metadata": {},
   "outputs": [
    {
     "data": {
      "text/plain": [
       "'y co'"
      ]
     },
     "execution_count": 63,
     "metadata": {},
     "output_type": "execute_result"
    }
   ],
   "source": [
    "a1[-9:-5]"
   ]
  },
  {
   "cell_type": "code",
   "execution_count": 64,
   "id": "6eee0d16",
   "metadata": {},
   "outputs": [],
   "source": [
    "b1=\"\"\"India is my country,\n",
    "    I am living in maharashtra.\n",
    "    My name is Nisha\"\"\""
   ]
  },
  {
   "cell_type": "code",
   "execution_count": 65,
   "id": "2fe24e07",
   "metadata": {},
   "outputs": [
    {
     "data": {
      "text/plain": [
       "'India is my country,\\n    I am living in maharashtra.\\n    My name is Nisha'"
      ]
     },
     "execution_count": 65,
     "metadata": {},
     "output_type": "execute_result"
    }
   ],
   "source": [
    "b1"
   ]
  },
  {
   "cell_type": "code",
   "execution_count": 66,
   "id": "82b2facd",
   "metadata": {},
   "outputs": [
    {
     "name": "stdout",
     "output_type": "stream",
     "text": [
      "20\t20\b"
     ]
    }
   ],
   "source": [
    "a=20\n",
    "b=30\n",
    "c=a+b\n",
    "print(a,end=\"\\t\")#tab/ 4 white space\n",
    "print(a,end=\"\\b\")#backspace"
   ]
  },
  {
   "cell_type": "code",
   "execution_count": 67,
   "id": "032155a1",
   "metadata": {},
   "outputs": [
    {
     "name": "stdout",
     "output_type": "stream",
     "text": [
      "20-30!"
     ]
    }
   ],
   "source": [
    "print(a,b,sep='-',end=\"!\")"
   ]
  },
  {
   "cell_type": "code",
   "execution_count": 68,
   "id": "35dbd2c3",
   "metadata": {
    "scrolled": true
   },
   "outputs": [
    {
     "name": "stdout",
     "output_type": "stream",
     "text": [
      "999\n"
     ]
    },
    {
     "data": {
      "text/plain": [
       "'999'"
      ]
     },
     "execution_count": 68,
     "metadata": {},
     "output_type": "execute_result"
    }
   ],
   "source": [
    "input()"
   ]
  },
  {
   "cell_type": "code",
   "execution_count": 69,
   "id": "4b7687ec",
   "metadata": {},
   "outputs": [
    {
     "name": "stdout",
     "output_type": "stream",
     "text": [
      "Enter your name: Nisha\n"
     ]
    },
    {
     "data": {
      "text/plain": [
       "'Nisha'"
      ]
     },
     "execution_count": 69,
     "metadata": {},
     "output_type": "execute_result"
    }
   ],
   "source": [
    "input(\"Enter your name: \")"
   ]
  },
  {
   "cell_type": "code",
   "execution_count": 70,
   "id": "45ad2919",
   "metadata": {},
   "outputs": [
    {
     "name": "stdout",
     "output_type": "stream",
     "text": [
      "enter first no: 8\n",
      "second no: 7\n"
     ]
    },
    {
     "data": {
      "text/plain": [
       "'7'"
      ]
     },
     "execution_count": 70,
     "metadata": {},
     "output_type": "execute_result"
    }
   ],
   "source": [
    "input(\"enter first no: \")\n",
    "input(\"second no: \")"
   ]
  },
  {
   "cell_type": "markdown",
   "id": "02cd5407",
   "metadata": {},
   "source": [
    "# Modification of string\n",
    "\n",
    "\n"
   ]
  },
  {
   "cell_type": "code",
   "execution_count": 71,
   "id": "befcc5f8",
   "metadata": {},
   "outputs": [
    {
     "data": {
      "text/plain": [
       "'india'"
      ]
     },
     "execution_count": 71,
     "metadata": {},
     "output_type": "execute_result"
    }
   ],
   "source": [
    "z=\"india\"\n",
    "z"
   ]
  },
  {
   "cell_type": "code",
   "execution_count": 72,
   "id": "b5c6bf27",
   "metadata": {},
   "outputs": [],
   "source": [
    "z1=z.upper()"
   ]
  },
  {
   "cell_type": "code",
   "execution_count": 73,
   "id": "08a56852",
   "metadata": {},
   "outputs": [
    {
     "data": {
      "text/plain": [
       "'INDIA'"
      ]
     },
     "execution_count": 73,
     "metadata": {},
     "output_type": "execute_result"
    }
   ],
   "source": [
    "z1=z.upper() \n",
    "z1"
   ]
  },
  {
   "cell_type": "code",
   "execution_count": 74,
   "id": "e485d8ae",
   "metadata": {},
   "outputs": [
    {
     "data": {
      "text/plain": [
       "'india'"
      ]
     },
     "execution_count": 74,
     "metadata": {},
     "output_type": "execute_result"
    }
   ],
   "source": [
    "z2=z1.lower()\n",
    "z2"
   ]
  },
  {
   "cell_type": "code",
   "execution_count": 75,
   "id": "ad51587c",
   "metadata": {},
   "outputs": [
    {
     "data": {
      "text/plain": [
       "'  hello, World!  '"
      ]
     },
     "execution_count": 75,
     "metadata": {},
     "output_type": "execute_result"
    }
   ],
   "source": [
    "z3=\"  hello, World!  \"  \n",
    "z3"
   ]
  },
  {
   "cell_type": "code",
   "execution_count": 76,
   "id": "b09f0f04",
   "metadata": {},
   "outputs": [
    {
     "data": {
      "text/plain": [
       "'hello, World!'"
      ]
     },
     "execution_count": 76,
     "metadata": {},
     "output_type": "execute_result"
    }
   ],
   "source": [
    "z4=z3.strip()#remove unwanted space from start and end\n",
    "z4"
   ]
  },
  {
   "cell_type": "code",
   "execution_count": 77,
   "id": "62183a0d",
   "metadata": {},
   "outputs": [
    {
     "data": {
      "text/plain": [
       "'hello, World!'"
      ]
     },
     "execution_count": 77,
     "metadata": {},
     "output_type": "execute_result"
    }
   ],
   "source": [
    "z4"
   ]
  },
  {
   "cell_type": "code",
   "execution_count": 78,
   "id": "4293e1bd",
   "metadata": {},
   "outputs": [
    {
     "data": {
      "text/plain": [
       "'Mello, World!'"
      ]
     },
     "execution_count": 78,
     "metadata": {},
     "output_type": "execute_result"
    }
   ],
   "source": [
    "z5=z4.replace(\"h\",\"M\")\n",
    "z5"
   ]
  },
  {
   "cell_type": "code",
   "execution_count": 79,
   "id": "9bf26dd9",
   "metadata": {},
   "outputs": [
    {
     "data": {
      "text/plain": [
       "'hello, Nisha!'"
      ]
     },
     "execution_count": 79,
     "metadata": {},
     "output_type": "execute_result"
    }
   ],
   "source": [
    "z5=z4.replace(\"World\",\"Nisha\")\n",
    "z5"
   ]
  },
  {
   "cell_type": "markdown",
   "id": "f63af03d",
   "metadata": {},
   "source": [
    "# split function"
   ]
  },
  {
   "cell_type": "code",
   "execution_count": 80,
   "id": "f701968c",
   "metadata": {},
   "outputs": [
    {
     "name": "stdout",
     "output_type": "stream",
     "text": [
      "['hello', ' World!']\n"
     ]
    }
   ],
   "source": [
    "print(z4.split(\",\"))"
   ]
  },
  {
   "cell_type": "markdown",
   "id": "eb485216",
   "metadata": {},
   "source": [
    "# Concatenation of string\n"
   ]
  },
  {
   "cell_type": "code",
   "execution_count": 81,
   "id": "47d6f09e",
   "metadata": {},
   "outputs": [
    {
     "data": {
      "text/plain": [
       "'Helloeveryone'"
      ]
     },
     "execution_count": 81,
     "metadata": {},
     "output_type": "execute_result"
    }
   ],
   "source": [
    "a1=\"Hello\"\n",
    "b1=\"everyone\"\n",
    "c1=a1+b1\n",
    "c1"
   ]
  },
  {
   "cell_type": "code",
   "execution_count": 82,
   "id": "568f1213",
   "metadata": {},
   "outputs": [
    {
     "data": {
      "text/plain": [
       "'Hello everyone'"
      ]
     },
     "execution_count": 82,
     "metadata": {},
     "output_type": "execute_result"
    }
   ],
   "source": [
    "c2=a1+\" \"+b1\n",
    "c2"
   ]
  },
  {
   "cell_type": "code",
   "execution_count": 83,
   "id": "624eb3e3",
   "metadata": {},
   "outputs": [
    {
     "data": {
      "text/plain": [
       "'indiaindia'"
      ]
     },
     "execution_count": 83,
     "metadata": {},
     "output_type": "execute_result"
    }
   ],
   "source": [
    "a=\"india\"\n",
    "a*2"
   ]
  },
  {
   "cell_type": "code",
   "execution_count": 84,
   "id": "1605b380",
   "metadata": {},
   "outputs": [
    {
     "data": {
      "text/plain": [
       "80"
      ]
     },
     "execution_count": 84,
     "metadata": {},
     "output_type": "execute_result"
    }
   ],
   "source": [
    "a1=20\n",
    "a1*4"
   ]
  },
  {
   "cell_type": "code",
   "execution_count": 85,
   "id": "48798266",
   "metadata": {},
   "outputs": [
    {
     "data": {
      "text/plain": [
       "'wor'"
      ]
     },
     "execution_count": 85,
     "metadata": {},
     "output_type": "execute_result"
    }
   ],
   "source": [
    "b=\"helloworld\"\n",
    "b[-5:-2]"
   ]
  },
  {
   "cell_type": "code",
   "execution_count": 86,
   "id": "0eed15fe",
   "metadata": {},
   "outputs": [
    {
     "data": {
      "text/plain": [
       "'nuja k'"
      ]
     },
     "execution_count": 86,
     "metadata": {},
     "output_type": "execute_result"
    }
   ],
   "source": [
    "a=\"anuja kanawade\"\n",
    "a[-13:-7]\n"
   ]
  },
  {
   "cell_type": "code",
   "execution_count": 87,
   "id": "a4a37fdb",
   "metadata": {},
   "outputs": [],
   "source": [
    "a=\"density based spatial cluster\""
   ]
  },
  {
   "cell_type": "code",
   "execution_count": 88,
   "id": "fb42a771",
   "metadata": {},
   "outputs": [
    {
     "data": {
      "text/plain": [
       "'sity'"
      ]
     },
     "execution_count": 88,
     "metadata": {},
     "output_type": "execute_result"
    }
   ],
   "source": [
    "a[3:7]"
   ]
  },
  {
   "cell_type": "code",
   "execution_count": 89,
   "id": "8a95e363",
   "metadata": {},
   "outputs": [
    {
     "data": {
      "text/plain": [
       "'sity'"
      ]
     },
     "execution_count": 89,
     "metadata": {},
     "output_type": "execute_result"
    }
   ],
   "source": [
    "a[-26:-22]"
   ]
  },
  {
   "cell_type": "code",
   "execution_count": 90,
   "id": "ba29583b",
   "metadata": {},
   "outputs": [
    {
     "data": {
      "text/plain": [
       "'tial'"
      ]
     },
     "execution_count": 90,
     "metadata": {},
     "output_type": "execute_result"
    }
   ],
   "source": [
    "a[17:21]"
   ]
  },
  {
   "cell_type": "code",
   "execution_count": 91,
   "id": "6cfc8a1e",
   "metadata": {},
   "outputs": [
    {
     "data": {
      "text/plain": [
       "'tial'"
      ]
     },
     "execution_count": 91,
     "metadata": {},
     "output_type": "execute_result"
    }
   ],
   "source": [
    "a[-12:-8]"
   ]
  },
  {
   "cell_type": "code",
   "execution_count": 92,
   "id": "5c61699a",
   "metadata": {},
   "outputs": [
    {
     "data": {
      "text/plain": [
       "'clus'"
      ]
     },
     "execution_count": 92,
     "metadata": {},
     "output_type": "execute_result"
    }
   ],
   "source": [
    "a[22:26]"
   ]
  },
  {
   "cell_type": "code",
   "execution_count": 93,
   "id": "b4923183",
   "metadata": {},
   "outputs": [
    {
     "data": {
      "text/plain": [
       "'clus'"
      ]
     },
     "execution_count": 93,
     "metadata": {},
     "output_type": "execute_result"
    }
   ],
   "source": [
    "a[-7:-3]"
   ]
  },
  {
   "cell_type": "code",
   "execution_count": 94,
   "id": "7959afd5",
   "metadata": {},
   "outputs": [
    {
     "data": {
      "text/plain": [
       "'sed'"
      ]
     },
     "execution_count": 94,
     "metadata": {},
     "output_type": "execute_result"
    }
   ],
   "source": [
    "a[10:13]"
   ]
  },
  {
   "cell_type": "code",
   "execution_count": 95,
   "id": "882af7bf",
   "metadata": {},
   "outputs": [
    {
     "data": {
      "text/plain": [
       "'sed'"
      ]
     },
     "execution_count": 95,
     "metadata": {},
     "output_type": "execute_result"
    }
   ],
   "source": [
    "a[-19:-16]"
   ]
  },
  {
   "cell_type": "code",
   "execution_count": 96,
   "id": "1a278627",
   "metadata": {},
   "outputs": [
    {
     "data": {
      "text/plain": [
       "'spatial'"
      ]
     },
     "execution_count": 96,
     "metadata": {},
     "output_type": "execute_result"
    }
   ],
   "source": [
    "a[14:21]"
   ]
  },
  {
   "cell_type": "code",
   "execution_count": 97,
   "id": "fafa4ed1",
   "metadata": {},
   "outputs": [
    {
     "data": {
      "text/plain": [
       "'spatial'"
      ]
     },
     "execution_count": 97,
     "metadata": {},
     "output_type": "execute_result"
    }
   ],
   "source": [
    "a[-15:-8]"
   ]
  },
  {
   "cell_type": "code",
   "execution_count": 98,
   "id": "5a0c27f3",
   "metadata": {},
   "outputs": [
    {
     "name": "stdout",
     "output_type": "stream",
     "text": [
      "my name is nisha , i am 20\n"
     ]
    }
   ],
   "source": [
    "# formating string\n",
    "age=20\n",
    "name=\"nisha\"\n",
    "t=\"my name is {} , i am {}\"\n",
    "print(t.format(name,age))"
   ]
  },
  {
   "cell_type": "code",
   "execution_count": 99,
   "id": "130085f1",
   "metadata": {},
   "outputs": [
    {
     "name": "stdout",
     "output_type": "stream",
     "text": [
      "I want to pay 49.95 dollars for 3 pieces of item 567.\n"
     ]
    }
   ],
   "source": [
    "quantity = 3\n",
    "itemno = 567\n",
    "price = 49.95\n",
    "myorder = \"I want to pay {2} dollars for {0} pieces of item {1}.\"\n",
    "print(myorder.format(quantity, itemno, price))"
   ]
  },
  {
   "cell_type": "code",
   "execution_count": 100,
   "id": "4e17dd65",
   "metadata": {},
   "outputs": [
    {
     "name": "stdout",
     "output_type": "stream",
     "text": [
      "my name is \"anuja\". \n"
     ]
    }
   ],
   "source": [
    "print(\"my name is \\\"anuja\\\". \")"
   ]
  },
  {
   "cell_type": "code",
   "execution_count": 101,
   "id": "57c30983",
   "metadata": {},
   "outputs": [
    {
     "name": "stdout",
     "output_type": "stream",
     "text": [
      "hello\n",
      "nisha\n"
     ]
    }
   ],
   "source": [
    "print(\"hello\\nnisha\")"
   ]
  },
  {
   "cell_type": "code",
   "execution_count": 102,
   "id": "64ecc96a",
   "metadata": {},
   "outputs": [
    {
     "name": "stdout",
     "output_type": "stream",
     "text": [
      "the value is 10\n"
     ]
    }
   ],
   "source": [
    "a=10\n",
    "print(\"the value is {}\".format(a))"
   ]
  },
  {
   "cell_type": "code",
   "execution_count": 103,
   "id": "c0c364f1",
   "metadata": {},
   "outputs": [],
   "source": [
    "#specifiers ========= %f = float , %s = string  , %d = integer"
   ]
  },
  {
   "cell_type": "code",
   "execution_count": 104,
   "id": "e8dc0083",
   "metadata": {},
   "outputs": [
    {
     "name": "stdout",
     "output_type": "stream",
     "text": [
      "hello my name is nisha\n"
     ]
    }
   ],
   "source": [
    "name=\"nisha\"\n",
    "print(\"hello my name is %s\" %(name))"
   ]
  },
  {
   "cell_type": "code",
   "execution_count": 105,
   "id": "8a96dc33",
   "metadata": {},
   "outputs": [
    {
     "name": "stdout",
     "output_type": "stream",
     "text": [
      "the age is 10 name is john and height is 20.330000\n"
     ]
    }
   ],
   "source": [
    "a=10\n",
    "b=\"john\"\n",
    "c=20.33\n",
    "print(\"the age is %d name is %s and height is %f\" %(a,b,c))"
   ]
  },
  {
   "cell_type": "code",
   "execution_count": 106,
   "id": "9a7e77d4",
   "metadata": {},
   "outputs": [
    {
     "name": "stdout",
     "output_type": "stream",
     "text": [
      "the age is 10 name is john and height is 20.33\n"
     ]
    }
   ],
   "source": [
    "print(\"the age is {} name is {} and height is {}\".format(a,b,c))"
   ]
  },
  {
   "cell_type": "code",
   "execution_count": 107,
   "id": "9f90dec6",
   "metadata": {},
   "outputs": [
    {
     "name": "stdout",
     "output_type": "stream",
     "text": [
      "the age is 10 name is john and height is 20.33\n"
     ]
    }
   ],
   "source": [
    "print(\"the age is\",a,\"name is\",b,\"and height is\",c)"
   ]
  },
  {
   "cell_type": "code",
   "execution_count": 108,
   "id": "b3c2a176",
   "metadata": {},
   "outputs": [],
   "source": [
    "#booblean for null bool is false"
   ]
  },
  {
   "cell_type": "code",
   "execution_count": 109,
   "id": "4d5517b4",
   "metadata": {},
   "outputs": [
    {
     "name": "stdout",
     "output_type": "stream",
     "text": [
      "True True False\n"
     ]
    }
   ],
   "source": [
    "print(bool(12),bool(\"anuja\"),bool(\"\"))"
   ]
  },
  {
   "cell_type": "markdown",
   "id": "93038be1",
   "metadata": {},
   "source": [
    "# python operators\n"
   ]
  },
  {
   "cell_type": "markdown",
   "id": "36ba869e",
   "metadata": {},
   "source": [
    "1 arithmetic\n",
    "2 assignment\n",
    "3 comaprison\n",
    "4 logical\n",
    "5 Identity\n",
    "6 Membership"
   ]
  },
  {
   "cell_type": "markdown",
   "id": "83ae154f",
   "metadata": {},
   "source": [
    "### arithmetic operators"
   ]
  },
  {
   "cell_type": "markdown",
   "id": "a5137112",
   "metadata": {},
   "source": [
    "#### +  ,  - ,  *,  / , % , ** , //"
   ]
  },
  {
   "cell_type": "code",
   "execution_count": 110,
   "id": "eba77945",
   "metadata": {},
   "outputs": [
    {
     "data": {
      "text/plain": [
       "0"
      ]
     },
     "execution_count": 110,
     "metadata": {},
     "output_type": "execute_result"
    }
   ],
   "source": [
    "4%2 # remainder modulus division"
   ]
  },
  {
   "cell_type": "code",
   "execution_count": 111,
   "id": "fbde3158",
   "metadata": {},
   "outputs": [
    {
     "data": {
      "text/plain": [
       "2.0"
      ]
     },
     "execution_count": 111,
     "metadata": {},
     "output_type": "execute_result"
    }
   ],
   "source": [
    "4/2"
   ]
  },
  {
   "cell_type": "code",
   "execution_count": 112,
   "id": "a76deb2b",
   "metadata": {},
   "outputs": [
    {
     "data": {
      "text/plain": [
       "4"
      ]
     },
     "execution_count": 112,
     "metadata": {},
     "output_type": "execute_result"
    }
   ],
   "source": [
    "2**2 #exponential"
   ]
  },
  {
   "cell_type": "code",
   "execution_count": 113,
   "id": "5158079b",
   "metadata": {},
   "outputs": [
    {
     "data": {
      "text/plain": [
       "7"
      ]
     },
     "execution_count": 113,
     "metadata": {},
     "output_type": "execute_result"
    }
   ],
   "source": [
    "15//2  # floor division (division= 7.5 so floor =7 & ceiling = 8) "
   ]
  },
  {
   "cell_type": "markdown",
   "id": "fc5016d2",
   "metadata": {},
   "source": [
    "### assignment operators"
   ]
  },
  {
   "cell_type": "markdown",
   "id": "11268cd7",
   "metadata": {},
   "source": [
    "## =  , +=  , -=  , *= , /= , %= , //= , **="
   ]
  },
  {
   "cell_type": "code",
   "execution_count": 114,
   "id": "60f80182",
   "metadata": {},
   "outputs": [
    {
     "data": {
      "text/plain": [
       "8"
      ]
     },
     "execution_count": 114,
     "metadata": {},
     "output_type": "execute_result"
    }
   ],
   "source": [
    "x=5\n",
    "x+=3\n",
    "x"
   ]
  },
  {
   "cell_type": "code",
   "execution_count": 115,
   "id": "d2a13c7b",
   "metadata": {},
   "outputs": [
    {
     "data": {
      "text/plain": [
       "7"
      ]
     },
     "execution_count": 115,
     "metadata": {},
     "output_type": "execute_result"
    }
   ],
   "source": [
    "x -= 1\n",
    "x"
   ]
  },
  {
   "cell_type": "code",
   "execution_count": 116,
   "id": "ebcf1fd5",
   "metadata": {},
   "outputs": [
    {
     "data": {
      "text/plain": [
       "14"
      ]
     },
     "execution_count": 116,
     "metadata": {},
     "output_type": "execute_result"
    }
   ],
   "source": [
    "x *= 2\n",
    "x"
   ]
  },
  {
   "cell_type": "code",
   "execution_count": 117,
   "id": "86cda3ff",
   "metadata": {},
   "outputs": [
    {
     "data": {
      "text/plain": [
       "0"
      ]
     },
     "execution_count": 117,
     "metadata": {},
     "output_type": "execute_result"
    }
   ],
   "source": [
    "x %= 2\n",
    "x"
   ]
  },
  {
   "cell_type": "code",
   "execution_count": 118,
   "id": "649b165b",
   "metadata": {},
   "outputs": [
    {
     "data": {
      "text/plain": [
       "1"
      ]
     },
     "execution_count": 118,
     "metadata": {},
     "output_type": "execute_result"
    }
   ],
   "source": [
    "x=5\n",
    "x //= 3\n",
    "x"
   ]
  },
  {
   "cell_type": "code",
   "execution_count": 119,
   "id": "7f68ed03",
   "metadata": {},
   "outputs": [
    {
     "data": {
      "text/plain": [
       "1"
      ]
     },
     "execution_count": 119,
     "metadata": {},
     "output_type": "execute_result"
    }
   ],
   "source": [
    "x **= 3\n",
    "x"
   ]
  },
  {
   "cell_type": "markdown",
   "id": "7164df96",
   "metadata": {},
   "source": [
    "### comparison operators"
   ]
  },
  {
   "cell_type": "markdown",
   "id": "b55027dc",
   "metadata": {},
   "source": [
    "## ==, != , > , < , <= ,>="
   ]
  },
  {
   "cell_type": "code",
   "execution_count": 120,
   "id": "6c593f91",
   "metadata": {},
   "outputs": [
    {
     "data": {
      "text/plain": [
       "False"
      ]
     },
     "execution_count": 120,
     "metadata": {},
     "output_type": "execute_result"
    }
   ],
   "source": [
    "20==10"
   ]
  },
  {
   "cell_type": "code",
   "execution_count": 121,
   "id": "d3ff1427",
   "metadata": {},
   "outputs": [
    {
     "data": {
      "text/plain": [
       "True"
      ]
     },
     "execution_count": 121,
     "metadata": {},
     "output_type": "execute_result"
    }
   ],
   "source": [
    "2 != 20 #not equal to"
   ]
  },
  {
   "cell_type": "code",
   "execution_count": 122,
   "id": "006942aa",
   "metadata": {},
   "outputs": [
    {
     "data": {
      "text/plain": [
       "False"
      ]
     },
     "execution_count": 122,
     "metadata": {},
     "output_type": "execute_result"
    }
   ],
   "source": [
    "30<10\n"
   ]
  },
  {
   "cell_type": "code",
   "execution_count": 123,
   "id": "0203c91c",
   "metadata": {},
   "outputs": [
    {
     "data": {
      "text/plain": [
       "True"
      ]
     },
     "execution_count": 123,
     "metadata": {},
     "output_type": "execute_result"
    }
   ],
   "source": [
    "30>10"
   ]
  },
  {
   "cell_type": "code",
   "execution_count": 124,
   "id": "f81eae82",
   "metadata": {},
   "outputs": [
    {
     "data": {
      "text/plain": [
       "True"
      ]
     },
     "execution_count": 124,
     "metadata": {},
     "output_type": "execute_result"
    }
   ],
   "source": [
    "10<=30"
   ]
  },
  {
   "cell_type": "markdown",
   "id": "053d7a8d",
   "metadata": {},
   "source": [
    "## logical operators"
   ]
  },
  {
   "cell_type": "markdown",
   "id": "d05b9b3a",
   "metadata": {},
   "source": [
    "### AND , OR , NOT"
   ]
  },
  {
   "cell_type": "code",
   "execution_count": 125,
   "id": "46d82f05",
   "metadata": {},
   "outputs": [
    {
     "data": {
      "text/plain": [
       "False"
      ]
     },
     "execution_count": 125,
     "metadata": {},
     "output_type": "execute_result"
    }
   ],
   "source": [
    "x<5 and x>10"
   ]
  },
  {
   "cell_type": "code",
   "execution_count": 126,
   "id": "ae8c7132",
   "metadata": {},
   "outputs": [
    {
     "data": {
      "text/plain": [
       "False"
      ]
     },
     "execution_count": 126,
     "metadata": {},
     "output_type": "execute_result"
    }
   ],
   "source": [
    "x<2 and x>20"
   ]
  },
  {
   "cell_type": "code",
   "execution_count": 127,
   "id": "d1cc3040",
   "metadata": {},
   "outputs": [
    {
     "data": {
      "text/plain": [
       "False"
      ]
     },
     "execution_count": 127,
     "metadata": {},
     "output_type": "execute_result"
    }
   ],
   "source": [
    "x>2 and x>1"
   ]
  },
  {
   "cell_type": "code",
   "execution_count": 128,
   "id": "f1865268",
   "metadata": {},
   "outputs": [],
   "source": [
    "x=3\n",
    "y=2"
   ]
  },
  {
   "cell_type": "code",
   "execution_count": 129,
   "id": "4ff342e0",
   "metadata": {},
   "outputs": [
    {
     "data": {
      "text/plain": [
       "True"
      ]
     },
     "execution_count": 129,
     "metadata": {},
     "output_type": "execute_result"
    }
   ],
   "source": [
    "x==3 and y==2"
   ]
  },
  {
   "cell_type": "code",
   "execution_count": 130,
   "id": "2a7230c1",
   "metadata": {},
   "outputs": [],
   "source": [
    "# if any one condition is true then result is true"
   ]
  },
  {
   "cell_type": "code",
   "execution_count": 131,
   "id": "b223961a",
   "metadata": {},
   "outputs": [
    {
     "data": {
      "text/plain": [
       "True"
      ]
     },
     "execution_count": 131,
     "metadata": {},
     "output_type": "execute_result"
    }
   ],
   "source": [
    "x>1 or y >3 # T or F == T"
   ]
  },
  {
   "cell_type": "code",
   "execution_count": 132,
   "id": "094dcce8",
   "metadata": {},
   "outputs": [
    {
     "data": {
      "text/plain": [
       "False"
      ]
     },
     "execution_count": 132,
     "metadata": {},
     "output_type": "execute_result"
    }
   ],
   "source": [
    "x> 5 or y>5 #F or F === F"
   ]
  },
  {
   "cell_type": "code",
   "execution_count": 133,
   "id": "9c552439",
   "metadata": {},
   "outputs": [
    {
     "data": {
      "text/plain": [
       "True"
      ]
     },
     "execution_count": 133,
     "metadata": {},
     "output_type": "execute_result"
    }
   ],
   "source": [
    "not(x> 5 or y>5) ## not(False)"
   ]
  },
  {
   "cell_type": "markdown",
   "id": "461b11c8",
   "metadata": {},
   "source": [
    "### Identity operators ( works with memory location) \n",
    "comparison operators(compare elements)"
   ]
  },
  {
   "cell_type": "markdown",
   "id": "db029924",
   "metadata": {},
   "source": [
    "### is , is not"
   ]
  },
  {
   "cell_type": "code",
   "execution_count": 134,
   "id": "d69d2f79",
   "metadata": {},
   "outputs": [
    {
     "name": "stdout",
     "output_type": "stream",
     "text": [
      "True\n",
      "2085817270384 2085817270384\n"
     ]
    }
   ],
   "source": [
    "x=\"anuja\"\n",
    "y=\"anuja\"\n",
    "print(x is y)\n",
    "print(id(x),id(y))"
   ]
  },
  {
   "cell_type": "code",
   "execution_count": 135,
   "id": "16058c85",
   "metadata": {},
   "outputs": [
    {
     "name": "stdout",
     "output_type": "stream",
     "text": [
      "False\n",
      "2085817273792 2085817273984\n",
      "True\n",
      "2085817273984 2085817273984\n"
     ]
    }
   ],
   "source": [
    "a=[\"anuja\"]\n",
    "b=[\"anuja\"]\n",
    "print(a is b)\n",
    "print(id(a),id(b))\n",
    "\n",
    "a=b #making them same \n",
    "print(a is b)\n",
    "print(id(a),id(b))"
   ]
  },
  {
   "cell_type": "code",
   "execution_count": 136,
   "id": "c99fe28e",
   "metadata": {},
   "outputs": [
    {
     "name": "stdout",
     "output_type": "stream",
     "text": [
      "using \"comparison\" operator a==b : True\n",
      "using \"is\" operator a is b: False\n",
      "using \"is not\" operator a is not b: True\n"
     ]
    }
   ],
   "source": [
    "a=[\"apple\",\"banana\"]\n",
    "b=[\"apple\",\"banana\"]\n",
    "print(\"using \\\"comparison\\\" operator a==b :\",a==b)\n",
    "print(\"using \\\"is\\\" operator a is b:\",a is b)\n",
    "print(\"using \\\"is not\\\" operator a is not b:\" ,a is not b)"
   ]
  },
  {
   "cell_type": "code",
   "execution_count": 137,
   "id": "93a6664c",
   "metadata": {},
   "outputs": [
    {
     "name": "stdout",
     "output_type": "stream",
     "text": [
      "False\n"
     ]
    }
   ],
   "source": [
    "print(a!=b) # not equal operator ...but the elements re same"
   ]
  },
  {
   "cell_type": "code",
   "execution_count": 138,
   "id": "cccc97ca",
   "metadata": {},
   "outputs": [
    {
     "name": "stdout",
     "output_type": "stream",
     "text": [
      "False\n"
     ]
    }
   ],
   "source": [
    "a=20,30\n",
    "b=10,40\n",
    "print(a is b)"
   ]
  },
  {
   "cell_type": "markdown",
   "id": "08a2a7f8",
   "metadata": {},
   "source": [
    "### Membership operators = in , not in"
   ]
  },
  {
   "cell_type": "code",
   "execution_count": 139,
   "id": "919fd817",
   "metadata": {},
   "outputs": [
    {
     "name": "stdout",
     "output_type": "stream",
     "text": [
      "True\n",
      "False\n"
     ]
    }
   ],
   "source": [
    "x1=[\"red\",\"blue\",\"black\"]\n",
    "print(\"red\" in x1)\n",
    "print(\"red\" not in x1) ## red is member of x1"
   ]
  },
  {
   "cell_type": "code",
   "execution_count": 140,
   "id": "273fe3fb",
   "metadata": {},
   "outputs": [
    {
     "name": "stdout",
     "output_type": "stream",
     "text": [
      "No Python documentation found for 'binary value'.\n",
      "Use help() to get the interactive help utility.\n",
      "Use help(str) for help on the str class.\n",
      "\n"
     ]
    }
   ],
   "source": [
    "help(\"binary value\")"
   ]
  },
  {
   "cell_type": "markdown",
   "id": "4f6e1902",
   "metadata": {},
   "source": [
    "## Bitwise operator"
   ]
  },
  {
   "cell_type": "code",
   "execution_count": 141,
   "id": "85ac50df",
   "metadata": {},
   "outputs": [
    {
     "name": "stdout",
     "output_type": "stream",
     "text": [
      "-100\n"
     ]
    }
   ],
   "source": [
    "print(bin(-4).replace(\"0b\", \"\"))"
   ]
  },
  {
   "cell_type": "code",
   "execution_count": 142,
   "id": "5faebc74",
   "metadata": {},
   "outputs": [
    {
     "name": "stdout",
     "output_type": "stream",
     "text": [
      "0\n"
     ]
    }
   ],
   "source": [
    "print(8 & 2) # and operator"
   ]
  },
  {
   "cell_type": "code",
   "execution_count": 143,
   "id": "952909bc",
   "metadata": {},
   "outputs": [
    {
     "name": "stdout",
     "output_type": "stream",
     "text": [
      "-4\n"
     ]
    }
   ],
   "source": [
    "print(~3) # not operator"
   ]
  },
  {
   "cell_type": "code",
   "execution_count": null,
   "id": "52326148",
   "metadata": {},
   "outputs": [],
   "source": []
  },
  {
   "cell_type": "code",
   "execution_count": null,
   "id": "b4e3202b",
   "metadata": {},
   "outputs": [],
   "source": []
  },
  {
   "cell_type": "code",
   "execution_count": 144,
   "id": "cafcac8e",
   "metadata": {},
   "outputs": [
    {
     "name": "stdout",
     "output_type": "stream",
     "text": [
      "my name is anuja kanawade\n",
      "my name is kanawade anuja\n"
     ]
    }
   ],
   "source": [
    "first_name =\"anuja\"\n",
    "last_name = \"kanawade\"\n",
    "print(\"my name is {} {}\".format(first_name,last_name))\n",
    "print(\"my name is {1} {0}\".format(first_name,last_name))"
   ]
  },
  {
   "cell_type": "code",
   "execution_count": 145,
   "id": "f47fa7ab",
   "metadata": {},
   "outputs": [
    {
     "name": "stdout",
     "output_type": "stream",
     "text": [
      "my name is anuja kanawade\n"
     ]
    }
   ],
   "source": [
    "print(\"my name is %s %s\" %(first_name,last_name))"
   ]
  },
  {
   "cell_type": "code",
   "execution_count": 146,
   "id": "ad41317d",
   "metadata": {},
   "outputs": [
    {
     "ename": "ValueError",
     "evalue": "invalid literal for int() with base 10: 'anuja'",
     "output_type": "error",
     "traceback": [
      "\u001b[1;31m---------------------------------------------------------------------------\u001b[0m",
      "\u001b[1;31mValueError\u001b[0m                                Traceback (most recent call last)",
      "Input \u001b[1;32mIn [146]\u001b[0m, in \u001b[0;36m<cell line: 2>\u001b[1;34m()\u001b[0m\n\u001b[0;32m      1\u001b[0m a\u001b[38;5;241m=\u001b[39m\u001b[38;5;124m\"\u001b[39m\u001b[38;5;124manuja\u001b[39m\u001b[38;5;124m\"\u001b[39m\n\u001b[1;32m----> 2\u001b[0m b\u001b[38;5;241m=\u001b[39m\u001b[38;5;28;43mint\u001b[39;49m\u001b[43m(\u001b[49m\u001b[43ma\u001b[49m\u001b[43m)\u001b[49m\n\u001b[0;32m      3\u001b[0m \u001b[38;5;28mtype\u001b[39m(b)\n",
      "\u001b[1;31mValueError\u001b[0m: invalid literal for int() with base 10: 'anuja'"
     ]
    }
   ],
   "source": [
    "a=\"anuja\"\n",
    "b=int(a)\n",
    "type(b)"
   ]
  },
  {
   "cell_type": "code",
   "execution_count": null,
   "id": "4a7e23fd",
   "metadata": {},
   "outputs": [],
   "source": [
    "a=\"1234\"\n",
    "b=int(a)\n",
    "type(b)"
   ]
  },
  {
   "cell_type": "code",
   "execution_count": null,
   "id": "d9bd3e18",
   "metadata": {},
   "outputs": [],
   "source": [
    "a=5+3j\n",
    "type(a)\n",
    "b=int(a)\n",
    "type(b)"
   ]
  },
  {
   "cell_type": "markdown",
   "id": "5b7deb1d",
   "metadata": {},
   "source": [
    "# LIST "
   ]
  },
  {
   "cell_type": "raw",
   "id": "00cdf70d",
   "metadata": {},
   "source": [
    "[]\n",
    "built in data type \n",
    "contained mixed data items\n",
    "1-D\n",
    "ordered , mutable(changeable) , allows duplicates"
   ]
  },
  {
   "cell_type": "code",
   "execution_count": 147,
   "id": "f56acd4a",
   "metadata": {},
   "outputs": [],
   "source": [
    "l1=[\"anuja\",56,2.5,True] # mixed data items "
   ]
  },
  {
   "cell_type": "code",
   "execution_count": 148,
   "id": "7e4052b0",
   "metadata": {},
   "outputs": [
    {
     "data": {
      "text/plain": [
       "[56, 'anuja']"
      ]
     },
     "execution_count": 148,
     "metadata": {},
     "output_type": "execute_result"
    }
   ],
   "source": [
    "l1[1::-1]"
   ]
  },
  {
   "cell_type": "code",
   "execution_count": 149,
   "id": "13d2af83",
   "metadata": {},
   "outputs": [
    {
     "name": "stdout",
     "output_type": "stream",
     "text": [
      "['anuja', 0, 2.5, True]\n"
     ]
    }
   ],
   "source": [
    "l1[1]=0\n",
    "print(l1) # changeable"
   ]
  },
  {
   "cell_type": "code",
   "execution_count": 150,
   "id": "fc05db1f",
   "metadata": {},
   "outputs": [
    {
     "name": "stdout",
     "output_type": "stream",
     "text": [
      "['anuja', 0, 2.5, 2.5, True]\n"
     ]
    }
   ],
   "source": [
    "l1.insert(3,2.5) # only at particular index (index,element to add)\n",
    "print(l1)"
   ]
  },
  {
   "cell_type": "code",
   "execution_count": 151,
   "id": "8ec2a824",
   "metadata": {},
   "outputs": [
    {
     "data": {
      "text/plain": [
       "['anuja', 'a', 'b', 2.5, True]"
      ]
     },
     "execution_count": 151,
     "metadata": {},
     "output_type": "execute_result"
    }
   ],
   "source": [
    "l1[1:3]=[\"a\",\"b\"]\n",
    "l1"
   ]
  },
  {
   "cell_type": "code",
   "execution_count": 152,
   "id": "e339c52b",
   "metadata": {},
   "outputs": [],
   "source": [
    "list1=[\"pune\",\"mumbai\",100,333,22.34,90.89,True,\"Delhi\",\"Red\",45]"
   ]
  },
  {
   "cell_type": "code",
   "execution_count": 153,
   "id": "ec3edb97",
   "metadata": {},
   "outputs": [
    {
     "data": {
      "text/plain": [
       "['mumbai', 100, 333]"
      ]
     },
     "execution_count": 153,
     "metadata": {},
     "output_type": "execute_result"
    }
   ],
   "source": [
    "list1[1:4]"
   ]
  },
  {
   "cell_type": "code",
   "execution_count": 154,
   "id": "d548e0f3",
   "metadata": {},
   "outputs": [
    {
     "data": {
      "text/plain": [
       "[90.89, True, 'Delhi']"
      ]
     },
     "execution_count": 154,
     "metadata": {},
     "output_type": "execute_result"
    }
   ],
   "source": [
    "list1[5:8]"
   ]
  },
  {
   "cell_type": "code",
   "execution_count": 155,
   "id": "b8a5c391",
   "metadata": {},
   "outputs": [
    {
     "data": {
      "text/plain": [
       "['Red', 45]"
      ]
     },
     "execution_count": 155,
     "metadata": {},
     "output_type": "execute_result"
    }
   ],
   "source": [
    "list1[-2:]"
   ]
  },
  {
   "cell_type": "code",
   "execution_count": 156,
   "id": "84e53faa",
   "metadata": {},
   "outputs": [
    {
     "data": {
      "text/plain": [
       "['pune', 'mumbai', 100, 333]"
      ]
     },
     "execution_count": 156,
     "metadata": {},
     "output_type": "execute_result"
    }
   ],
   "source": [
    "list1[:4]"
   ]
  },
  {
   "cell_type": "code",
   "execution_count": 157,
   "id": "95dcf56a",
   "metadata": {},
   "outputs": [],
   "source": [
    "list1.insert(7,\"bangalore\")"
   ]
  },
  {
   "cell_type": "code",
   "execution_count": 158,
   "id": "92492335",
   "metadata": {
    "scrolled": true
   },
   "outputs": [
    {
     "data": {
      "text/plain": [
       "['pune',\n",
       " 'mumbai',\n",
       " 100,\n",
       " 333,\n",
       " 22.34,\n",
       " 90.89,\n",
       " True,\n",
       " 'bangalore',\n",
       " 'Delhi',\n",
       " 'Red',\n",
       " 45]"
      ]
     },
     "execution_count": 158,
     "metadata": {},
     "output_type": "execute_result"
    }
   ],
   "source": [
    "list1"
   ]
  },
  {
   "cell_type": "code",
   "execution_count": 159,
   "id": "a6686312",
   "metadata": {},
   "outputs": [
    {
     "data": {
      "text/plain": [
       "['pune',\n",
       " 'mumbai',\n",
       " 100,\n",
       " 333,\n",
       " 22.34,\n",
       " 90.89,\n",
       " True,\n",
       " 'bangalore',\n",
       " 'Delhi',\n",
       " 'black',\n",
       " 45]"
      ]
     },
     "execution_count": 159,
     "metadata": {},
     "output_type": "execute_result"
    }
   ],
   "source": [
    "list1[-2] =\"black\"\n",
    "list1"
   ]
  },
  {
   "cell_type": "code",
   "execution_count": 160,
   "id": "0a8d2146",
   "metadata": {},
   "outputs": [],
   "source": [
    "list1[1:4]=[\"india\",\"chennai\",\"noida\"]"
   ]
  },
  {
   "cell_type": "code",
   "execution_count": 161,
   "id": "88abcb38",
   "metadata": {},
   "outputs": [
    {
     "data": {
      "text/plain": [
       "['pune',\n",
       " 'india',\n",
       " 'chennai',\n",
       " 'noida',\n",
       " 22.34,\n",
       " 90.89,\n",
       " True,\n",
       " 'bangalore',\n",
       " 'Delhi',\n",
       " 'black',\n",
       " 45]"
      ]
     },
     "execution_count": 161,
     "metadata": {},
     "output_type": "execute_result"
    }
   ],
   "source": [
    "list1"
   ]
  },
  {
   "cell_type": "code",
   "execution_count": 162,
   "id": "66776a5b",
   "metadata": {},
   "outputs": [],
   "source": [
    "list1.append(1000)"
   ]
  },
  {
   "cell_type": "code",
   "execution_count": 163,
   "id": "de9e9928",
   "metadata": {},
   "outputs": [
    {
     "name": "stdout",
     "output_type": "stream",
     "text": [
      "['pune', 'india', 'chennai', 'noida', 22.34, 90.89, True, 'bangalore', 'Delhi', 'black', 45, 1000]\n"
     ]
    }
   ],
   "source": [
    "print(list1)"
   ]
  },
  {
   "cell_type": "code",
   "execution_count": 164,
   "id": "c4c7b802",
   "metadata": {},
   "outputs": [
    {
     "name": "stdout",
     "output_type": "stream",
     "text": [
      "[1, 2, 3, 4, 5, 6]\n"
     ]
    }
   ],
   "source": [
    "a1=[1,2,3]\n",
    "a2=[4,5,6]\n",
    "a1.extend(a2)\n",
    "print(a1)"
   ]
  },
  {
   "cell_type": "code",
   "execution_count": 165,
   "id": "62e15844",
   "metadata": {},
   "outputs": [],
   "source": [
    "a1.append(a2)"
   ]
  },
  {
   "cell_type": "code",
   "execution_count": 166,
   "id": "27ec28e4",
   "metadata": {},
   "outputs": [
    {
     "data": {
      "text/plain": [
       "[1, 2, 3, 4, 5, 6, [4, 5, 6]]"
      ]
     },
     "execution_count": 166,
     "metadata": {},
     "output_type": "execute_result"
    }
   ],
   "source": [
    "a1"
   ]
  },
  {
   "cell_type": "markdown",
   "id": "30db4f9b",
   "metadata": {},
   "source": [
    "# Adding elements to list - insert , append , extend \n",
    "\n",
    "insert - add element at particular location .\n",
    "        can add only single element.at particular loc.\n",
    "        u can also add whole list bt that will become nested list.\n",
    "        \n",
    "append - add element last position\n",
    "\n",
    "extend - add elements combine elements of 2 lists"
   ]
  },
  {
   "cell_type": "markdown",
   "id": "abf1e4c4",
   "metadata": {},
   "source": [
    "# remove(),pop(),del(),clear(),"
   ]
  },
  {
   "cell_type": "code",
   "execution_count": 167,
   "id": "42127e48",
   "metadata": {},
   "outputs": [
    {
     "name": "stdout",
     "output_type": "stream",
     "text": [
      "['pune', 'india', 'chennai', 'noida', 22.34, 90.89, True, 'bangalore', 'Delhi', 'black', 45, 1000]\n"
     ]
    }
   ],
   "source": [
    "print(list1)"
   ]
  },
  {
   "cell_type": "code",
   "execution_count": 168,
   "id": "326fe825",
   "metadata": {},
   "outputs": [],
   "source": [
    "list1.remove(\"pune\")"
   ]
  },
  {
   "cell_type": "code",
   "execution_count": 169,
   "id": "2b2df0e9",
   "metadata": {},
   "outputs": [
    {
     "name": "stdout",
     "output_type": "stream",
     "text": [
      "['india', 'chennai', 'noida', 22.34, 90.89, True, 'bangalore', 'Delhi', 'black', 45, 1000]\n"
     ]
    }
   ],
   "source": [
    "print(list1)"
   ]
  },
  {
   "cell_type": "code",
   "execution_count": 170,
   "id": "21cfdb69",
   "metadata": {},
   "outputs": [
    {
     "name": "stdout",
     "output_type": "stream",
     "text": [
      "['chennai', 'noida', 22.34, 90.89, True, 'bangalore', 'Delhi', 'black', 45, 1000]\n"
     ]
    }
   ],
   "source": [
    "list1.pop(0)\n",
    "print(list1)"
   ]
  },
  {
   "cell_type": "code",
   "execution_count": 171,
   "id": "c3cbdc0b",
   "metadata": {},
   "outputs": [
    {
     "data": {
      "text/plain": [
       "1000"
      ]
     },
     "execution_count": 171,
     "metadata": {},
     "output_type": "execute_result"
    }
   ],
   "source": [
    "list1.pop() # by default last element del"
   ]
  },
  {
   "cell_type": "code",
   "execution_count": 172,
   "id": "807b95e7",
   "metadata": {},
   "outputs": [
    {
     "name": "stdout",
     "output_type": "stream",
     "text": [
      "['chennai', 'noida', 22.34, 90.89, True, 'bangalore', 'Delhi', 'black', 45]\n"
     ]
    }
   ],
   "source": [
    "print(list1)"
   ]
  },
  {
   "cell_type": "code",
   "execution_count": 173,
   "id": "2e8349c2",
   "metadata": {},
   "outputs": [
    {
     "name": "stdout",
     "output_type": "stream",
     "text": [
      "['noida', 22.34, 90.89, True, 'bangalore', 'Delhi', 'black', 45]\n"
     ]
    }
   ],
   "source": [
    "del list1[0]\n",
    "print(list1)"
   ]
  },
  {
   "cell_type": "code",
   "execution_count": 174,
   "id": "ab0a6514",
   "metadata": {},
   "outputs": [],
   "source": [
    "del list1 #delete list"
   ]
  },
  {
   "cell_type": "code",
   "execution_count": 175,
   "id": "c9d982cf",
   "metadata": {},
   "outputs": [
    {
     "ename": "NameError",
     "evalue": "name 'list1' is not defined",
     "output_type": "error",
     "traceback": [
      "\u001b[1;31m---------------------------------------------------------------------------\u001b[0m",
      "\u001b[1;31mNameError\u001b[0m                                 Traceback (most recent call last)",
      "Input \u001b[1;32mIn [175]\u001b[0m, in \u001b[0;36m<cell line: 1>\u001b[1;34m()\u001b[0m\n\u001b[1;32m----> 1\u001b[0m \u001b[38;5;28mprint\u001b[39m(\u001b[43mlist1\u001b[49m)\n",
      "\u001b[1;31mNameError\u001b[0m: name 'list1' is not defined"
     ]
    }
   ],
   "source": [
    "print(list1)"
   ]
  },
  {
   "cell_type": "code",
   "execution_count": 176,
   "id": "20092e2d",
   "metadata": {},
   "outputs": [],
   "source": [
    "l1=['chennai', 'noida', 22.34, 90.89, True, 'bangalore', 'Delhi', 'black', 45, 1000]"
   ]
  },
  {
   "cell_type": "code",
   "execution_count": 177,
   "id": "0444632b",
   "metadata": {},
   "outputs": [
    {
     "name": "stdout",
     "output_type": "stream",
     "text": [
      "[]\n"
     ]
    }
   ],
   "source": [
    "l1.clear() # only delete elements not list\n",
    "print(l1)"
   ]
  },
  {
   "cell_type": "code",
   "execution_count": 178,
   "id": "d7bfa147",
   "metadata": {},
   "outputs": [],
   "source": [
    "a1=[\"anuja\",\"i\", \"am\",\"happy\"]"
   ]
  },
  {
   "cell_type": "code",
   "execution_count": 179,
   "id": "5f5874ac",
   "metadata": {},
   "outputs": [
    {
     "name": "stdout",
     "output_type": "stream",
     "text": [
      "['anuja', 'am', 'happy']\n"
     ]
    }
   ],
   "source": [
    "print([x for x in a1 if \"a\" in x])"
   ]
  },
  {
   "cell_type": "code",
   "execution_count": 180,
   "id": "9eff834a",
   "metadata": {},
   "outputs": [
    {
     "name": "stdout",
     "output_type": "stream",
     "text": [
      "['am', 'anuja', 'happy', 'i']\n"
     ]
    }
   ],
   "source": [
    "a1.sort() # to use sort ur list must have same data type\n",
    "print(a1) # default ascending "
   ]
  },
  {
   "cell_type": "code",
   "execution_count": 181,
   "id": "68bf0463",
   "metadata": {},
   "outputs": [
    {
     "name": "stdout",
     "output_type": "stream",
     "text": [
      "['i', 'happy', 'anuja', 'am']\n"
     ]
    }
   ],
   "source": [
    "a1.sort(reverse=True)\n",
    "print(a1)"
   ]
  },
  {
   "cell_type": "code",
   "execution_count": 182,
   "id": "efa1ffc6",
   "metadata": {},
   "outputs": [
    {
     "data": {
      "text/plain": [
       "['am', 'anuja', 'happy', 'i']"
      ]
     },
     "execution_count": 182,
     "metadata": {},
     "output_type": "execute_result"
    }
   ],
   "source": [
    "a1.reverse()\n",
    "a1"
   ]
  },
  {
   "cell_type": "code",
   "execution_count": 183,
   "id": "f3177a23",
   "metadata": {},
   "outputs": [
    {
     "data": {
      "text/plain": [
       "['i', 'happy', 'anuja', 'am']"
      ]
     },
     "execution_count": 183,
     "metadata": {},
     "output_type": "execute_result"
    }
   ],
   "source": [
    "a1.reverse()\n",
    "a1"
   ]
  },
  {
   "cell_type": "raw",
   "id": "2e2af2e1",
   "metadata": {},
   "source": [
    "copy = original data is not changed"
   ]
  },
  {
   "cell_type": "code",
   "execution_count": 184,
   "id": "a2f15ddd",
   "metadata": {},
   "outputs": [],
   "source": [
    "a2=a1.copy()"
   ]
  },
  {
   "cell_type": "code",
   "execution_count": 185,
   "id": "cb8da622",
   "metadata": {},
   "outputs": [],
   "source": [
    "a2[0] = 12"
   ]
  },
  {
   "cell_type": "code",
   "execution_count": 186,
   "id": "f090365e",
   "metadata": {},
   "outputs": [
    {
     "name": "stdout",
     "output_type": "stream",
     "text": [
      "['i', 'happy', 'anuja', 'am']\n",
      "[12, 'happy', 'anuja', 'am']\n"
     ]
    }
   ],
   "source": [
    "print(a1)\n",
    "print(a2)"
   ]
  },
  {
   "cell_type": "code",
   "execution_count": 187,
   "id": "20988610",
   "metadata": {},
   "outputs": [
    {
     "name": "stdout",
     "output_type": "stream",
     "text": [
      "['i', 'happy', 'anuja', 'am', 12, 'happy', 'anuja', 'am']\n"
     ]
    }
   ],
   "source": [
    "a3 = a1+a2\n",
    "print(a3)"
   ]
  },
  {
   "cell_type": "code",
   "execution_count": 188,
   "id": "f1d1918e",
   "metadata": {},
   "outputs": [
    {
     "name": "stdout",
     "output_type": "stream",
     "text": [
      "['mumbai-pune', 'happy', 'anuja', 'am', 12, 'happy', 'anuja', 'am']\n",
      "['i', 'happy', 'anuja', 'am']\n"
     ]
    }
   ],
   "source": [
    "a3[0] = \"mumbai-pune\"\n",
    "print(a3)\n",
    "print(a1)"
   ]
  },
  {
   "cell_type": "markdown",
   "id": "23edca80",
   "metadata": {},
   "source": [
    "## take one list do remove,clear,del ,append, extend\n",
    "concatenation operation"
   ]
  },
  {
   "cell_type": "code",
   "execution_count": 189,
   "id": "22237875",
   "metadata": {},
   "outputs": [
    {
     "name": "stdout",
     "output_type": "stream",
     "text": [
      "['chennai', 'noida', 22.34, 90.89, True, 'Delhi', 'black', 45, 1000]\n"
     ]
    }
   ],
   "source": [
    "l1=['chennai', 'noida', 22.34, 90.89, True,'Delhi', 'black', 45, 1000]\n",
    "print(l1)"
   ]
  },
  {
   "cell_type": "code",
   "execution_count": 190,
   "id": "e6620235",
   "metadata": {},
   "outputs": [
    {
     "name": "stdout",
     "output_type": "stream",
     "text": [
      "['chennai', 'noida', 90.89, True, 'Delhi', 'black', 45, 1000]\n"
     ]
    }
   ],
   "source": [
    "l1.remove(22.34)\n",
    "print(l1)"
   ]
  },
  {
   "cell_type": "code",
   "execution_count": 191,
   "id": "fcf145e1",
   "metadata": {},
   "outputs": [
    {
     "name": "stdout",
     "output_type": "stream",
     "text": [
      "['noida', 90.89, True, 'Delhi', 'black', 45, 1000]\n"
     ]
    }
   ],
   "source": [
    "del l1[0]\n",
    "print(l1)"
   ]
  },
  {
   "cell_type": "code",
   "execution_count": 192,
   "id": "41a7a372",
   "metadata": {},
   "outputs": [],
   "source": [
    "l1.clear()"
   ]
  },
  {
   "cell_type": "code",
   "execution_count": 193,
   "id": "d5f055c6",
   "metadata": {},
   "outputs": [
    {
     "name": "stdout",
     "output_type": "stream",
     "text": [
      "[]\n"
     ]
    }
   ],
   "source": [
    "print(l1)"
   ]
  },
  {
   "cell_type": "code",
   "execution_count": 194,
   "id": "fbc16c73",
   "metadata": {},
   "outputs": [],
   "source": [
    "l1.append(\"anuja\")"
   ]
  },
  {
   "cell_type": "code",
   "execution_count": 195,
   "id": "5b072e4f",
   "metadata": {},
   "outputs": [
    {
     "name": "stdout",
     "output_type": "stream",
     "text": [
      "['anuja']\n"
     ]
    }
   ],
   "source": [
    "print(l1)"
   ]
  },
  {
   "cell_type": "code",
   "execution_count": 196,
   "id": "2fa6429d",
   "metadata": {},
   "outputs": [],
   "source": [
    "l2=[2,3,4]"
   ]
  },
  {
   "cell_type": "code",
   "execution_count": 197,
   "id": "e9e31bdd",
   "metadata": {},
   "outputs": [],
   "source": [
    "l1.extend(l2)"
   ]
  },
  {
   "cell_type": "code",
   "execution_count": 198,
   "id": "fd88b897",
   "metadata": {},
   "outputs": [
    {
     "name": "stdout",
     "output_type": "stream",
     "text": [
      "['anuja', 2, 3, 4]\n"
     ]
    }
   ],
   "source": [
    "print(l1)"
   ]
  },
  {
   "cell_type": "code",
   "execution_count": 199,
   "id": "f981044f",
   "metadata": {},
   "outputs": [],
   "source": [
    "l3=['anuja', 2, 3, 4]"
   ]
  },
  {
   "cell_type": "code",
   "execution_count": 200,
   "id": "7a65e2bf",
   "metadata": {},
   "outputs": [
    {
     "name": "stdout",
     "output_type": "stream",
     "text": [
      "['anuja', 2, 3, 4, 'anuja', 2, 3, 4]\n"
     ]
    }
   ],
   "source": [
    "print(l1+l3)"
   ]
  },
  {
   "cell_type": "markdown",
   "id": "68b79b66",
   "metadata": {},
   "source": [
    "## tuple"
   ]
  },
  {
   "cell_type": "code",
   "execution_count": 201,
   "id": "38a255dc",
   "metadata": {},
   "outputs": [],
   "source": [
    "#()\n",
    "#mixed data types\n",
    "#immutable /unchangeble\n",
    "#ordered preserve\n",
    "#can not remove element\n",
    "#1-d\n",
    "#allows duplicates"
   ]
  },
  {
   "cell_type": "markdown",
   "id": "a7662e37",
   "metadata": {},
   "source": [
    "(),ordered,duplicates allowed\n",
    "mix data types,\n",
    "immutable(cant add or remove elements , (clear,append,insert not works)\n",
    "only del method work with tuple\n"
   ]
  },
  {
   "cell_type": "code",
   "execution_count": 202,
   "id": "ac6cdd86",
   "metadata": {},
   "outputs": [],
   "source": [
    "#here u can do indexing like list\n",
    "t=tuple((1,\"anuja\",True)) \n",
    "# for passing elements directly in tuple there must be (( ))\n",
    "# in single () bracket just need to write single obj."
   ]
  },
  {
   "cell_type": "code",
   "execution_count": 203,
   "id": "3c205482",
   "metadata": {},
   "outputs": [
    {
     "ename": "TypeError",
     "evalue": "tuple expected at most 1 argument, got 3",
     "output_type": "error",
     "traceback": [
      "\u001b[1;31m---------------------------------------------------------------------------\u001b[0m",
      "\u001b[1;31mTypeError\u001b[0m                                 Traceback (most recent call last)",
      "Input \u001b[1;32mIn [203]\u001b[0m, in \u001b[0;36m<cell line: 1>\u001b[1;34m()\u001b[0m\n\u001b[1;32m----> 1\u001b[0m t\u001b[38;5;241m=\u001b[39m\u001b[38;5;28;43mtuple\u001b[39;49m\u001b[43m(\u001b[49m\u001b[38;5;241;43m1\u001b[39;49m\u001b[43m,\u001b[49m\u001b[38;5;124;43m\"\u001b[39;49m\u001b[38;5;124;43manuja\u001b[39;49m\u001b[38;5;124;43m\"\u001b[39;49m\u001b[43m,\u001b[49m\u001b[38;5;28;43;01mTrue\u001b[39;49;00m\u001b[43m)\u001b[49m\n",
      "\u001b[1;31mTypeError\u001b[0m: tuple expected at most 1 argument, got 3"
     ]
    }
   ],
   "source": [
    "t=tuple(1,\"anuja\",True)"
   ]
  },
  {
   "cell_type": "code",
   "execution_count": 204,
   "id": "a571d948",
   "metadata": {},
   "outputs": [],
   "source": [
    "t=(1,\"anuja\",True)"
   ]
  },
  {
   "cell_type": "code",
   "execution_count": 205,
   "id": "857e5cd8",
   "metadata": {},
   "outputs": [
    {
     "name": "stdout",
     "output_type": "stream",
     "text": [
      "(1, 'anuja', True)\n"
     ]
    }
   ],
   "source": [
    "mytuple=tuple(t)\n",
    "print(mytuple)"
   ]
  },
  {
   "cell_type": "code",
   "execution_count": 206,
   "id": "f87db302",
   "metadata": {},
   "outputs": [],
   "source": [
    "t1 = ('physics', 'chemistry', 1997, 2000)"
   ]
  },
  {
   "cell_type": "code",
   "execution_count": 207,
   "id": "d1ad320b",
   "metadata": {},
   "outputs": [
    {
     "name": "stdout",
     "output_type": "stream",
     "text": [
      "aaa\n",
      "vvv\n",
      "mmm\n"
     ]
    }
   ],
   "source": [
    "#unpacking of tuple this can be use with others data types\n",
    "t3=(\"aaa\",\"vvv\",\"mmm\")\n",
    "(ttt,sss,ppp)=t3\n",
    "\n",
    "# ttt , sss this are elements & \"aaa\" this are lables .\n",
    "#you can only access lables using elements \n",
    "\n",
    "print(ttt)\n",
    "print(sss)\n",
    "print(ppp)"
   ]
  },
  {
   "cell_type": "code",
   "execution_count": 208,
   "id": "6ee68049",
   "metadata": {},
   "outputs": [
    {
     "name": "stdout",
     "output_type": "stream",
     "text": [
      "('physics', 'chemistry', 1997, 2000, 'aaa', 'vvv', 'mmm')\n"
     ]
    }
   ],
   "source": [
    "t4=t1+t3\n",
    "print(t4)"
   ]
  },
  {
   "cell_type": "code",
   "execution_count": 209,
   "id": "47c9c1d4",
   "metadata": {},
   "outputs": [
    {
     "name": "stdout",
     "output_type": "stream",
     "text": [
      "('physics', 'chemistry', 1997, 2000, 'physics', 'chemistry', 1997, 2000)\n"
     ]
    }
   ],
   "source": [
    "t5 = t1*2\n",
    "print(t5)"
   ]
  },
  {
   "cell_type": "markdown",
   "id": "5bfd8bd8",
   "metadata": {},
   "source": [
    "## set"
   ]
  },
  {
   "cell_type": "markdown",
   "id": "9aa276ad",
   "metadata": {},
   "source": [
    "### add , update , remove, discard, pop,clear,del,union,intersection,symmetric_difference"
   ]
  },
  {
   "cell_type": "code",
   "execution_count": 210,
   "id": "d43cd214",
   "metadata": {},
   "outputs": [],
   "source": [
    "#{}\n",
    "#unordered\n",
    "#immutable,unchangeable\n",
    "#no-duplicates\n",
    "#mix-data types\n",
    "#unindexed(can't do indexing)"
   ]
  },
  {
   "cell_type": "code",
   "execution_count": 211,
   "id": "90b264dc",
   "metadata": {},
   "outputs": [
    {
     "name": "stdout",
     "output_type": "stream",
     "text": [
      "{True, 5, 'bbb', 9, 'aaa'}\n"
     ]
    }
   ],
   "source": [
    "s1={\"aaa\",\"bbb\",True,5,9}\n",
    "print(s1) # unoredered"
   ]
  },
  {
   "cell_type": "code",
   "execution_count": 212,
   "id": "4e69cf9c",
   "metadata": {},
   "outputs": [
    {
     "name": "stdout",
     "output_type": "stream",
     "text": [
      "{'anu', 1999, 'bat'}\n"
     ]
    }
   ],
   "source": [
    "s2=set((\"anu\",\"bat\",1999)) # set constructor\n",
    "print(s2)"
   ]
  },
  {
   "cell_type": "code",
   "execution_count": 213,
   "id": "f7ce66e1",
   "metadata": {},
   "outputs": [
    {
     "name": "stdout",
     "output_type": "stream",
     "text": [
      "<class 'set'>\n"
     ]
    }
   ],
   "source": [
    "print(type(s2))"
   ]
  },
  {
   "cell_type": "code",
   "execution_count": null,
   "id": "ac303653",
   "metadata": {},
   "outputs": [],
   "source": [
    "s1.add(\"apple\")\n",
    "s1"
   ]
  },
  {
   "cell_type": "code",
   "execution_count": null,
   "id": "2b34f77c",
   "metadata": {},
   "outputs": [],
   "source": [
    "s1.update(s2)\n",
    "s1 # s2's elements will be added to s1\n",
    "#duplicate elements not added"
   ]
  },
  {
   "cell_type": "code",
   "execution_count": null,
   "id": "6df3e843",
   "metadata": {},
   "outputs": [],
   "source": [
    "s1.remove(1999)\n",
    "print(s1)\n",
    "# if item not in memory after removing then remove throws error\n",
    "# again apply remove on same element throws error"
   ]
  },
  {
   "cell_type": "code",
   "execution_count": null,
   "id": "b7619079",
   "metadata": {},
   "outputs": [],
   "source": [
    "s1.remove(1999)"
   ]
  },
  {
   "cell_type": "code",
   "execution_count": null,
   "id": "32fdd1f5",
   "metadata": {},
   "outputs": [],
   "source": [
    "s1.discard(True)\n",
    "print(s1)\n",
    "# not throws error"
   ]
  },
  {
   "cell_type": "code",
   "execution_count": null,
   "id": "de6cea5e",
   "metadata": {},
   "outputs": [],
   "source": [
    "s1.discard(1999) # not throwed error & run successfully as still 1999 is del"
   ]
  },
  {
   "cell_type": "code",
   "execution_count": null,
   "id": "0d4c2cd9",
   "metadata": {},
   "outputs": [],
   "source": [
    "s1.pop() # removes random element... so here it removes \"bat\""
   ]
  },
  {
   "cell_type": "code",
   "execution_count": null,
   "id": "6887e6d4",
   "metadata": {},
   "outputs": [],
   "source": [
    "s1.clear() # del elements bt structure remains as it is"
   ]
  },
  {
   "cell_type": "code",
   "execution_count": null,
   "id": "ce8bcd80",
   "metadata": {},
   "outputs": [],
   "source": [
    "s1"
   ]
  },
  {
   "cell_type": "code",
   "execution_count": null,
   "id": "25c96012",
   "metadata": {},
   "outputs": [],
   "source": [
    "del s1 # delete the structure of set "
   ]
  },
  {
   "cell_type": "code",
   "execution_count": null,
   "id": "64b96bef",
   "metadata": {},
   "outputs": [],
   "source": [
    "s1"
   ]
  },
  {
   "cell_type": "code",
   "execution_count": null,
   "id": "86d2129e",
   "metadata": {},
   "outputs": [],
   "source": [
    "s1={1,2,3,4}\n",
    "s2={\"a\",\"b\",5,9}"
   ]
  },
  {
   "cell_type": "code",
   "execution_count": null,
   "id": "5d809ec7",
   "metadata": {},
   "outputs": [],
   "source": [
    "s1.union(s2)"
   ]
  },
  {
   "cell_type": "code",
   "execution_count": null,
   "id": "4a39bb74",
   "metadata": {},
   "outputs": [],
   "source": [
    "z=s1.intersection(s2)\n",
    "z"
   ]
  },
  {
   "cell_type": "code",
   "execution_count": null,
   "id": "686c9e8c",
   "metadata": {},
   "outputs": [],
   "source": [
    "z1=s1.symmetric_difference(s2)\n",
    "z1"
   ]
  },
  {
   "cell_type": "markdown",
   "id": "89d49467",
   "metadata": {},
   "source": [
    "# tuple`task"
   ]
  },
  {
   "cell_type": "code",
   "execution_count": null,
   "id": "a17fef79",
   "metadata": {},
   "outputs": [],
   "source": [
    "a1=(\"anuja\",\"anuja\",1,2,1)#mixed data types ,allows duplicates\n",
    "type(a1)"
   ]
  },
  {
   "cell_type": "code",
   "execution_count": null,
   "id": "ae0b5b12",
   "metadata": {},
   "outputs": [],
   "source": [
    "print(a1) #ordered preserve"
   ]
  },
  {
   "cell_type": "code",
   "execution_count": null,
   "id": "cebf8b5e",
   "metadata": {
    "scrolled": true
   },
   "outputs": [],
   "source": [
    "a1[0]=\"diksha\" #immutable /unchangeble"
   ]
  },
  {
   "cell_type": "code",
   "execution_count": null,
   "id": "28a9f00f",
   "metadata": {},
   "outputs": [],
   "source": [
    "del a1[0] #can not remove element"
   ]
  },
  {
   "cell_type": "markdown",
   "id": "d9c24a1e",
   "metadata": {},
   "source": [
    "## set task"
   ]
  },
  {
   "cell_type": "code",
   "execution_count": null,
   "id": "087e505a",
   "metadata": {},
   "outputs": [],
   "source": [
    "s1={\"anuja\",True,1,0,3} #mixed data types ....\n",
    "# here true and 1 has same meaning so it will igonre 1 as it comes after True \n",
    "type(s1)"
   ]
  },
  {
   "cell_type": "code",
   "execution_count": null,
   "id": "29c6a67b",
   "metadata": {},
   "outputs": [],
   "source": [
    "print(s1) #unordered"
   ]
  },
  {
   "cell_type": "code",
   "execution_count": null,
   "id": "6b6efec5",
   "metadata": {},
   "outputs": [],
   "source": [
    "s1={\"anuja\",True,1,0,3,3} #no-duplicates"
   ]
  },
  {
   "cell_type": "code",
   "execution_count": null,
   "id": "3ff7fe25",
   "metadata": {},
   "outputs": [],
   "source": [
    "print(s1)"
   ]
  },
  {
   "cell_type": "code",
   "execution_count": null,
   "id": "cc051c9a",
   "metadata": {},
   "outputs": [],
   "source": [
    "s1[0] #can't do indexing"
   ]
  },
  {
   "cell_type": "code",
   "execution_count": null,
   "id": "d33a3959",
   "metadata": {},
   "outputs": [],
   "source": [
    "s1={\"anuja\",True,1,False,0,3,3} # look the logic 1=true and 0=flase\n",
    "s1"
   ]
  },
  {
   "cell_type": "code",
   "execution_count": null,
   "id": "c363cc1f",
   "metadata": {},
   "outputs": [],
   "source": [
    "s2={3, False, True, 'anuja',\"mylife\"}\n",
    "s2"
   ]
  },
  {
   "cell_type": "code",
   "execution_count": null,
   "id": "10d72f40",
   "metadata": {},
   "outputs": [],
   "source": [
    "if \"apple\" in s1:\n",
    "    print(\"yes\")\n",
    "else:\n",
    "    print(\"No\")"
   ]
  },
  {
   "cell_type": "markdown",
   "id": "51046561",
   "metadata": {},
   "source": [
    "## frozenset"
   ]
  },
  {
   "cell_type": "code",
   "execution_count": null,
   "id": "6190eba8",
   "metadata": {},
   "outputs": [],
   "source": [
    "list1=[11,12,13,True,\"anuja\"]\n",
    "x1=frozenset(list1)\n",
    "x1\n",
    "type(x1)"
   ]
  },
  {
   "cell_type": "code",
   "execution_count": null,
   "id": "05e4edd6",
   "metadata": {},
   "outputs": [],
   "source": [
    "x1[0]=\"itsme\""
   ]
  },
  {
   "cell_type": "code",
   "execution_count": null,
   "id": "cdc6363a",
   "metadata": {},
   "outputs": [],
   "source": [
    "x1.add(\"anuja\") # can't add elements in frozenset , immutable"
   ]
  },
  {
   "cell_type": "markdown",
   "id": "175d8771",
   "metadata": {},
   "source": [
    "## Dictionary"
   ]
  },
  {
   "cell_type": "code",
   "execution_count": null,
   "id": "94a16309",
   "metadata": {},
   "outputs": [],
   "source": [
    "#{}\n",
    "#key-value pair always\n",
    "#prserve given order\n",
    "#not allows duplicates\n",
    "#add data(mutable)\n",
    "#remove data\n",
    "#update the existing data\n",
    "#nested dict\n"
   ]
  },
  {
   "cell_type": "code",
   "execution_count": null,
   "id": "1a5931ca",
   "metadata": {},
   "outputs": [],
   "source": [
    "a= {\"girls\" : [\"anuja\",\"nisha\",\"mine\"],\n",
    "\"rollno\" :[ 1,2,3,],\n",
    "\"weight\":[33,38,40],\n",
    "\"weight\":[23,20,22],\n",
    "    }"
   ]
  },
  {
   "cell_type": "code",
   "execution_count": null,
   "id": "f6ce8366",
   "metadata": {},
   "outputs": [],
   "source": [
    "print(a[\"rollno\"]) # preserves order"
   ]
  },
  {
   "cell_type": "code",
   "execution_count": null,
   "id": "0dd4bae3",
   "metadata": {},
   "outputs": [],
   "source": [
    "print(a[\"weight\"]) # duplicates not allowed"
   ]
  },
  {
   "cell_type": "code",
   "execution_count": null,
   "id": "6d5f6cff",
   "metadata": {},
   "outputs": [],
   "source": [
    "print(a.get(\"weight\"))"
   ]
  },
  {
   "cell_type": "code",
   "execution_count": null,
   "id": "c1b4a8d0",
   "metadata": {},
   "outputs": [],
   "source": [
    "len(a)"
   ]
  },
  {
   "cell_type": "code",
   "execution_count": null,
   "id": "4e863934",
   "metadata": {},
   "outputs": [],
   "source": [
    "a.keys()"
   ]
  },
  {
   "cell_type": "code",
   "execution_count": null,
   "id": "60ccb95e",
   "metadata": {},
   "outputs": [],
   "source": [
    "a.values()"
   ]
  },
  {
   "cell_type": "code",
   "execution_count": null,
   "id": "3b45b41c",
   "metadata": {},
   "outputs": [],
   "source": [
    "a[\"location\"]=[\"mumbai\",\"pune\",\"satara\",\"kolhapur\"] # adding new key and also added 4 values"
   ]
  },
  {
   "cell_type": "code",
   "execution_count": null,
   "id": "94a42892",
   "metadata": {},
   "outputs": [],
   "source": [
    "print(a)"
   ]
  },
  {
   "cell_type": "code",
   "execution_count": null,
   "id": "ed7f7e54",
   "metadata": {},
   "outputs": [],
   "source": [
    "a[\"girls\"]=[\"anuja\",\"me\",\"mine\"]\n",
    "a"
   ]
  },
  {
   "cell_type": "code",
   "execution_count": null,
   "id": "8fb1cae1",
   "metadata": {},
   "outputs": [],
   "source": [
    "a[\"girls\"]=[\"radhika\"]\n",
    "a"
   ]
  },
  {
   "cell_type": "code",
   "execution_count": null,
   "id": "1f14d93e",
   "metadata": {},
   "outputs": [],
   "source": [
    "a.items()# op in form of tuple"
   ]
  },
  {
   "cell_type": "code",
   "execution_count": null,
   "id": "2b549d22",
   "metadata": {},
   "outputs": [],
   "source": [
    "if \"girls\" in a:\n",
    "    print(\"yes\")"
   ]
  },
  {
   "cell_type": "code",
   "execution_count": null,
   "id": "1f993c00",
   "metadata": {},
   "outputs": [],
   "source": [
    "a.update({\"location\":['mumbai', 'pune', 'satara', 'solapur']})\n",
    "a"
   ]
  },
  {
   "cell_type": "code",
   "execution_count": null,
   "id": "670c53d6",
   "metadata": {},
   "outputs": [],
   "source": [
    "a.pop() # this only works in list"
   ]
  },
  {
   "cell_type": "code",
   "execution_count": null,
   "id": "599c99f0",
   "metadata": {},
   "outputs": [],
   "source": [
    "a.pop(\"location\")"
   ]
  },
  {
   "cell_type": "code",
   "execution_count": null,
   "id": "f53c953c",
   "metadata": {},
   "outputs": [],
   "source": [
    "a"
   ]
  },
  {
   "cell_type": "code",
   "execution_count": null,
   "id": "a945a220",
   "metadata": {},
   "outputs": [],
   "source": [
    "a.popitem() # remove last key\n",
    "a"
   ]
  },
  {
   "cell_type": "markdown",
   "id": "f91103a4",
   "metadata": {},
   "source": [
    "#### also apply functions like clear() , del() "
   ]
  },
  {
   "cell_type": "code",
   "execution_count": null,
   "id": "c2b05de4",
   "metadata": {},
   "outputs": [],
   "source": [
    "a= {\"girls\" : [\"anuja\",\"nisha\",\"mine\"],\n",
    "\"rollno\" :[ 1,2,3,],\n",
    "\"weight\":[33,38,40],\n",
    "    }"
   ]
  },
  {
   "cell_type": "code",
   "execution_count": null,
   "id": "82f1dc69",
   "metadata": {},
   "outputs": [],
   "source": [
    "new_a = a.copy()\n",
    "new_a"
   ]
  },
  {
   "cell_type": "code",
   "execution_count": null,
   "id": "61014384",
   "metadata": {},
   "outputs": [],
   "source": [
    "a= {\n",
    "  \"d1\" : {\n",
    "\"girls\" : [\"anuja\",\"nisha\",\"mine\"],\n",
    "\"rollno\" :[ 1,2,3,],\n",
    "\"weight\":[3,8,4],\n",
    "    } ,\n",
    "\n",
    " \"d2\" : {\n",
    "\"girls\" : [\"anuja1\",\"nisha1\",\"mine1\"],\n",
    "\"rollno\" :[4,5,6],\n",
    "\"weight\":[33,88,44],\n",
    "    },\n",
    "\n",
    "\n",
    " \"d3\" : {\n",
    "\"girls\" : [\"anuja2\",\"nisha2\",\"mine2\"],\n",
    "\"rollno\" :[7,8,9],\n",
    "\"weight\":[333,888,444],\n",
    "    },\n",
    "}"
   ]
  },
  {
   "cell_type": "code",
   "execution_count": null,
   "id": "82fdcf72",
   "metadata": {},
   "outputs": [],
   "source": [
    "a[\"d2\"][\"rollno\"]"
   ]
  },
  {
   "cell_type": "code",
   "execution_count": null,
   "id": "20c888e2",
   "metadata": {},
   "outputs": [],
   "source": [
    "s1={1,2,3,4,5}\n",
    "s2={6,7,8,9}"
   ]
  },
  {
   "cell_type": "code",
   "execution_count": null,
   "id": "a36edfff",
   "metadata": {},
   "outputs": [],
   "source": [
    "s1.add(\"India\")"
   ]
  },
  {
   "cell_type": "code",
   "execution_count": null,
   "id": "3de7e996",
   "metadata": {},
   "outputs": [],
   "source": [
    "# u can't modified elements of sets ..as indexing is not possible"
   ]
  },
  {
   "cell_type": "code",
   "execution_count": null,
   "id": "5c82b0ae",
   "metadata": {},
   "outputs": [],
   "source": [
    "s2.update(s1)\n",
    "s2 # s1 added to s2"
   ]
  },
  {
   "cell_type": "code",
   "execution_count": null,
   "id": "a5333833",
   "metadata": {},
   "outputs": [],
   "source": [
    "s1"
   ]
  },
  {
   "cell_type": "code",
   "execution_count": null,
   "id": "73552d6c",
   "metadata": {},
   "outputs": [],
   "source": [
    "s2.discard(\"India\")\n",
    "s2"
   ]
  },
  {
   "cell_type": "code",
   "execution_count": null,
   "id": "08038415",
   "metadata": {},
   "outputs": [],
   "source": [
    "s2.remove(9)\n",
    "s2"
   ]
  },
  {
   "cell_type": "code",
   "execution_count": null,
   "id": "ce844624",
   "metadata": {},
   "outputs": [],
   "source": [
    "s2.pop()"
   ]
  },
  {
   "cell_type": "code",
   "execution_count": null,
   "id": "a0c7c92b",
   "metadata": {},
   "outputs": [],
   "source": [
    "s2.pop()"
   ]
  },
  {
   "cell_type": "code",
   "execution_count": null,
   "id": "da9fb550",
   "metadata": {},
   "outputs": [],
   "source": [
    "s2.pop()"
   ]
  },
  {
   "cell_type": "code",
   "execution_count": null,
   "id": "07d1b00e",
   "metadata": {},
   "outputs": [],
   "source": [
    "s2.pop()"
   ]
  },
  {
   "cell_type": "code",
   "execution_count": null,
   "id": "10750ad6",
   "metadata": {},
   "outputs": [],
   "source": [
    "d={\n",
    "    \"name\":(\"anuja\",\"radhika\"),\n",
    "    \"age\":(23,24),\n",
    "    \"loc\":(\"panvel\",\"nashik\")\n",
    "}"
   ]
  },
  {
   "cell_type": "code",
   "execution_count": null,
   "id": "dd0a07e5",
   "metadata": {},
   "outputs": [],
   "source": [
    "d.update({\"name\":[\"banglore\",\"radhika\"]})"
   ]
  },
  {
   "cell_type": "code",
   "execution_count": null,
   "id": "3241284b",
   "metadata": {},
   "outputs": [],
   "source": [
    "d"
   ]
  },
  {
   "cell_type": "code",
   "execution_count": null,
   "id": "f6e10efe",
   "metadata": {},
   "outputs": [],
   "source": [
    "d[\"name\"]=[1,2,3] # using accessing elements"
   ]
  },
  {
   "cell_type": "code",
   "execution_count": null,
   "id": "cb663590",
   "metadata": {},
   "outputs": [],
   "source": [
    "d"
   ]
  },
  {
   "cell_type": "markdown",
   "id": "256ec925",
   "metadata": {},
   "source": [
    "## conditional statements"
   ]
  },
  {
   "cell_type": "code",
   "execution_count": null,
   "id": "c0948a4a",
   "metadata": {},
   "outputs": [],
   "source": [
    "a=100\n",
    "b=50\n",
    "\n",
    "if a==b:\n",
    "    print(\"same\")\n",
    "else:\n",
    "    print(\"different\")\n",
    "#######################################    \n",
    "if a!=b:\n",
    "    print(\"not equals\")\n",
    "else:\n",
    "    print(\"same\")\n",
    "    \n",
    "###################################################    \n",
    "if a > b:\n",
    "    print(\"a is greater\")\n",
    "else:\n",
    "    print(\"b is greater\")\n",
    "################################################\n",
    "if a < b:\n",
    "    print(\"a is smaller\")\n",
    "else:\n",
    "    print(\"b is smaller\")"
   ]
  },
  {
   "cell_type": "code",
   "execution_count": null,
   "id": "0b104c3e",
   "metadata": {},
   "outputs": [],
   "source": [
    "a=5\n",
    "b=10\n",
    "if a > b:\n",
    "    print(\"a is greater\")\n",
    "elif a==b:\n",
    "    print(\"they are same\")\n",
    "else:\n",
    "    print(\"b is greater\")"
   ]
  },
  {
   "cell_type": "code",
   "execution_count": null,
   "id": "11175151",
   "metadata": {},
   "outputs": [],
   "source": [
    "a = -5\n",
    "if a >= 0:\n",
    "    print(\"positive\")\n",
    "else:\n",
    "    print(\"negative\")\n"
   ]
  },
  {
   "cell_type": "code",
   "execution_count": null,
   "id": "a4c1dd4b",
   "metadata": {},
   "outputs": [],
   "source": [
    "a=float(input(\"enter no : \")) #float also takes int\n",
    "if a >= 0:\n",
    "    print(\"positive number\")\n",
    "else:\n",
    "    print(\"negative number\")\n",
    "print(\"thank u\")"
   ]
  },
  {
   "cell_type": "markdown",
   "id": "440fb6bf",
   "metadata": {},
   "source": [
    "##### homework"
   ]
  },
  {
   "cell_type": "markdown",
   "id": "daba8a21",
   "metadata": {},
   "source": [
    "#### WAP ask user to enter minutes and convert that in to hours"
   ]
  },
  {
   "cell_type": "code",
   "execution_count": null,
   "id": "8eb6854a",
   "metadata": {},
   "outputs": [],
   "source": [
    "m = float(input(\"enter minutes : \"))\n",
    "h=m/60\n",
    "print(\"{} minutes means {} hours \".format(m,h))"
   ]
  },
  {
   "cell_type": "markdown",
   "id": "64ca66ba",
   "metadata": {},
   "source": [
    "#### WAP ask two number to user and print largest number"
   ]
  },
  {
   "cell_type": "code",
   "execution_count": null,
   "id": "83827afe",
   "metadata": {},
   "outputs": [],
   "source": [
    "a = float (input(\"enter first Number : \"))\n",
    "b = float (input(\"enter second Number : \"))\n",
    "if (a>b):\n",
    "    print(\"Largest Number is {}\".format(a))\n",
    "elif (a==b):\n",
    "    print(\"Both Numbers are same\")\n",
    "else :\n",
    "    print(\"Largest Number is {}\".format(b))"
   ]
  },
  {
   "cell_type": "markdown",
   "id": "6daca862",
   "metadata": {},
   "source": [
    "#### wap to find rate per hour"
   ]
  },
  {
   "cell_type": "code",
   "execution_count": null,
   "id": "cb7f4458",
   "metadata": {},
   "outputs": [],
   "source": [
    "r=int(input(\"enter rate: \"))\n",
    "speed=r/60\n",
    "print(\"speed is:\",speed)"
   ]
  },
  {
   "cell_type": "code",
   "execution_count": null,
   "id": "93bafdc5",
   "metadata": {},
   "outputs": [],
   "source": [
    "kilograms=float(input(\"Enter the kilograms:\"))\n",
    "grams=kilograms*1000\n",
    "print(grams,\"Grams\")"
   ]
  },
  {
   "cell_type": "code",
   "execution_count": null,
   "id": "f556039e",
   "metadata": {},
   "outputs": [],
   "source": [
    "a=10\n",
    "if(a<=20):\n",
    "    print(\"less than 20\")\n",
    "elif(a>=21 and a<=40):\n",
    "    print(\"less than 40\")\n",
    "elif(a>=41 and a<=50):\n",
    "    print(\"value of a is 50\")\n",
    "else:\n",
    "    print(\"value of a is greater than 50\")"
   ]
  },
  {
   "cell_type": "code",
   "execution_count": null,
   "id": "154b35f2",
   "metadata": {},
   "outputs": [],
   "source": [
    "a=200\n",
    "b=90\n",
    "c=500\n",
    "if a>b and c>a:\n",
    "    print(\"both condition are true\")"
   ]
  },
  {
   "cell_type": "code",
   "execution_count": null,
   "id": "5c9ec628",
   "metadata": {},
   "outputs": [],
   "source": [
    "a=200\n",
    "b=90\n",
    "c=500\n",
    "if a>b or c>a:\n",
    "    print(\"both condition are true\")"
   ]
  },
  {
   "cell_type": "code",
   "execution_count": null,
   "id": "df51e1d0",
   "metadata": {},
   "outputs": [],
   "source": [
    "a=200\n",
    "b=90\n",
    "if not a<b:\n",
    "    print(\"\")\n"
   ]
  },
  {
   "cell_type": "code",
   "execution_count": null,
   "id": "2358661d",
   "metadata": {},
   "outputs": [],
   "source": [
    "#wap to check given number is odd or even\n",
    "a=int(input(\"Enter the Number:\"))\n",
    "if(a%2)==0:\n",
    "    print(\"a is even\")\n",
    "else:\n",
    "    print(\"a is odd\")"
   ]
  },
  {
   "cell_type": "markdown",
   "id": "b3d7f15f",
   "metadata": {},
   "source": [
    "# wap accept charater from user and check whether it is upper or lower case"
   ]
  },
  {
   "cell_type": "code",
   "execution_count": null,
   "id": "f236c333",
   "metadata": {
    "scrolled": false
   },
   "outputs": [],
   "source": [
    "ch=str(input(\"Enter input:\"))\n",
    "if \"A\"<=ch[0]<=\"Z\":\n",
    "    print(\"Upper Case\")\n",
    "elif \"a\"<=ch[0]<=\"z\":\n",
    "    print(\"Lower Case\")\n",
    "else:\n",
    "    print(\"Invalid Input\")"
   ]
  },
  {
   "cell_type": "code",
   "execution_count": null,
   "id": "d725bece",
   "metadata": {},
   "outputs": [],
   "source": []
  },
  {
   "cell_type": "markdown",
   "id": "107c4d99",
   "metadata": {},
   "source": [
    "# Nested if"
   ]
  },
  {
   "cell_type": "code",
   "execution_count": null,
   "id": "6808bf7f",
   "metadata": {},
   "outputs": [],
   "source": [
    "x=40\n",
    "if x>10:\n",
    "    print(\"greater than 10\")\n",
    "    if x>20:\n",
    "        print(\"greater than 20\")\n",
    "else:\n",
    "        print(\"not above 20\")\n",
    "        "
   ]
  },
  {
   "cell_type": "code",
   "execution_count": null,
   "id": "9a10d3ae",
   "metadata": {},
   "outputs": [],
   "source": [
    "age=int(input(\"enter the age:\"))\n",
    "if age>=1 and age<=13:\n",
    "    print(\"this is under the kids\")\n",
    "else:\n",
    "    if age>=13 and age<=19:\n",
    "        print(\"this is under the teenager\")\n",
    "    elif age>19 and age<=59:\n",
    "        print(\"this is under the adult\")\n",
    "    else:\n",
    "        print(\"this is under senior citizen\")"
   ]
  },
  {
   "cell_type": "code",
   "execution_count": null,
   "id": "a074cb6e",
   "metadata": {},
   "outputs": [],
   "source": [
    "num=int(input(\"Enter the number\"))\n",
    "if num>0:\n",
    "    if num%2==0:\n",
    "        print(\"the number is positive and even\")\n",
    "    else:\n",
    "        print(\"the number is positive and odd\")\n",
    "else:\n",
    "    print(\"the number is negative\")"
   ]
  },
  {
   "cell_type": "code",
   "execution_count": null,
   "id": "b0f4ef0c",
   "metadata": {},
   "outputs": [],
   "source": []
  },
  {
   "cell_type": "code",
   "execution_count": null,
   "id": "493ca456",
   "metadata": {},
   "outputs": [],
   "source": []
  },
  {
   "cell_type": "markdown",
   "id": "6d390931",
   "metadata": {},
   "source": [
    "# Loops:For and while\n"
   ]
  },
  {
   "cell_type": "code",
   "execution_count": null,
   "id": "892754f9",
   "metadata": {},
   "outputs": [],
   "source": [
    "li_1=[\"Car\",\"Truck\",\"Bus\",\"Flight\"]\n",
    "print(li_1[0])\n",
    "print(li_1[1])\n",
    "print(li_1[2])\n",
    "print(li_1[3])"
   ]
  },
  {
   "cell_type": "code",
   "execution_count": null,
   "id": "b2bd5709",
   "metadata": {},
   "outputs": [],
   "source": [
    "for i in li_1:\n",
    "    print(i)"
   ]
  },
  {
   "cell_type": "code",
   "execution_count": null,
   "id": "ab1fe4d7",
   "metadata": {},
   "outputs": [],
   "source": [
    "for i in \"India\":\n",
    "    print(i)"
   ]
  },
  {
   "cell_type": "code",
   "execution_count": null,
   "id": "50a391f8",
   "metadata": {},
   "outputs": [],
   "source": [
    "li_1"
   ]
  },
  {
   "cell_type": "code",
   "execution_count": null,
   "id": "37e1eee2",
   "metadata": {},
   "outputs": [],
   "source": [
    "#Break \n",
    "for x in li_1:\n",
    "    print(x)\n",
    "    if x==\"Flight\":\n",
    "        break"
   ]
  },
  {
   "cell_type": "code",
   "execution_count": null,
   "id": "33316724",
   "metadata": {},
   "outputs": [],
   "source": [
    "for x in li_1:\n",
    "    if x==\"Flight\":\n",
    "        break\n",
    "    print(x)"
   ]
  },
  {
   "cell_type": "code",
   "execution_count": null,
   "id": "01adc831",
   "metadata": {},
   "outputs": [],
   "source": [
    "username=input(\"Enter your Username:\")\n",
    "password=input(\"Enter your password:\")\n",
    "if username==\"admin\" and password == \"1234\":\n",
    "    if password==\"1234\":\n",
    "        print(\"week password\")\n",
    "    else:\n",
    "        print(\"worng password\")\n",
    "else:\n",
    "    if username==\"admin\" and password==\"admin\":\n",
    "        print(\"credentials are correct and login successful\")\n",
    "    else:\n",
    "        print(\"credentials are not correct\") \n",
    "        "
   ]
  },
  {
   "cell_type": "code",
   "execution_count": null,
   "id": "ad2a82e2",
   "metadata": {},
   "outputs": [],
   "source": [
    "name=str(input(\"enter name:\"))#input()bydefault take any input as string\n",
    "for i in name:\n",
    "    print(i)"
   ]
  },
  {
   "cell_type": "code",
   "execution_count": null,
   "id": "a16bd9a5",
   "metadata": {},
   "outputs": [],
   "source": [
    "#WAP TO DISPLAY NUMBERS B/W 1 TO 100 WHICH ARE EVEN\n",
    "for i in range(0,101,2):\n",
    "    print(i)"
   ]
  },
  {
   "cell_type": "code",
   "execution_count": null,
   "id": "50d29255",
   "metadata": {},
   "outputs": [],
   "source": [
    "for i in range(1,50,5):#range (start index,stop index,step)\n",
    "    print(i)"
   ]
  },
  {
   "cell_type": "code",
   "execution_count": null,
   "id": "ab522f7b",
   "metadata": {},
   "outputs": [],
   "source": [
    "for i in range(15):#bydefault start form 0\n",
    "    print(i)"
   ]
  },
  {
   "cell_type": "code",
   "execution_count": null,
   "id": "b3a3bced",
   "metadata": {},
   "outputs": [],
   "source": [
    "for i in range(15):\n",
    "    print(i)\n",
    "    if i==7:\n",
    "        break\n",
    "    print(i)"
   ]
  },
  {
   "cell_type": "code",
   "execution_count": null,
   "id": "b3a83211",
   "metadata": {},
   "outputs": [],
   "source": [
    "#nested for loop\n",
    "color=[\"red\",\"blue\",\"black\",\"green\"]\n",
    "fruits=[\"banana\",\"apple\",\"mango\",\"watermelon\"]\n",
    "for x in color:\n",
    "    for y in fruits:\n",
    "        print(x,y)"
   ]
  },
  {
   "cell_type": "code",
   "execution_count": null,
   "id": "8c783c76",
   "metadata": {},
   "outputs": [],
   "source": [
    "d1={\"name\":[\"abc\",\"xyz\"],\"age\":[10,20],\"city\":[\"mumbai\",\"delhi\"]}\n",
    "d1"
   ]
  },
  {
   "cell_type": "code",
   "execution_count": null,
   "id": "7ad3b453",
   "metadata": {},
   "outputs": [],
   "source": [
    "for i in d1.values():\n",
    "    print(i)"
   ]
  },
  {
   "cell_type": "code",
   "execution_count": null,
   "id": "f397dee1",
   "metadata": {},
   "outputs": [],
   "source": [
    "for i,m in d1.items():\n",
    "    print(i,m)"
   ]
  },
  {
   "cell_type": "code",
   "execution_count": null,
   "id": "f3bbd668",
   "metadata": {},
   "outputs": [],
   "source": [
    "l1=[10,20]\n",
    "l2=[5,10,20]\n",
    "for i in l1:\n",
    "    for y in l2:\n",
    "        if i==y:\n",
    "            break\n",
    "        print(i,y)"
   ]
  },
  {
   "cell_type": "code",
   "execution_count": null,
   "id": "697ec8e5",
   "metadata": {},
   "outputs": [],
   "source": [
    "for i in \"india\": #pass allows us to execute any loop or decision making statement without code body\n",
    "    #print(i)\n",
    "    pass"
   ]
  },
  {
   "cell_type": "code",
   "execution_count": null,
   "id": "7311c2b2",
   "metadata": {},
   "outputs": [],
   "source": [
    "if 10<20:\n",
    "    pass"
   ]
  },
  {
   "cell_type": "markdown",
   "id": "f2619e63",
   "metadata": {},
   "source": [
    "# Continue"
   ]
  },
  {
   "cell_type": "code",
   "execution_count": null,
   "id": "ff212358",
   "metadata": {},
   "outputs": [],
   "source": [
    "#continue to skip certain iteration \n",
    "for i in range(10):\n",
    "    if i==5:\n",
    "        continue\n",
    "    print(i)"
   ]
  },
  {
   "cell_type": "code",
   "execution_count": null,
   "id": "96c647d5",
   "metadata": {},
   "outputs": [],
   "source": [
    "#WAP to get o/p with number lower than 100\n",
    "l=[10,20,30,40,200,500,80] # if i>80 than next print not executed\n",
    "for i in l:\n",
    "    if i>80:\n",
    "        continue\n",
    "    print(i)"
   ]
  },
  {
   "cell_type": "code",
   "execution_count": null,
   "id": "d02e3729",
   "metadata": {},
   "outputs": [],
   "source": [
    "#WAP to get o/p with number \n",
    "l=[10,20,30,40,200,500,80]\n",
    "for i in l:\n",
    "    if i==200 or i==500:\n",
    "        continue\n",
    "    print(i)"
   ]
  },
  {
   "cell_type": "markdown",
   "id": "d2d68b83",
   "metadata": {},
   "source": [
    "# While loop"
   ]
  },
  {
   "cell_type": "code",
   "execution_count": null,
   "id": "a0b36cb0",
   "metadata": {},
   "outputs": [],
   "source": [
    "i=1 #while loop execute util condition is true\n",
    "while i<10:\n",
    "    print(i)\n",
    "    i+=1"
   ]
  },
  {
   "cell_type": "code",
   "execution_count": null,
   "id": "4190df7d",
   "metadata": {},
   "outputs": [],
   "source": [
    "i=1 \n",
    "while i<10:\n",
    "    #print(i)\n",
    "    if i==7:\n",
    "        break\n",
    "    print(i)\n",
    "    i+=1"
   ]
  },
  {
   "cell_type": "code",
   "execution_count": null,
   "id": "30f8c060",
   "metadata": {},
   "outputs": [],
   "source": [
    "i=0\n",
    "while i<20:\n",
    "    i+=1\n",
    "    if i==10:\n",
    "        continue\n",
    "    print(i)"
   ]
  },
  {
   "cell_type": "code",
   "execution_count": null,
   "id": "2208e00a",
   "metadata": {},
   "outputs": [],
   "source": [
    "i=1 \n",
    "while i<5:\n",
    "    print(i)\n",
    "    i+=1\n",
    "else:\n",
    "    print(\"rest of the values are greater then 5\")"
   ]
  },
  {
   "cell_type": "code",
   "execution_count": null,
   "id": "83f21bd0",
   "metadata": {},
   "outputs": [],
   "source": [
    "a=map(int,input(\"enter elements you wants in list:\").split())\n",
    "lst=[]\n",
    "for i in a:\n",
    "    if i<5:\n",
    "        lst.append(i)\n",
    "print(lst)"
   ]
  },
  {
   "cell_type": "code",
   "execution_count": null,
   "id": "f73ccda5",
   "metadata": {},
   "outputs": [],
   "source": [
    "l=[]\n",
    "i=0\n",
    "while len(l)<5:\n",
    "    l.append(i)\n",
    "    i+=1\n",
    "print(l)"
   ]
  },
  {
   "cell_type": "code",
   "execution_count": null,
   "id": "e9179c06",
   "metadata": {},
   "outputs": [],
   "source": [
    "type(l)"
   ]
  },
  {
   "cell_type": "code",
   "execution_count": null,
   "id": "e5aa3533",
   "metadata": {},
   "outputs": [],
   "source": [
    "r=int(input(\"Enter the value of radius of circle:\"))\n",
    "A=3.14*r*r\n",
    "C=2*3.14*r\n",
    "print(\"the area of the circle is {} and circumference is {}\".format(A,C))"
   ]
  },
  {
   "cell_type": "code",
   "execution_count": null,
   "id": "ebd9f54d",
   "metadata": {},
   "outputs": [],
   "source": [
    "m=[23,45,12,10,25]\n",
    "i=0\n",
    "sum=0\n",
    "while i<len(m):\n",
    "    sum+=m[i]\n",
    "    i+=1\n",
    "print(sum)\n",
    "        "
   ]
  },
  {
   "cell_type": "code",
   "execution_count": null,
   "id": "ab92776e",
   "metadata": {},
   "outputs": [],
   "source": [
    "m1=[23,45,12,10,25]\n",
    "result=sum(m1)\n",
    "print(result)"
   ]
  },
  {
   "cell_type": "code",
   "execution_count": null,
   "id": "341e5f39",
   "metadata": {},
   "outputs": [],
   "source": [
    "m1=[23,45,12,10,25]\n",
    "total=0\n",
    "for element in range(0,len(m1)):\n",
    "    total=total+m1[element]\n",
    "print(total)"
   ]
  },
  {
   "cell_type": "code",
   "execution_count": null,
   "id": "748e2348",
   "metadata": {},
   "outputs": [],
   "source": [
    "#finding the average of five numbers using while loop\n",
    "num=5\n",
    "sum=0\n",
    "i=0\n",
    "\n",
    "\n",
    "while num>0:\n",
    "    i+=1\n",
    "    f=int(input(\"enter the number:\"))\n",
    "    sum+=f\n",
    "    num-=1\n",
    "avg=sum/i\n",
    "print(\"average is:\",avg)"
   ]
  },
  {
   "cell_type": "code",
   "execution_count": null,
   "id": "56ec8876",
   "metadata": {},
   "outputs": [],
   "source": [
    "#printing the square of numbers using while loop\n",
    "num=int(input(\"enter a number:\"))\n",
    "count=1\n",
    "while count<=num:\n",
    "    square=count**2\n",
    "    print(square)\n",
    "    count+=1"
   ]
  },
  {
   "cell_type": "markdown",
   "id": "7fe7c960",
   "metadata": {},
   "source": [
    "# Functions"
   ]
  },
  {
   "cell_type": "code",
   "execution_count": null,
   "id": "f08341cf",
   "metadata": {},
   "outputs": [],
   "source": [
    "#user define and built in function"
   ]
  },
  {
   "cell_type": "code",
   "execution_count": null,
   "id": "8e30976e",
   "metadata": {},
   "outputs": [],
   "source": [
    "def fun1():\n",
    "    print(\"Hello\")"
   ]
  },
  {
   "cell_type": "code",
   "execution_count": null,
   "id": "da8cee2b",
   "metadata": {},
   "outputs": [],
   "source": [
    "fun1()"
   ]
  },
  {
   "cell_type": "code",
   "execution_count": null,
   "id": "560b5637",
   "metadata": {},
   "outputs": [],
   "source": [
    "a=2\n",
    "b=20\n",
    "a+b"
   ]
  },
  {
   "cell_type": "code",
   "execution_count": null,
   "id": "0d496364",
   "metadata": {},
   "outputs": [],
   "source": [
    "def addition(a,b):\n",
    "    c=a+b\n",
    "    print(\"Addition is:\",c)"
   ]
  },
  {
   "cell_type": "code",
   "execution_count": null,
   "id": "90ec38b2",
   "metadata": {},
   "outputs": [],
   "source": [
    "addition(2,3)"
   ]
  },
  {
   "cell_type": "code",
   "execution_count": null,
   "id": "31adc72c",
   "metadata": {},
   "outputs": [],
   "source": [
    "def fun2(name):\n",
    "    print(name + \" data analyst\")"
   ]
  },
  {
   "cell_type": "code",
   "execution_count": null,
   "id": "fea0d933",
   "metadata": {},
   "outputs": [],
   "source": [
    "fun2(\"Nisha\")"
   ]
  },
  {
   "cell_type": "code",
   "execution_count": null,
   "id": "4eb9928d",
   "metadata": {},
   "outputs": [],
   "source": [
    "fun2(\"Sonu\")"
   ]
  },
  {
   "cell_type": "code",
   "execution_count": null,
   "id": "f3d14a4a",
   "metadata": {},
   "outputs": [],
   "source": [
    "def add_1(a,b,c,d):\n",
    "    c1=a+b+c+d\n",
    "    print(c1)"
   ]
  },
  {
   "cell_type": "code",
   "execution_count": null,
   "id": "f0d80717",
   "metadata": {},
   "outputs": [],
   "source": [
    "add_1(2,2,3,4)"
   ]
  },
  {
   "cell_type": "code",
   "execution_count": null,
   "id": "49d65fef",
   "metadata": {},
   "outputs": [],
   "source": [
    "#WAP prepare function to multiply 3 numbers\n",
    "def mul(a,b,c,):\n",
    "    x=a*b*c\n",
    "    print(\"Multiplication is:\",x)"
   ]
  },
  {
   "cell_type": "code",
   "execution_count": null,
   "id": "dc3f45fd",
   "metadata": {},
   "outputs": [],
   "source": [
    "mul(1,2,3,)"
   ]
  },
  {
   "cell_type": "markdown",
   "id": "00004fed",
   "metadata": {},
   "source": [
    "# Range & xRange"
   ]
  },
  {
   "cell_type": "code",
   "execution_count": null,
   "id": "302d10cf",
   "metadata": {},
   "outputs": [],
   "source": [
    "a=range(1,100)\n",
    "print(type(a))"
   ]
  },
  {
   "cell_type": "code",
   "execution_count": null,
   "id": "d6250a7c",
   "metadata": {},
   "outputs": [],
   "source": [
    "import sys\n",
    "sys.getsizeof(a)"
   ]
  },
  {
   "cell_type": "code",
   "execution_count": null,
   "id": "5ef78a7c",
   "metadata": {},
   "outputs": [],
   "source": [
    "b=xrange(1,100)#Less memeroy\n",
    "print(type(b))"
   ]
  },
  {
   "cell_type": "code",
   "execution_count": null,
   "id": "2351f301",
   "metadata": {},
   "outputs": [],
   "source": [
    "i=1\n",
    "while i<=4:\n",
    "    j=0\n",
    "    while j<=3:\n",
    "        print(i*j,end=\" \")\n",
    "        j+=1\n",
    "    print()\n",
    "    i+=1"
   ]
  },
  {
   "cell_type": "code",
   "execution_count": null,
   "id": "8afb5b10",
   "metadata": {},
   "outputs": [],
   "source": [
    "#printing the square of numbers using while loop\n",
    "i = 1\n",
    "while i != 0:\n",
    "    num = int(input(\"enter a number: \"))\n",
    "    squ = num * num\n",
    "    print(f\"Square of number is : {squ}\")\n",
    "    i = int(input(\"To continue: enter 1 To exit : enter 0\"))\n",
    "    "
   ]
  },
  {
   "cell_type": "code",
   "execution_count": null,
   "id": "67594804",
   "metadata": {},
   "outputs": [],
   "source": [
    "#write a program to accept a string from the user and display it vertically but don't display the vowels\n",
    "def display_vert_without_vowels(string):\n",
    "    vowels=\"aeiouAEIOU\"\n",
    "    for char in string:\n",
    "        if char not in vowels:\n",
    "            print(char)\n",
    "user_input=input(\"Enter a string:\")\n",
    "display_vert_without_vowels(user_input)"
   ]
  },
  {
   "cell_type": "code",
   "execution_count": null,
   "id": "d2f96b23",
   "metadata": {},
   "outputs": [],
   "source": [
    "name=input(\"Enter the name:\")\n",
    "i=0\n",
    "while i<len(name):\n",
    "    if name[i]in[\"A\",\"E\",\"I\",\"O\",\"U\",\"a\",\"e\",\"i\",\"o\",\"u\"]:\n",
    "        pass\n",
    "    else:\n",
    "        print(name[i])\n",
    "    i+=1"
   ]
  },
  {
   "cell_type": "code",
   "execution_count": null,
   "id": "551e517b",
   "metadata": {},
   "outputs": [],
   "source": [
    "#write a python program which accepts the user's first and last name and print them in reverse order with a space between them.\n",
    "name=input(\"Enter your name:\")\n",
    "print(name[::-1])"
   ]
  },
  {
   "cell_type": "code",
   "execution_count": null,
   "id": "343bb72c",
   "metadata": {},
   "outputs": [],
   "source": [
    "a=input(\"Enter first name\")\n",
    "b=input(\"Enter last name\")\n",
    "c=a+\" \"+b\n",
    "c[::-1]"
   ]
  },
  {
   "cell_type": "code",
   "execution_count": null,
   "id": "e5166b4c",
   "metadata": {},
   "outputs": [],
   "source": [
    "def reverse(string):\n",
    "    string=string[::-1]\n",
    "    print(string)\n",
    "s=\"Nisha Nikam\"\n",
    "reverse(s)"
   ]
  },
  {
   "cell_type": "code",
   "execution_count": null,
   "id": "b5d8f894",
   "metadata": {},
   "outputs": [],
   "source": [
    "#iterator variable\n",
    "num=1\n",
    "while num<=5:\n",
    "    print(num)\n",
    "    num+=1 #num=num+1"
   ]
  },
  {
   "cell_type": "code",
   "execution_count": null,
   "id": "2f3ca656",
   "metadata": {},
   "outputs": [],
   "source": [
    "i=10\n",
    "while i>0:\n",
    "    print(i)\n",
    "    i-=1\n",
    "print(\"lift off!\")"
   ]
  },
  {
   "cell_type": "code",
   "execution_count": null,
   "id": "265d3059",
   "metadata": {},
   "outputs": [],
   "source": [
    "#Accumulate results\n",
    "#Sum of first 10 natural numbers\n",
    "N=int(input(\"Enter a number:\"))\n",
    "i=1  #iterator variable\n",
    "sum=0  #Accumulate variable\n",
    "while i<=N:\n",
    "    sum+=i\n",
    "    i+=1\n",
    "print(f\"Sum of first {N} natural numbers: {sum}\")"
   ]
  },
  {
   "cell_type": "code",
   "execution_count": null,
   "id": "c83c3935",
   "metadata": {},
   "outputs": [],
   "source": [
    "#Factor of a number: Eg:Factor of 12 :1,2,3,4,6,12\n",
    "number=int(input(\"Enter a number to find it's factor:\"))\n",
    "factor=1\n",
    "print(f\"Factors of {number} are:\")\n",
    "while factor<=number:\n",
    "    if number%factor==0:\n",
    "        print(factor)\n",
    "    factor+=1"
   ]
  },
  {
   "cell_type": "markdown",
   "id": "0517a012",
   "metadata": {},
   "source": [
    "# LCM of 2 Number"
   ]
  },
  {
   "cell_type": "code",
   "execution_count": null,
   "id": "400ec154",
   "metadata": {},
   "outputs": [],
   "source": [
    "a=24\n",
    "b=36\n",
    "n=max(a,b)\n",
    "lcm=a*b\n",
    "while n!=a*b:\n",
    "    if n%a==0 and n%b==0:\n",
    "        lcm=n\n",
    "        break\n",
    "    n+=1\n",
    "print(f\"LCM of {a} and {b}={lcm}\")"
   ]
  },
  {
   "cell_type": "code",
   "execution_count": null,
   "id": "9d677b74",
   "metadata": {},
   "outputs": [],
   "source": [
    "#Prime or not\n",
    "#\n",
    "x=19\n",
    "n=2\n",
    "while n!=x:\n",
    "    if x%n==0:\n",
    "        print(\"not prime\")\n",
    "        break\n",
    "    n+=1\n",
    "else:\n",
    "    print(\"prime\")"
   ]
  },
  {
   "cell_type": "markdown",
   "id": "d123aac2",
   "metadata": {},
   "source": [
    "# prime Factorization"
   ]
  },
  {
   "cell_type": "code",
   "execution_count": null,
   "id": "9c7d4755",
   "metadata": {},
   "outputs": [],
   "source": [
    "#Eg: 24=2x2x2x3\n",
    "n=24\n",
    "factor=2\n",
    "prime_factors=[]\n",
    "print(\"Prime factors of {n} are :\",end='')\n",
    "while n>1:\n",
    "    if n%factor==0:\n",
    "        prime_factors.append(factor)\n",
    "        n=n/factor\n",
    "        continue\n",
    "    factor+=1\n",
    "print(*prime_factors, sep=', ')"
   ]
  },
  {
   "cell_type": "code",
   "execution_count": null,
   "id": "56d757d7",
   "metadata": {},
   "outputs": [],
   "source": [
    "print(*[1,2,3], sep='x')"
   ]
  },
  {
   "cell_type": "markdown",
   "id": "c57431c0",
   "metadata": {},
   "source": [
    "# For Loop"
   ]
  },
  {
   "cell_type": "code",
   "execution_count": null,
   "id": "e369a3cf",
   "metadata": {},
   "outputs": [],
   "source": [
    "grocery_list=['milk','coffee','bread','butter']\n",
    "index=0\n",
    "while index<len(grocery_list):\n",
    "    item=grocery_list[index]\n",
    "    print(item)\n",
    "    index+=1"
   ]
  },
  {
   "cell_type": "code",
   "execution_count": null,
   "id": "a404ef97",
   "metadata": {},
   "outputs": [],
   "source": [
    "for item in grocery_list:\n",
    "    print(item)"
   ]
  },
  {
   "cell_type": "code",
   "execution_count": null,
   "id": "22dac518",
   "metadata": {
    "scrolled": true
   },
   "outputs": [],
   "source": [
    "for letter in \"python\":\n",
    "    print(letter)"
   ]
  },
  {
   "cell_type": "code",
   "execution_count": null,
   "id": "ac90373c",
   "metadata": {},
   "outputs": [],
   "source": [
    "employee=(204897,'Arjun','Male','IT',True)\n",
    "for detail in employee:\n",
    "    print(detail)"
   ]
  },
  {
   "cell_type": "code",
   "execution_count": null,
   "id": "5efbb0a4",
   "metadata": {},
   "outputs": [],
   "source": [
    "capital={\n",
    "    \"India\":\"New Delhi\",\n",
    "    \"UK\":\"London\",\n",
    "    \"Germany\":\"Berlin\",\n",
    "    \"France\":\"Paris\"\n",
    "}\n",
    "for country in capital:\n",
    "    print(country)"
   ]
  },
  {
   "cell_type": "code",
   "execution_count": null,
   "id": "54a196fb",
   "metadata": {},
   "outputs": [],
   "source": [
    "for state in capital.values():\n",
    "    print(state)"
   ]
  },
  {
   "cell_type": "code",
   "execution_count": null,
   "id": "26047c54",
   "metadata": {},
   "outputs": [],
   "source": [
    "for country, state in capital.items():\n",
    "    print(f\"Capital of {country} is {state}.\")"
   ]
  },
  {
   "cell_type": "code",
   "execution_count": null,
   "id": "0e10fd18",
   "metadata": {},
   "outputs": [],
   "source": [
    "for key in capital:\n",
    "    value=capital[key]\n",
    "    print(f\"Capital of {key} is {value}.\")"
   ]
  },
  {
   "cell_type": "code",
   "execution_count": null,
   "id": "43cbfa25",
   "metadata": {},
   "outputs": [],
   "source": [
    "number=12345\n",
    "for num in str(number):\n",
    "    num_int=int(num)\n",
    "    print(f\"Square of {num}={num_int**2}\")"
   ]
  },
  {
   "cell_type": "code",
   "execution_count": null,
   "id": "c3af1f12",
   "metadata": {},
   "outputs": [],
   "source": [
    "list(range(5))"
   ]
  },
  {
   "cell_type": "code",
   "execution_count": null,
   "id": "d8e76974",
   "metadata": {},
   "outputs": [],
   "source": [
    "#factorial\n",
    "n=int(input(\"Enter a number:\"))\n",
    "factorial=1\n",
    "for i in range(1,n+1):\n",
    "    factorial=factorial*i\n",
    "print(f\"{n}!={factorial}\")"
   ]
  },
  {
   "cell_type": "code",
   "execution_count": null,
   "id": "f440016b",
   "metadata": {},
   "outputs": [],
   "source": [
    "numbers = [66, -97, 54]\n",
    "for n in numbers:\n",
    "    if n<0:\n",
    "        print(\"The list contains a negative number.\")\n",
    "        break\n",
    "else:\n",
    "    print(\"The list doesn't contains any negative number.\")\n",
    "        "
   ]
  },
  {
   "cell_type": "markdown",
   "id": "52f7bbe2",
   "metadata": {},
   "source": [
    "# nested for loop"
   ]
  },
  {
   "cell_type": "code",
   "execution_count": null,
   "id": "699d7e32",
   "metadata": {},
   "outputs": [],
   "source": [
    "#prime numbers till 50\n",
    "print(\"Prime numbers till 50 :- \", end='')\n",
    "prime_nos=[]\n",
    "for n in range(2,51):\n",
    "    for c in range(2,n):\n",
    "        if n%c==0:\n",
    "            break\n",
    "    else:\n",
    "        prime_nos.append(n)\n",
    "print(*prime_nos, sep=', ')"
   ]
  },
  {
   "cell_type": "markdown",
   "id": "06ae84d5",
   "metadata": {},
   "source": [
    "# Enumerate\n"
   ]
  },
  {
   "cell_type": "code",
   "execution_count": null,
   "id": "66028f44",
   "metadata": {},
   "outputs": [],
   "source": [
    "fruits=['apple','banana','mango']\n",
    "for index,value in enumerate(fruits):\n",
    "    print(index,':',value)"
   ]
  },
  {
   "cell_type": "code",
   "execution_count": null,
   "id": "c0d971d8",
   "metadata": {},
   "outputs": [],
   "source": [
    "#maximum in a list of numbers and its index\n",
    "numbers=[5, 3, 8, 4, 6]\n",
    "max_value=0\n",
    "max_index=0\n",
    "for index,value in enumerate(numbers):\n",
    "    if value > max_value:\n",
    "        max_value = value\n",
    "        max_index = index\n",
    "print(\" the greatest number \" + str(max_value) + \" is at index \" + str(max_index))"
   ]
  },
  {
   "cell_type": "code",
   "execution_count": null,
   "id": "136cc477",
   "metadata": {},
   "outputs": [],
   "source": [
    "def print_pyramid(rows):\n",
    "    for i in range(rows):\n",
    "        print(\" \" * (rows - i - 1) + \"*\" * (2 * i + 1))\n",
    "rows=int(input(\"Enter the number of rows for the pyramid:\"))\n",
    "print_pyramid(rows)"
   ]
  },
  {
   "cell_type": "code",
   "execution_count": null,
   "id": "5e243cb5",
   "metadata": {},
   "outputs": [],
   "source": [
    "#function definition\n",
    "def square_7():\n",
    "    print(7*7)"
   ]
  },
  {
   "cell_type": "code",
   "execution_count": null,
   "id": "f57f8dd9",
   "metadata": {},
   "outputs": [],
   "source": [
    "#function call\n",
    "square_7()"
   ]
  },
  {
   "cell_type": "code",
   "execution_count": null,
   "id": "7a0b7158",
   "metadata": {},
   "outputs": [],
   "source": [
    "def cube(n):\n",
    "    return n**3"
   ]
  },
  {
   "cell_type": "code",
   "execution_count": null,
   "id": "f0a5e123",
   "metadata": {},
   "outputs": [],
   "source": [
    "cube(5)"
   ]
  },
  {
   "cell_type": "code",
   "execution_count": null,
   "id": "2d81e0d9",
   "metadata": {},
   "outputs": [],
   "source": [
    "cube(9)"
   ]
  },
  {
   "cell_type": "markdown",
   "id": "9c3537de",
   "metadata": {},
   "source": [
    "# Lambda"
   ]
  },
  {
   "cell_type": "code",
   "execution_count": null,
   "id": "325d9aaf",
   "metadata": {},
   "outputs": [],
   "source": [
    "#lambda Function: small Anonymous function, \n",
    "#can take any number of argument but can have only one expression\n",
    "#lambda argument:expression"
   ]
  },
  {
   "cell_type": "code",
   "execution_count": null,
   "id": "f835a2c3",
   "metadata": {},
   "outputs": [],
   "source": [
    "x=lambda a:a+10\n",
    "print(x(2))"
   ]
  },
  {
   "cell_type": "code",
   "execution_count": null,
   "id": "d5285d90",
   "metadata": {},
   "outputs": [],
   "source": [
    "x1=lambda a,b:a*b\n",
    "print(x1(5,6))"
   ]
  },
  {
   "cell_type": "code",
   "execution_count": null,
   "id": "e182543b",
   "metadata": {},
   "outputs": [],
   "source": [
    "x2=lambda a,b,c:a+b+c\n",
    "print(x2(2,3,4))"
   ]
  },
  {
   "cell_type": "code",
   "execution_count": null,
   "id": "08d85c41",
   "metadata": {},
   "outputs": [],
   "source": [
    "def myfun(n):\n",
    "    return lambda a:a*n #alllows to use 2 unknown"
   ]
  },
  {
   "cell_type": "code",
   "execution_count": null,
   "id": "d1ec80fd",
   "metadata": {},
   "outputs": [],
   "source": [
    "myfun1=myfun(2)\n",
    "print(myfun1(11))"
   ]
  },
  {
   "cell_type": "code",
   "execution_count": null,
   "id": "48d6a847",
   "metadata": {},
   "outputs": [],
   "source": [
    "x=myfun(2)\n",
    "x(20)"
   ]
  },
  {
   "cell_type": "code",
   "execution_count": null,
   "id": "8de33d57",
   "metadata": {},
   "outputs": [],
   "source": [
    "get_7_square=lambda:7*7\n",
    "get_7_square()"
   ]
  },
  {
   "cell_type": "code",
   "execution_count": null,
   "id": "c1d70c29",
   "metadata": {},
   "outputs": [],
   "source": [
    "power=lambda num,pow:num**pow"
   ]
  },
  {
   "cell_type": "code",
   "execution_count": null,
   "id": "f7428036",
   "metadata": {},
   "outputs": [],
   "source": [
    "power(4,2)"
   ]
  },
  {
   "cell_type": "code",
   "execution_count": null,
   "id": "ccf54f34",
   "metadata": {},
   "outputs": [],
   "source": [
    "power(10,3)"
   ]
  },
  {
   "cell_type": "code",
   "execution_count": null,
   "id": "23dc9440",
   "metadata": {},
   "outputs": [],
   "source": [
    "#To filter only even numbers from a list using lambda "
   ]
  },
  {
   "cell_type": "code",
   "execution_count": null,
   "id": "57900749",
   "metadata": {},
   "outputs": [],
   "source": [
    "numbers=range(1,11)\n",
    "print(\"List of numbers:\", list(numbers))"
   ]
  },
  {
   "cell_type": "code",
   "execution_count": null,
   "id": "b1c26103",
   "metadata": {},
   "outputs": [],
   "source": [
    "even_nos=list(filter(lambda n: n%2==0, numbers))\n",
    "print(\"Even numbers from the list:\",list(even_nos))"
   ]
  },
  {
   "cell_type": "code",
   "execution_count": null,
   "id": "d4dfce4c",
   "metadata": {},
   "outputs": [],
   "source": [
    "odd_nos=list(filter(lambda x: x%2!=0, numbers))\n",
    "print(\"Odd numbers from the list:\",list(odd_nos))"
   ]
  },
  {
   "cell_type": "markdown",
   "id": "0e8811d9",
   "metadata": {},
   "source": [
    "# MAP"
   ]
  },
  {
   "cell_type": "code",
   "execution_count": null,
   "id": "2aa1686a",
   "metadata": {},
   "outputs": [],
   "source": [
    "def double(n):\n",
    "    return n*2\n",
    "numbers=(1,2,3,4)\n",
    "result=map(double,numbers)\n",
    "print(list(result))"
   ]
  },
  {
   "cell_type": "code",
   "execution_count": null,
   "id": "2fb26f63",
   "metadata": {},
   "outputs": [],
   "source": [
    "#map and lambda\n",
    "numbers=(11,22,33,44,55)\n",
    "result=map(lambda x: x*2, numbers)\n",
    "print(list(result))"
   ]
  },
  {
   "cell_type": "code",
   "execution_count": null,
   "id": "ced2d92c",
   "metadata": {},
   "outputs": [],
   "source": [
    "#list of Strings\n",
    "languages=['Python','JavaScript','R','Scala','Java']\n",
    "#map() can apply built-in or user-defined functions to the list of strings individually\n",
    "length=list(map(len,languages))\n",
    "print(length)"
   ]
  },
  {
   "cell_type": "code",
   "execution_count": null,
   "id": "6c41300c",
   "metadata": {},
   "outputs": [],
   "source": [
    "#Square of even numbers from between 1 and 20 using lambda and map.\n",
    "even_nums=list(map(lambda n: n**2, filter(lambda n: n%2==0, range(1,21))))\n",
    "even_nums"
   ]
  },
  {
   "cell_type": "markdown",
   "id": "75ee908e",
   "metadata": {},
   "source": [
    "# Scope of variables"
   ]
  },
  {
   "cell_type": "code",
   "execution_count": null,
   "id": "94d34c86",
   "metadata": {},
   "outputs": [],
   "source": [
    "#Global Scope\n",
    "#Local Scope"
   ]
  },
  {
   "cell_type": "code",
   "execution_count": null,
   "id": "f7ad6ab4",
   "metadata": {},
   "outputs": [],
   "source": [
    "number=32 #global Scope\n",
    "def display_num():\n",
    "    number=99 #Local Scope\n",
    "    print(\"Number inside the function: \",number)\n",
    "display_num()\n",
    "print(\"Number Outside the Function:\",number)\n",
    "    "
   ]
  },
  {
   "cell_type": "markdown",
   "id": "545cb669",
   "metadata": {},
   "source": [
    "# Function in a for loop"
   ]
  },
  {
   "cell_type": "code",
   "execution_count": null,
   "id": "5ec26976",
   "metadata": {},
   "outputs": [],
   "source": [
    "msg=\"Hi!\"\n",
    "def sayHello():\n",
    "    msg=\"Hello!\"\n",
    "    print(msg)\n",
    "    \n",
    "def sayGoodbye():\n",
    "    msg=\"Goodbye!\"\n",
    "    print(msg)\n",
    "    \n",
    "for i in range(3):\n",
    "    sayHello()\n",
    "for j in range(2):\n",
    "    sayGoodbye()\n",
    "    \n",
    "print(msg)"
   ]
  },
  {
   "cell_type": "code",
   "execution_count": null,
   "id": "9de91b80",
   "metadata": {},
   "outputs": [],
   "source": [
    "def message():\n",
    "    word=\"Coding in Python is fun!\"  #local variable --it can't be accessed outsie the function\n",
    "    print(word)\n",
    "message()\n",
    "print(word)"
   ]
  },
  {
   "cell_type": "code",
   "execution_count": null,
   "id": "3dd2cf77",
   "metadata": {},
   "outputs": [],
   "source": [
    "word=\"I love Python\"  #global variable\n",
    "message()\n",
    "print(word)"
   ]
  },
  {
   "cell_type": "markdown",
   "id": "a4d41cbc",
   "metadata": {},
   "source": [
    "# Global keyword"
   ]
  },
  {
   "cell_type": "code",
   "execution_count": null,
   "id": "f74c3cd3",
   "metadata": {},
   "outputs": [],
   "source": [
    "def message():\n",
    "    #'Global' gives global scope to a local variable\n",
    "    global msg\n",
    "    msg=\"Coding in Python is fun!\"  #local variable\n",
    "    print(msg)\n",
    "    \n",
    "message()\n",
    "print(msg)"
   ]
  },
  {
   "cell_type": "code",
   "execution_count": null,
   "id": "2e223ffe",
   "metadata": {},
   "outputs": [],
   "source": [
    "def outer_fun():\n",
    "    word=\"Hello\"  #local variable\n",
    "    def inner_fun():\n",
    "        word=\"World\"\n",
    "        print(\"Inner function:\",word)\n",
    "    inner_fun()\n",
    "    print(\"outer function:\",word)\n",
    "outer_fun()"
   ]
  },
  {
   "cell_type": "code",
   "execution_count": null,
   "id": "d51bbe25",
   "metadata": {},
   "outputs": [],
   "source": [
    "def outer_fun():\n",
    "    word=\"Hello\"  #local variable\n",
    "    def inner_fun():\n",
    "        nonlocal word\n",
    "        word=\"World\"\n",
    "        print(\"Inner function:\",word)\n",
    "    inner_fun()\n",
    "    print(\"outer function:\",word)\n",
    "outer_fun()"
   ]
  },
  {
   "cell_type": "code",
   "execution_count": null,
   "id": "349d139e",
   "metadata": {},
   "outputs": [],
   "source": [
    "x=\"Awesome\"\n",
    "def myfunc():\n",
    "    x=\"Object Oriented Language\"\n",
    "    print(\"Python is \" + x)\n",
    "myfunc()\n",
    "print(\"Python is \" + x)"
   ]
  },
  {
   "cell_type": "code",
   "execution_count": null,
   "id": "1f5e4c58",
   "metadata": {},
   "outputs": [],
   "source": [
    "def main():\n",
    "    integ=20\n",
    "    def inner():\n",
    "        global integ\n",
    "        integ=25\n",
    "    print(\"Before calling bar:\",integ)\n",
    "    print(\"Calling bar now\")\n",
    "    inner()\n",
    "    print(\"After calling bar:\",integ)\n",
    "    \n",
    "main()\n",
    "print(\"integ in mainn:\",integ)"
   ]
  },
  {
   "cell_type": "markdown",
   "id": "440ca812",
   "metadata": {},
   "source": [
    "# User Defined Module"
   ]
  },
  {
   "cell_type": "code",
   "execution_count": 214,
   "id": "8862fe1b",
   "metadata": {},
   "outputs": [],
   "source": [
    "# write the code for which we want to generate the module \n",
    "# Copy that code in text file \n",
    "# Save it with \".py\" extension\n",
    "# import that module in jupyter where we have to use this module"
   ]
  },
  {
   "cell_type": "code",
   "execution_count": 1,
   "id": "0e4943b2",
   "metadata": {},
   "outputs": [],
   "source": [
    "import Addition_3 as ad3"
   ]
  },
  {
   "cell_type": "code",
   "execution_count": 2,
   "id": "88125427",
   "metadata": {},
   "outputs": [
    {
     "name": "stdout",
     "output_type": "stream",
     "text": [
      "633\n"
     ]
    }
   ],
   "source": [
    "ad3.add_new(111,211,311)"
   ]
  },
  {
   "cell_type": "code",
   "execution_count": 3,
   "id": "3938280d",
   "metadata": {},
   "outputs": [
    {
     "name": "stdout",
     "output_type": "stream",
     "text": [
      "6000\n"
     ]
    }
   ],
   "source": [
    "ad3.mul_new(10,20,30)"
   ]
  },
  {
   "cell_type": "code",
   "execution_count": 6,
   "id": "e7cd3bc7",
   "metadata": {},
   "outputs": [
    {
     "name": "stdout",
     "output_type": "stream",
     "text": [
      "how many numbers:3\n",
      "enter number:10\n",
      "enter number:20\n",
      "enter number:30\n",
      "Average of  3 number is: 20.0\n"
     ]
    }
   ],
   "source": [
    "num=int(input(\"how many numbers:\"))\n",
    "total=0\n",
    "for i in range(num):\n",
    "    number=float(input(\"enter number:\"))\n",
    "    total+=number\n",
    "avg=total/num\n",
    "print(\"Average of \",num,\"number is:\",avg)"
   ]
  },
  {
   "cell_type": "code",
   "execution_count": 26,
   "id": "366ec600",
   "metadata": {},
   "outputs": [],
   "source": [
    "import os "
   ]
  },
  {
   "cell_type": "code",
   "execution_count": 27,
   "id": "419195fb",
   "metadata": {},
   "outputs": [
    {
     "data": {
      "text/plain": [
       "'C:\\\\Users\\\\Admin\\\\Documents\\\\GitHub\\\\edu-python'"
      ]
     },
     "execution_count": 27,
     "metadata": {},
     "output_type": "execute_result"
    }
   ],
   "source": [
    "os.getcwd()"
   ]
  },
  {
   "cell_type": "code",
   "execution_count": 28,
   "id": "e422b4f9",
   "metadata": {},
   "outputs": [],
   "source": [
    "path=os.getcwd()"
   ]
  },
  {
   "cell_type": "code",
   "execution_count": 29,
   "id": "cc7593cc",
   "metadata": {},
   "outputs": [
    {
     "data": {
      "text/plain": [
       "'C:\\\\Users\\\\Admin\\\\Documents\\\\GitHub\\\\edu-python'"
      ]
     },
     "execution_count": 29,
     "metadata": {},
     "output_type": "execute_result"
    }
   ],
   "source": [
    "path"
   ]
  },
  {
   "cell_type": "code",
   "execution_count": 30,
   "id": "73de8f6e",
   "metadata": {},
   "outputs": [
    {
     "data": {
      "text/plain": [
       "['.git',\n",
       " '.ipynb_checkpoints',\n",
       " 'Addition_3.py',\n",
       " 'Python_Basics1.ipynb',\n",
       " '__pycache__']"
      ]
     },
     "execution_count": 30,
     "metadata": {},
     "output_type": "execute_result"
    }
   ],
   "source": [
    "os.listdir(path)"
   ]
  },
  {
   "cell_type": "code",
   "execution_count": 31,
   "id": "a1b34ce4",
   "metadata": {},
   "outputs": [],
   "source": [
    "directory=\"india\""
   ]
  },
  {
   "cell_type": "code",
   "execution_count": 35,
   "id": "d9e807dc",
   "metadata": {},
   "outputs": [],
   "source": [
    "p=os.path.join(path,directory)"
   ]
  },
  {
   "cell_type": "code",
   "execution_count": 36,
   "id": "5ec2a83f",
   "metadata": {},
   "outputs": [],
   "source": [
    "os.mkdir(p) #make directory"
   ]
  },
  {
   "cell_type": "code",
   "execution_count": 38,
   "id": "6e6e7f87",
   "metadata": {},
   "outputs": [
    {
     "data": {
      "text/plain": [
       "['.git',\n",
       " '.ipynb_checkpoints',\n",
       " 'Addition_3.py',\n",
       " 'india',\n",
       " 'Python_Basics1.ipynb',\n",
       " '__pycache__']"
      ]
     },
     "execution_count": 38,
     "metadata": {},
     "output_type": "execute_result"
    }
   ],
   "source": [
    "os.listdir(path)"
   ]
  },
  {
   "cell_type": "code",
   "execution_count": 39,
   "id": "2b51dbde",
   "metadata": {},
   "outputs": [],
   "source": [
    "s='nisha'"
   ]
  },
  {
   "cell_type": "code",
   "execution_count": 41,
   "id": "5d65076a",
   "metadata": {},
   "outputs": [],
   "source": [
    "p=os.path.join(path,s)"
   ]
  },
  {
   "cell_type": "code",
   "execution_count": 42,
   "id": "6ddf11a8",
   "metadata": {},
   "outputs": [],
   "source": [
    "os.mkdir(p) #make directory"
   ]
  },
  {
   "cell_type": "code",
   "execution_count": 43,
   "id": "a10aea26",
   "metadata": {},
   "outputs": [
    {
     "data": {
      "text/plain": [
       "['.git',\n",
       " '.ipynb_checkpoints',\n",
       " 'Addition_3.py',\n",
       " 'india',\n",
       " 'nisha',\n",
       " 'Python_Basics1.ipynb',\n",
       " '__pycache__']"
      ]
     },
     "execution_count": 43,
     "metadata": {},
     "output_type": "execute_result"
    }
   ],
   "source": [
    "os.listdir(path)"
   ]
  },
  {
   "cell_type": "code",
   "execution_count": 44,
   "id": "cb6068b4",
   "metadata": {},
   "outputs": [],
   "source": [
    "#os rmdir(p)\n",
    "os.rmdir(directory)"
   ]
  },
  {
   "cell_type": "code",
   "execution_count": 45,
   "id": "a3ff31f3",
   "metadata": {},
   "outputs": [
    {
     "data": {
      "text/plain": [
       "['.git',\n",
       " '.ipynb_checkpoints',\n",
       " 'Addition_3.py',\n",
       " 'nisha',\n",
       " 'Python_Basics1.ipynb',\n",
       " '__pycache__']"
      ]
     },
     "execution_count": 45,
     "metadata": {},
     "output_type": "execute_result"
    }
   ],
   "source": [
    "os.listdir(path)"
   ]
  },
  {
   "cell_type": "code",
   "execution_count": 46,
   "id": "7ff59b47",
   "metadata": {},
   "outputs": [],
   "source": [
    "#os rmdir(p)\n",
    "os.rmdir(s)"
   ]
  },
  {
   "cell_type": "code",
   "execution_count": 47,
   "id": "89c0e062",
   "metadata": {},
   "outputs": [
    {
     "data": {
      "text/plain": [
       "['.git',\n",
       " '.ipynb_checkpoints',\n",
       " 'Addition_3.py',\n",
       " 'Python_Basics1.ipynb',\n",
       " '__pycache__']"
      ]
     },
     "execution_count": 47,
     "metadata": {},
     "output_type": "execute_result"
    }
   ],
   "source": [
    "os.listdir(path)"
   ]
  },
  {
   "cell_type": "code",
   "execution_count": 51,
   "id": "be1bad70",
   "metadata": {},
   "outputs": [],
   "source": [
    "#WAP to accept 3 integers from the user and without using any logical operator and cascading of relational operators , find out the greatest number amongst them.\n",
    "def maximum(a,b,c):\n",
    "    print(\"The greatest number:\",max(a,b,c))"
   ]
  },
  {
   "cell_type": "code",
   "execution_count": 52,
   "id": "fd7c0c04",
   "metadata": {},
   "outputs": [
    {
     "name": "stdout",
     "output_type": "stream",
     "text": [
      "The greatest number: 25\n"
     ]
    }
   ],
   "source": [
    "maximum(10,15,25)"
   ]
  },
  {
   "cell_type": "code",
   "execution_count": null,
   "id": "c63e3d7d",
   "metadata": {},
   "outputs": [],
   "source": [
    "##WAP to accept 3 integers from the user and without using any logical operator and without using any logical operator and cascading of relational operators , find out the greatest number amongst them."
   ]
  },
  {
   "cell_type": "code",
   "execution_count": 13,
   "id": "f50d920e",
   "metadata": {},
   "outputs": [
    {
     "name": "stdout",
     "output_type": "stream",
     "text": [
      "Enter a number (0 to quit): 14\n",
      "Enter a number (0 to quit): 15\n",
      "Enter a number (0 to quit): 0\n",
      "Sum of the entered numbers: 29\n"
     ]
    }
   ],
   "source": [
    "#Write a program to continuously accept integers from the user until the user types 0 and as soon as 0 is entered display sum of all the nos entered before 0\n",
    "def main():\n",
    "    sum = 0\n",
    "\n",
    "    while True:\n",
    "        x = int(input(\"Enter a number (0 to quit): \"))\n",
    "        sum = sum + x\n",
    "        \n",
    "        if x == 0:\n",
    "            break\n",
    "    \n",
    "    print(\"Sum of the entered numbers:\", sum)\n",
    "\n",
    "main()"
   ]
  },
  {
   "cell_type": "code",
   "execution_count": 54,
   "id": "f242aabb",
   "metadata": {},
   "outputs": [
    {
     "name": "stdout",
     "output_type": "stream",
     "text": [
      "10\n",
      "15\n",
      "45\n",
      "0\n",
      "Sum of all entered number:  70.0\n"
     ]
    }
   ],
   "source": [
    "count = 0\n",
    "sum = 0.0\n",
    "num = 1\n",
    "while num != 0:\n",
    "\tnum = int(input(\"\"))\n",
    "\tsum = sum + num\n",
    "\tcount += 1\n",
    "print(\"Sum of all entered number: \",  sum)"
   ]
  },
  {
   "cell_type": "code",
   "execution_count": 56,
   "id": "c7fdb0b9",
   "metadata": {},
   "outputs": [
    {
     "name": "stdout",
     "output_type": "stream",
     "text": [
      "Enter The Number: 10000\n",
      "50005000\n"
     ]
    }
   ],
   "source": [
    "#Write a program to accept an integer from the user and display the sum of all the numbers from 1 to that number\n",
    "num = int(input(\"Enter The Number: \"))\n",
    "total_sum = 0\n",
    "for i in range(1, num + 1):\n",
    "    total_sum += i\n",
    "print(total_sum)"
   ]
  },
  {
   "cell_type": "code",
   "execution_count": 66,
   "id": "5992d25f",
   "metadata": {},
   "outputs": [
    {
     "name": "stdout",
     "output_type": "stream",
     "text": [
      "****\n",
      "***\n",
      "**\n",
      "*\n"
     ]
    }
   ],
   "source": [
    "# WAP for the given pattern\n",
    "#****\n",
    "#***\n",
    "#**\n",
    "#*\n",
    "\n",
    "\n",
    "def pattern(n):\n",
    "    for i in range(n, 0, -1):\n",
    "        print('*' * i)\n",
    "pattern(4)"
   ]
  },
  {
   "cell_type": "code",
   "execution_count": 5,
   "id": "30ae5322",
   "metadata": {},
   "outputs": [
    {
     "name": "stdout",
     "output_type": "stream",
     "text": [
      "*\n",
      "**\n",
      "***\n",
      "****\n",
      "*****\n"
     ]
    }
   ],
   "source": [
    "#WAP for the given pattern\n",
    "#*\n",
    "#**\n",
    "#***\n",
    "#****\n",
    "#*****\n",
    "def pattern(n):\n",
    "    for i in range(1, n+1):\n",
    "        print('*' * i)\n",
    "pattern(5)"
   ]
  },
  {
   "cell_type": "code",
   "execution_count": 6,
   "id": "f2870a46",
   "metadata": {},
   "outputs": [],
   "source": [
    "#Write a program that asks the user to enter his/her name and age. Print out a message , displaying the user’s name along with the year in which they will turn 100 years old."
   ]
  }
 ],
 "metadata": {
  "kernelspec": {
   "display_name": "Python 3 (ipykernel)",
   "language": "python",
   "name": "python3"
  },
  "language_info": {
   "codemirror_mode": {
    "name": "ipython",
    "version": 3
   },
   "file_extension": ".py",
   "mimetype": "text/x-python",
   "name": "python",
   "nbconvert_exporter": "python",
   "pygments_lexer": "ipython3",
   "version": "3.9.12"
  }
 },
 "nbformat": 4,
 "nbformat_minor": 5
}

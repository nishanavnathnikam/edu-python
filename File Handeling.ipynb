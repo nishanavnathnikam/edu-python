{
 "cells": [
  {
   "cell_type": "code",
   "execution_count": 1,
   "id": "1e6d105a",
   "metadata": {},
   "outputs": [],
   "source": [
    "import os"
   ]
  },
  {
   "cell_type": "code",
   "execution_count": 3,
   "id": "5919964f",
   "metadata": {},
   "outputs": [
    {
     "data": {
      "text/plain": [
       "'C:\\\\Users\\\\Admin\\\\Documents\\\\GitHub\\\\edu-python'"
      ]
     },
     "execution_count": 3,
     "metadata": {},
     "output_type": "execute_result"
    }
   ],
   "source": [
    "os.getcwd()"
   ]
  },
  {
   "cell_type": "code",
   "execution_count": 4,
   "id": "a7db67db",
   "metadata": {},
   "outputs": [],
   "source": [
    "#open,colse\n",
    "#write(w)\n",
    "#append(a)\n",
    "#read(r)"
   ]
  },
  {
   "cell_type": "markdown",
   "id": "2b251f03",
   "metadata": {},
   "source": [
    "# Open-Reading Mode"
   ]
  },
  {
   "cell_type": "code",
   "execution_count": 14,
   "id": "0c22e903",
   "metadata": {},
   "outputs": [
    {
     "name": "stdout",
     "output_type": "stream",
     "text": [
      "<_io.TextIOWrapper name='nisha_file.txt' mode='r' encoding='cp1252'>\n"
     ]
    }
   ],
   "source": [
    "file=open(\"nisha_file.txt\",'r')#if file in current directory directly call by name\n",
    "print(file)"
   ]
  },
  {
   "cell_type": "code",
   "execution_count": 15,
   "id": "534cb2cc",
   "metadata": {},
   "outputs": [
    {
     "name": "stdout",
     "output_type": "stream",
     "text": [
      "<_io.TextIOWrapper name='C:\\\\Users\\\\Admin\\\\Desktop\\\\Nisha\\\\nisha_file.txt' mode='r' encoding='cp1252'>\n"
     ]
    }
   ],
   "source": [
    "file_1=open(\"C:\\\\Users\\\\Admin\\\\Desktop\\\\Nisha\\\\nisha_file.txt\",'r')#if txt not in current directory give address and change \\ to / or \\\\ or use r before \"D\n",
    "print(file_1)"
   ]
  },
  {
   "cell_type": "code",
   "execution_count": 17,
   "id": "548ba6bf",
   "metadata": {},
   "outputs": [
    {
     "name": "stdout",
     "output_type": "stream",
     "text": [
      "Python is a popular programming language.\n",
      "\n",
      "\n",
      "\n",
      "Python can be used on a server to create web applications.\n"
     ]
    }
   ],
   "source": [
    "for each_row in file: #inside directory \n",
    "    print(each_row)"
   ]
  },
  {
   "cell_type": "code",
   "execution_count": 18,
   "id": "f3ae988d",
   "metadata": {},
   "outputs": [
    {
     "name": "stdout",
     "output_type": "stream",
     "text": [
      "Python is a popular programming language. It was created by Guido van Rossum, and released in 1991.\n"
     ]
    }
   ],
   "source": [
    "for each_row1 in file_1: #outside directory\n",
    "    print(each_row1)"
   ]
  },
  {
   "cell_type": "markdown",
   "id": "f0a65860",
   "metadata": {},
   "source": [
    "# writing(w)"
   ]
  },
  {
   "cell_type": "code",
   "execution_count": 20,
   "id": "697c0da5",
   "metadata": {},
   "outputs": [],
   "source": [
    "f_1=open(\"nisha_file.txt\",'w')#data will get over write\n",
    "f_1.write(\"India is my country.\") #we can also add multiple statement\n",
    "f_1.write(\"I proud to be an Indian. I am a girl\")\n",
    "f_1.close()   #data is overrriden and always use close to clear memory space"
   ]
  },
  {
   "cell_type": "code",
   "execution_count": 21,
   "id": "9f37e449",
   "metadata": {},
   "outputs": [],
   "source": [
    "f_1=open(\"C:\\\\Users\\\\Admin\\\\Desktop\\\\Nisha\\\\nisha_file.txt\",'w')#data will get over write\n",
    "f_1.write(\"Python is a popular programming language.\")#we can also add multiple statement\n",
    "f_1.write(\"Python can be used on a server to create web applications.\")\n",
    "f_1.close()  #data is overrriden and always use close to clear memory space"
   ]
  },
  {
   "cell_type": "code",
   "execution_count": 24,
   "id": "ec6c33c8",
   "metadata": {},
   "outputs": [
    {
     "name": "stdout",
     "output_type": "stream",
     "text": [
      "<_io.TextIOWrapper name='nisha_file.txt' mode='r' encoding='cp1252'>\n",
      "India is my country.I proud to be an Indian. I am a girl\n"
     ]
    }
   ],
   "source": [
    "f_2n=open(\"nisha_file.txt\",'r')\n",
    "print(f_2n)\n",
    "for i in f_2n:  #to see data in file\n",
    "    print(i)"
   ]
  },
  {
   "cell_type": "markdown",
   "id": "bbbe019c",
   "metadata": {},
   "source": [
    "##### create a new file writing mode"
   ]
  },
  {
   "cell_type": "code",
   "execution_count": 25,
   "id": "ff628f9c",
   "metadata": {},
   "outputs": [
    {
     "name": "stdout",
     "output_type": "stream",
     "text": [
      "<_io.TextIOWrapper name='EB_NEW.txt' mode='w' encoding='cp1252'>\n"
     ]
    }
   ],
   "source": [
    "f_a=open(\"EB_NEW.txt\",'w') #\n",
    "f_a.write(\"aaaaaaaaaaaaaaaa\")\n",
    "f_a.write(\"nnnnnnnnnnnnnnn\")\n",
    "print(f_a)\n",
    "f_a.close()"
   ]
  },
  {
   "cell_type": "code",
   "execution_count": 26,
   "id": "9ae7b147",
   "metadata": {},
   "outputs": [
    {
     "name": "stdout",
     "output_type": "stream",
     "text": [
      "<_io.TextIOWrapper name='C:\\\\Users\\\\Admin\\\\Desktop\\\\Nisha\\\\Anuja_file.txt' mode='w' encoding='cp1252'>\n"
     ]
    }
   ],
   "source": [
    "f_b=open(\"C:\\\\Users\\\\Admin\\\\Desktop\\\\Nisha\\\\Anuja_file.txt\",'w') #\n",
    "f_b.write(\"Nisha\")\n",
    "f_b.write(\"Nikam\")\n",
    "print(f_b)\n",
    "f_b.close()"
   ]
  },
  {
   "cell_type": "markdown",
   "id": "a1ffb843",
   "metadata": {},
   "source": [
    "# Append (a)"
   ]
  },
  {
   "cell_type": "code",
   "execution_count": 27,
   "id": "cb4a2885",
   "metadata": {},
   "outputs": [],
   "source": [
    "f_c1=open(\"nisha_file.txt\",'a')\n",
    "f_c1.write(\"Nisha Nikam\")\n",
    "f_c1.close()"
   ]
  },
  {
   "cell_type": "code",
   "execution_count": 28,
   "id": "3bfb8540",
   "metadata": {},
   "outputs": [
    {
     "name": "stdout",
     "output_type": "stream",
     "text": [
      "India is my country.I proud to be an Indian. I am a girlNisha Nikam\n"
     ]
    }
   ],
   "source": [
    "f_c1=open(\"nisha_file.txt\",'r')\n",
    "print(f_c1.read())\n",
    "f_c1.close()"
   ]
  },
  {
   "cell_type": "code",
   "execution_count": 32,
   "id": "4b97a385",
   "metadata": {},
   "outputs": [],
   "source": [
    "f_c1=open(\"C:\\\\Users\\\\Admin\\\\Desktop\\\\Nisha\\\\nisha_file.txt\",'a')\n",
    "f_c1.write(\"Anuja Kanawde\")\n",
    "f_c1.close()"
   ]
  },
  {
   "cell_type": "code",
   "execution_count": 34,
   "id": "d767c506",
   "metadata": {},
   "outputs": [
    {
     "name": "stdout",
     "output_type": "stream",
     "text": [
      "Python is a popular programming language.Python can be used on a server to create web applications.Anuja Kanawde\n"
     ]
    }
   ],
   "source": [
    "f_c1=open(\"C:\\\\Users\\\\Admin\\\\Desktop\\\\Nisha\\\\nisha_file.txt\",'r')\n",
    "print(f_c1.read())\n",
    "f_c1.close()"
   ]
  },
  {
   "cell_type": "code",
   "execution_count": 30,
   "id": "33c9f7e4",
   "metadata": {},
   "outputs": [],
   "source": [
    "f_c1=open(\"demo_1.txt\",'a')\n",
    "f_c1.write(\"Nisha Nikam\")\n",
    "f_c1.close()"
   ]
  },
  {
   "cell_type": "code",
   "execution_count": 31,
   "id": "2cc19d84",
   "metadata": {},
   "outputs": [],
   "source": [
    "f_c1=open(\"C:\\\\Users\\\\Admin\\\\Desktop\\\\Nisha\\\\demo.txt\",'a')\n",
    "f_c1.write(\"python is object oriented programming language\")\n",
    "f_c1.close()"
   ]
  },
  {
   "cell_type": "markdown",
   "id": "18c29a6e",
   "metadata": {},
   "source": [
    "# Read"
   ]
  },
  {
   "cell_type": "code",
   "execution_count": 1,
   "id": "ea8d3fca",
   "metadata": {},
   "outputs": [
    {
     "name": "stdout",
     "output_type": "stream",
     "text": [
      "<_io.TextIOWrapper name='python_f1.txt' mode='r' encoding='cp1252'>\n"
     ]
    }
   ],
   "source": [
    "file=open(\"python_f1.txt\",'r')#if file in current directory directly call by name\n",
    "print(file)"
   ]
  },
  {
   "cell_type": "code",
   "execution_count": 2,
   "id": "65fd7c50",
   "metadata": {},
   "outputs": [
    {
     "name": "stdout",
     "output_type": "stream",
     "text": [
      "Python is high level language. \n",
      "\n",
      "It is interpreter language.\n",
      "\n",
      "It is open source\n"
     ]
    }
   ],
   "source": [
    "for each_row in file: #inside directory \n",
    "    print(each_row)"
   ]
  },
  {
   "cell_type": "code",
   "execution_count": 3,
   "id": "358d9191",
   "metadata": {},
   "outputs": [
    {
     "name": "stdout",
     "output_type": "stream",
     "text": [
      "<_io.TextIOWrapper name='C:\\\\Users\\\\Admin\\\\Desktop\\\\Nisha\\\\python_f2.txt' mode='r' encoding='cp1252'>\n"
     ]
    }
   ],
   "source": [
    "file_1=open(\"C:\\\\Users\\\\Admin\\\\Desktop\\\\Nisha\\\\python_f2.txt\",'r')#if txt not in current directory give address and change \\ to / or \\\\ or use r before \"D\n",
    "print(file_1)"
   ]
  },
  {
   "cell_type": "code",
   "execution_count": 4,
   "id": "bf6a2445",
   "metadata": {},
   "outputs": [
    {
     "name": "stdout",
     "output_type": "stream",
     "text": [
      "ML in now in demand. \n",
      "\n",
      "Data is very important. \n",
      "\n",
      "Data is sensitive\n"
     ]
    }
   ],
   "source": [
    "for each_row in file_1: #inside directory \n",
    "    print(each_row)"
   ]
  },
  {
   "cell_type": "markdown",
   "id": "b3b1c436",
   "metadata": {},
   "source": [
    "# Write"
   ]
  },
  {
   "cell_type": "code",
   "execution_count": 5,
   "id": "739df061",
   "metadata": {},
   "outputs": [],
   "source": [
    "f_1=open(\"python_f1.txt\",'w')#data will get over write\n",
    "f_1.write(\"Python is a popular programming language.\") #we can also add multiple statement\n",
    "f_1.write(\"Python can be used on a server to create web applications.\")\n",
    "f_1.close()"
   ]
  },
  {
   "cell_type": "code",
   "execution_count": 6,
   "id": "9f259864",
   "metadata": {},
   "outputs": [
    {
     "name": "stdout",
     "output_type": "stream",
     "text": [
      "<_io.TextIOWrapper name='python_f1.txt' mode='r' encoding='cp1252'>\n",
      "Python is a popular programming language.Python can be used on a server to create web applications.\n"
     ]
    }
   ],
   "source": [
    "f_2n=open(\"python_f1.txt\",'r')\n",
    "print(f_2n)\n",
    "for i in f_2n:  #to see data in file\n",
    "    print(i)"
   ]
  },
  {
   "cell_type": "code",
   "execution_count": 8,
   "id": "b4599172",
   "metadata": {},
   "outputs": [],
   "source": [
    "f_1=open(\"C:\\\\Users\\\\Admin\\\\Desktop\\\\Nisha\\\\python_f2.txt\",'w')#data will get over write\n",
    "f_1.write(\"It is open source.\")#we can also add multiple statement\n",
    "f_1.write(\"It was created by Guido van Rossum, and released in 1991.\")\n",
    "f_1.close()  #data is overrriden and always use close to clear memory space"
   ]
  },
  {
   "cell_type": "code",
   "execution_count": 9,
   "id": "90a54150",
   "metadata": {},
   "outputs": [
    {
     "name": "stdout",
     "output_type": "stream",
     "text": [
      "<_io.TextIOWrapper name='C:\\\\Users\\\\Admin\\\\Desktop\\\\Nisha\\\\python_f2.txt' mode='r' encoding='cp1252'>\n",
      "It is open source.It was created by Guido van Rossum, and released in 1991.\n"
     ]
    }
   ],
   "source": [
    "f_2n=open(\"C:\\\\Users\\\\Admin\\\\Desktop\\\\Nisha\\\\python_f2.txt\",'r')\n",
    "print(f_2n)\n",
    "for i in f_2n:  #to see data in file\n",
    "    print(i)"
   ]
  },
  {
   "cell_type": "markdown",
   "id": "e17c547c",
   "metadata": {},
   "source": [
    "# Append"
   ]
  },
  {
   "cell_type": "code",
   "execution_count": 10,
   "id": "2b909079",
   "metadata": {},
   "outputs": [],
   "source": [
    "f_c1=open(\"python_f1.txt\",'a')\n",
    "f_c1.write(\"Nisha Nikam\")\n",
    "f_c1.close()"
   ]
  },
  {
   "cell_type": "code",
   "execution_count": 11,
   "id": "41065a9d",
   "metadata": {},
   "outputs": [
    {
     "name": "stdout",
     "output_type": "stream",
     "text": [
      "Python is a popular programming language.Python can be used on a server to create web applications.Nisha Nikam\n"
     ]
    }
   ],
   "source": [
    "f_c1=open(\"python_f1.txt\",'r')\n",
    "print(f_c1.read())\n",
    "f_c1.close()"
   ]
  },
  {
   "cell_type": "code",
   "execution_count": 12,
   "id": "6425aeb3",
   "metadata": {},
   "outputs": [],
   "source": [
    "f_c1=open(\"C:\\\\Users\\\\Admin\\\\Desktop\\\\Nisha\\\\python_f2.txt\",'a')\n",
    "f_c1.write(\"Anuja Kanawde\")\n",
    "f_c1.close()"
   ]
  },
  {
   "cell_type": "code",
   "execution_count": 13,
   "id": "b0949c06",
   "metadata": {},
   "outputs": [
    {
     "name": "stdout",
     "output_type": "stream",
     "text": [
      "It is open source.It was created by Guido van Rossum, and released in 1991.Anuja Kanawde\n"
     ]
    }
   ],
   "source": [
    "f_c1=open(\"C:\\\\Users\\\\Admin\\\\Desktop\\\\Nisha\\\\python_f2.txt\",'r')\n",
    "print(f_c1.read())\n",
    "f_c1.close()"
   ]
  },
  {
   "cell_type": "markdown",
   "id": "0083798a",
   "metadata": {},
   "source": [
    "# 2nd method \"With\""
   ]
  },
  {
   "cell_type": "code",
   "execution_count": 14,
   "id": "4369397d",
   "metadata": {},
   "outputs": [
    {
     "name": "stdout",
     "output_type": "stream",
     "text": [
      "India is my country.I proud to be an Indian. I am a girlNisha Nikam\n"
     ]
    }
   ],
   "source": [
    "with open(\"nisha_file.txt\") as file_4:\n",
    "    data=file_4.read()\n",
    "print(data)"
   ]
  },
  {
   "cell_type": "code",
   "execution_count": 15,
   "id": "48cd345f",
   "metadata": {},
   "outputs": [],
   "source": [
    "with open(\"nisha_file.txt\",\"w\") as file_5:\n",
    "    file_5.write(\"Good Morning\")"
   ]
  },
  {
   "cell_type": "code",
   "execution_count": 16,
   "id": "80e9ef73",
   "metadata": {},
   "outputs": [
    {
     "name": "stdout",
     "output_type": "stream",
     "text": [
      "Good Morning\n"
     ]
    }
   ],
   "source": [
    "with open(\"nisha_file.txt\") as file_6:\n",
    "    data=file_6.read()\n",
    "print(data)"
   ]
  },
  {
   "cell_type": "code",
   "execution_count": 17,
   "id": "ae1534d1",
   "metadata": {},
   "outputs": [
    {
     "name": "stdout",
     "output_type": "stream",
     "text": [
      "['Good', 'Morning']\n"
     ]
    }
   ],
   "source": [
    "with open(\"nisha_file.txt\",\"r\") as f1:\n",
    "    data=f1.readlines()\n",
    "    for i in data:\n",
    "        word=i.split()\n",
    "        print(word)"
   ]
  },
  {
   "cell_type": "code",
   "execution_count": 18,
   "id": "9611b838",
   "metadata": {},
   "outputs": [],
   "source": [
    "with open(\"nisha_file.txt\",\"a\") as file_7:\n",
    "    file_7.write(\"  Good Morning all\")"
   ]
  },
  {
   "cell_type": "code",
   "execution_count": null,
   "id": "1066310e",
   "metadata": {},
   "outputs": [],
   "source": [
    "with open(\"nisha_file.txt\") as file_7:\n",
    "    data=file_7.read()\n",
    "print(data)"
   ]
  },
  {
   "cell_type": "code",
   "execution_count": 20,
   "id": "69b16a1a",
   "metadata": {},
   "outputs": [
    {
     "name": "stdout",
     "output_type": "stream",
     "text": [
      "['Good', 'Morning', 'Good', 'Morning', 'all']\n"
     ]
    }
   ],
   "source": [
    "with open(\"nisha_file.txt\",\"r\") as f1:\n",
    "    data=f1.readlines()\n",
    "    for i in data:\n",
    "        word=i.split()\n",
    "        print(word)"
   ]
  },
  {
   "cell_type": "code",
   "execution_count": null,
   "id": "39e036c2",
   "metadata": {},
   "outputs": [],
   "source": []
  }
 ],
 "metadata": {
  "kernelspec": {
   "display_name": "Python 3 (ipykernel)",
   "language": "python",
   "name": "python3"
  },
  "language_info": {
   "codemirror_mode": {
    "name": "ipython",
    "version": 3
   },
   "file_extension": ".py",
   "mimetype": "text/x-python",
   "name": "python",
   "nbconvert_exporter": "python",
   "pygments_lexer": "ipython3",
   "version": "3.9.12"
  }
 },
 "nbformat": 4,
 "nbformat_minor": 5
}
